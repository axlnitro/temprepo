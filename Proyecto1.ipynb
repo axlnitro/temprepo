{
 "cells": [
  {
   "cell_type": "markdown",
   "metadata": {
    "id": "E0vqbgi9ay0H"
   },
   "source": [
    "# Yandex.Music"
   ]
  },
  {
   "cell_type": "markdown",
   "metadata": {
    "id": "fhq_eyov_Zcs"
   },
   "source": [
    "# Contents <a id='back'></a>\n",
    "\n",
    "* [Introducción](#intro)\n",
    "* [Etapa 1. Descripción de los datos](#data_review)\n",
    "    * [Conclusions](#data_review_conclusions)\n",
    "* [Etapa 2. Data preprocessing](#data_preprocessing)\n",
    "    * [2.1 Estilo del encabezado](#header_style)\n",
    "    * [2.2 Valores ausentes](#missing_values)\n",
    "    * [2.3 Duplicados](#duplicates)\n",
    "    * [2.4 Conclusiones](#data_preprocessing_conclusions)\n",
    "* [Etapa 3. Prueba de hipótesis](#hypotheses)\n",
    "    * [3.1 Hipótesis 1: comparar el comportamiento del usuario en las dos ciudades](#activity)\n",
    "    * [3.2 Hipótesis 2: música al principio y al final de la semana](#week)\n",
    "    * [3.3 Hipótesis 3: preferencias de género en Springfield y Shelbyville](#genre)\n",
    "* [Conclusiones](#end)"
   ]
  },
  {
   "cell_type": "markdown",
   "metadata": {
    "id": "VUC88oWjTJw2"
   },
   "source": [
    "## Introducción <a id='intro'></a>\n",
    "Siempre que investiguemos, necesitamos formular hipótesis que después podamos probar. A veces aceptamos estas hipótesis; otras, las rechazamos. Para tomar las decisiones correctas, una empresa debe ser capaz de entender si está haciendo las suposiciones correctas.\n",
    "\n",
    "En este proyecto, compararás las preferencias musicales de las ciudades de Springfield y Shelbyville. Estudiarás datos reales de Yandex.Music para probar las hipótesis de abajo y comparar el comportamiento del usuario de esas dos ciudades.\n",
    "\n",
    "### Objetivo: \n",
    "Prueba tres hipótesis: \n",
    "1. La actividad de los usuarios difiere según el día de la semana y dependiendo de la ciudad. \n",
    "2. Los lunes por la mañana, los habitantes de Springfield y Shelbyville escuchan diferentes géneros. Lo mismo ocurre con los viernes por la noche. \n",
    "3. Los oyentes de Springfield y Shelbyville tienen preferencias distintas. En Springfield prefieren el pop mientras que en Shelbyville hay más aficionados al rap.\n",
    "\n",
    "### Etapas \n",
    "Los datos del comportamiento del usuario se almacenan en el archivo `/datasets/music_project_en.csv`. No hay ninguna información sobre la calidad de los datos así que necesitarás examinarlos antes de probar las hipótesis. \n",
    "\n",
    "Primero, evaluarás la calidad de los datos y verás si los problemas son significativos. Entonces, durante el preprocesamiento de datos, tomarás en cuenta los problemas más críticos.\n",
    " \n",
    "Tu proyecto consistirá en tres etapas:\n",
    " 1. Descripción de los datos\n",
    " 2. Preprocesamiento de datos\n",
    " 3. Prueba de hipótesis\n",
    " \n",
    "[Volver a Contenidos](#back)"
   ]
  },
  {
   "cell_type": "markdown",
   "metadata": {
    "id": "Ml1hmfXC_Zcs"
   },
   "source": [
    "## Etapa 1. Descripción de los datos <a id='data_review'></a>\n",
    "\n",
    "Abre los datos en Yandex.Music y examínalos."
   ]
  },
  {
   "cell_type": "markdown",
   "metadata": {
    "id": "57eAOGIz_Zcs"
   },
   "source": [
    "Necesitarás `pandas` así que impórtalo."
   ]
  },
  {
   "cell_type": "code",
   "execution_count": 89,
   "metadata": {
    "id": "AXN7PHPN_Zcs"
   },
   "outputs": [],
   "source": [
    "import pandas as pd # importando pandas\n"
   ]
  },
  {
   "cell_type": "markdown",
   "metadata": {
    "id": "SG23P8tt_Zcs"
   },
   "source": [
    "Lee el archivo `music_project_en.csv` de la carpeta `/datasets/` y guárdalo en la variable `df`:"
   ]
  },
  {
   "cell_type": "code",
   "execution_count": 90,
   "metadata": {
    "id": "fFVu7vqh_Zct"
   },
   "outputs": [
    {
     "data": {
      "text/html": [
       "<div>\n",
       "<style scoped>\n",
       "    .dataframe tbody tr th:only-of-type {\n",
       "        vertical-align: middle;\n",
       "    }\n",
       "\n",
       "    .dataframe tbody tr th {\n",
       "        vertical-align: top;\n",
       "    }\n",
       "\n",
       "    .dataframe thead th {\n",
       "        text-align: right;\n",
       "    }\n",
       "</style>\n",
       "<table border=\"1\" class=\"dataframe\">\n",
       "  <thead>\n",
       "    <tr style=\"text-align: right;\">\n",
       "      <th></th>\n",
       "      <th>userID</th>\n",
       "      <th>Track</th>\n",
       "      <th>artist</th>\n",
       "      <th>genre</th>\n",
       "      <th>City</th>\n",
       "      <th>time</th>\n",
       "      <th>Day</th>\n",
       "    </tr>\n",
       "  </thead>\n",
       "  <tbody>\n",
       "    <tr>\n",
       "      <th>count</th>\n",
       "      <td>65079</td>\n",
       "      <td>63736</td>\n",
       "      <td>57512</td>\n",
       "      <td>63881</td>\n",
       "      <td>65079</td>\n",
       "      <td>65079</td>\n",
       "      <td>65079</td>\n",
       "    </tr>\n",
       "    <tr>\n",
       "      <th>unique</th>\n",
       "      <td>41748</td>\n",
       "      <td>39666</td>\n",
       "      <td>37806</td>\n",
       "      <td>268</td>\n",
       "      <td>2</td>\n",
       "      <td>20392</td>\n",
       "      <td>3</td>\n",
       "    </tr>\n",
       "    <tr>\n",
       "      <th>top</th>\n",
       "      <td>A8AE9169</td>\n",
       "      <td>Brand</td>\n",
       "      <td>Kartvelli</td>\n",
       "      <td>pop</td>\n",
       "      <td>Springfield</td>\n",
       "      <td>21:51:22</td>\n",
       "      <td>Friday</td>\n",
       "    </tr>\n",
       "    <tr>\n",
       "      <th>freq</th>\n",
       "      <td>76</td>\n",
       "      <td>136</td>\n",
       "      <td>136</td>\n",
       "      <td>8850</td>\n",
       "      <td>45360</td>\n",
       "      <td>14</td>\n",
       "      <td>23149</td>\n",
       "    </tr>\n",
       "  </tbody>\n",
       "</table>\n",
       "</div>"
      ],
      "text/plain": [
       "          userID  Track     artist  genre       City        time     Day\n",
       "count      65079  63736      57512  63881        65079     65079   65079\n",
       "unique     41748  39666      37806    268            2     20392       3\n",
       "top     A8AE9169  Brand  Kartvelli    pop  Springfield  21:51:22  Friday\n",
       "freq          76    136        136   8850        45360        14   23149"
      ]
     },
     "execution_count": 90,
     "metadata": {},
     "output_type": "execute_result"
    }
   ],
   "source": [
    "df = pd.read_csv ('/datasets/music_project_en.csv') # leyendo el archivo y almacenándolo en df\n",
    "df.describe()"
   ]
  },
  {
   "cell_type": "markdown",
   "metadata": {
    "id": "rDoOMd3uTqnZ"
   },
   "source": [
    "Imprime las 10 primeras filas de la tabla:"
   ]
  },
  {
   "cell_type": "code",
   "execution_count": 91,
   "metadata": {
    "id": "oWTVX3gW_Zct"
   },
   "outputs": [
    {
     "data": {
      "text/html": [
       "<div>\n",
       "<style scoped>\n",
       "    .dataframe tbody tr th:only-of-type {\n",
       "        vertical-align: middle;\n",
       "    }\n",
       "\n",
       "    .dataframe tbody tr th {\n",
       "        vertical-align: top;\n",
       "    }\n",
       "\n",
       "    .dataframe thead th {\n",
       "        text-align: right;\n",
       "    }\n",
       "</style>\n",
       "<table border=\"1\" class=\"dataframe\">\n",
       "  <thead>\n",
       "    <tr style=\"text-align: right;\">\n",
       "      <th></th>\n",
       "      <th>userID</th>\n",
       "      <th>Track</th>\n",
       "      <th>artist</th>\n",
       "      <th>genre</th>\n",
       "      <th>City</th>\n",
       "      <th>time</th>\n",
       "      <th>Day</th>\n",
       "    </tr>\n",
       "  </thead>\n",
       "  <tbody>\n",
       "    <tr>\n",
       "      <th>0</th>\n",
       "      <td>FFB692EC</td>\n",
       "      <td>Kamigata To Boots</td>\n",
       "      <td>The Mass Missile</td>\n",
       "      <td>rock</td>\n",
       "      <td>Shelbyville</td>\n",
       "      <td>20:28:33</td>\n",
       "      <td>Wednesday</td>\n",
       "    </tr>\n",
       "    <tr>\n",
       "      <th>1</th>\n",
       "      <td>55204538</td>\n",
       "      <td>Delayed Because of Accident</td>\n",
       "      <td>Andreas Rönnberg</td>\n",
       "      <td>rock</td>\n",
       "      <td>Springfield</td>\n",
       "      <td>14:07:09</td>\n",
       "      <td>Friday</td>\n",
       "    </tr>\n",
       "    <tr>\n",
       "      <th>2</th>\n",
       "      <td>20EC38</td>\n",
       "      <td>Funiculì funiculà</td>\n",
       "      <td>Mario Lanza</td>\n",
       "      <td>pop</td>\n",
       "      <td>Shelbyville</td>\n",
       "      <td>20:58:07</td>\n",
       "      <td>Wednesday</td>\n",
       "    </tr>\n",
       "    <tr>\n",
       "      <th>3</th>\n",
       "      <td>A3DD03C9</td>\n",
       "      <td>Dragons in the Sunset</td>\n",
       "      <td>Fire + Ice</td>\n",
       "      <td>folk</td>\n",
       "      <td>Shelbyville</td>\n",
       "      <td>08:37:09</td>\n",
       "      <td>Monday</td>\n",
       "    </tr>\n",
       "    <tr>\n",
       "      <th>4</th>\n",
       "      <td>E2DC1FAE</td>\n",
       "      <td>Soul People</td>\n",
       "      <td>Space Echo</td>\n",
       "      <td>dance</td>\n",
       "      <td>Springfield</td>\n",
       "      <td>08:34:34</td>\n",
       "      <td>Monday</td>\n",
       "    </tr>\n",
       "    <tr>\n",
       "      <th>5</th>\n",
       "      <td>842029A1</td>\n",
       "      <td>Chains</td>\n",
       "      <td>Obladaet</td>\n",
       "      <td>rusrap</td>\n",
       "      <td>Shelbyville</td>\n",
       "      <td>13:09:41</td>\n",
       "      <td>Friday</td>\n",
       "    </tr>\n",
       "    <tr>\n",
       "      <th>6</th>\n",
       "      <td>4CB90AA5</td>\n",
       "      <td>True</td>\n",
       "      <td>Roman Messer</td>\n",
       "      <td>dance</td>\n",
       "      <td>Springfield</td>\n",
       "      <td>13:00:07</td>\n",
       "      <td>Wednesday</td>\n",
       "    </tr>\n",
       "    <tr>\n",
       "      <th>7</th>\n",
       "      <td>F03E1C1F</td>\n",
       "      <td>Feeling This Way</td>\n",
       "      <td>Polina Griffith</td>\n",
       "      <td>dance</td>\n",
       "      <td>Springfield</td>\n",
       "      <td>20:47:49</td>\n",
       "      <td>Wednesday</td>\n",
       "    </tr>\n",
       "    <tr>\n",
       "      <th>8</th>\n",
       "      <td>8FA1D3BE</td>\n",
       "      <td>L’estate</td>\n",
       "      <td>Julia Dalia</td>\n",
       "      <td>ruspop</td>\n",
       "      <td>Springfield</td>\n",
       "      <td>09:17:40</td>\n",
       "      <td>Friday</td>\n",
       "    </tr>\n",
       "    <tr>\n",
       "      <th>9</th>\n",
       "      <td>E772D5C0</td>\n",
       "      <td>Pessimist</td>\n",
       "      <td>NaN</td>\n",
       "      <td>dance</td>\n",
       "      <td>Shelbyville</td>\n",
       "      <td>21:20:49</td>\n",
       "      <td>Wednesday</td>\n",
       "    </tr>\n",
       "  </tbody>\n",
       "</table>\n",
       "</div>"
      ],
      "text/plain": [
       "     userID                        Track            artist   genre  \\\n",
       "0  FFB692EC            Kamigata To Boots  The Mass Missile    rock   \n",
       "1  55204538  Delayed Because of Accident  Andreas Rönnberg    rock   \n",
       "2    20EC38            Funiculì funiculà       Mario Lanza     pop   \n",
       "3  A3DD03C9        Dragons in the Sunset        Fire + Ice    folk   \n",
       "4  E2DC1FAE                  Soul People        Space Echo   dance   \n",
       "5  842029A1                       Chains          Obladaet  rusrap   \n",
       "6  4CB90AA5                         True      Roman Messer   dance   \n",
       "7  F03E1C1F             Feeling This Way   Polina Griffith   dance   \n",
       "8  8FA1D3BE                     L’estate       Julia Dalia  ruspop   \n",
       "9  E772D5C0                    Pessimist               NaN   dance   \n",
       "\n",
       "        City        time        Day  \n",
       "0  Shelbyville  20:28:33  Wednesday  \n",
       "1  Springfield  14:07:09     Friday  \n",
       "2  Shelbyville  20:58:07  Wednesday  \n",
       "3  Shelbyville  08:37:09     Monday  \n",
       "4  Springfield  08:34:34     Monday  \n",
       "5  Shelbyville  13:09:41     Friday  \n",
       "6  Springfield  13:00:07  Wednesday  \n",
       "7  Springfield  20:47:49  Wednesday  \n",
       "8  Springfield  09:17:40     Friday  \n",
       "9  Shelbyville  21:20:49  Wednesday  "
      ]
     },
     "execution_count": 91,
     "metadata": {},
     "output_type": "execute_result"
    }
   ],
   "source": [
    "(df.head(10))# obteniendo las 10 primeras filas de la tabla df"
   ]
  },
  {
   "cell_type": "markdown",
   "metadata": {
    "id": "EO73Kwic_Zct"
   },
   "source": [
    "Obtener la información general sobre la tabla con un comando:"
   ]
  },
  {
   "cell_type": "code",
   "execution_count": 92,
   "metadata": {
    "id": "DSf2kIb-_Zct",
    "scrolled": true
   },
   "outputs": [
    {
     "name": "stdout",
     "output_type": "stream",
     "text": [
      "<class 'pandas.core.frame.DataFrame'>\n",
      "RangeIndex: 65079 entries, 0 to 65078\n",
      "Data columns (total 7 columns):\n",
      " #   Column    Non-Null Count  Dtype \n",
      "---  ------    --------------  ----- \n",
      " 0     userID  65079 non-null  object\n",
      " 1   Track     63736 non-null  object\n",
      " 2   artist    57512 non-null  object\n",
      " 3   genre     63881 non-null  object\n",
      " 4     City    65079 non-null  object\n",
      " 5   time      65079 non-null  object\n",
      " 6   Day       65079 non-null  object\n",
      "dtypes: object(7)\n",
      "memory usage: 3.5+ MB\n"
     ]
    }
   ],
   "source": [
    "df.info()# obteniendo información general sobre los datos en df"
   ]
  },
  {
   "cell_type": "markdown",
   "metadata": {
    "id": "TaQ2Iwbr_Zct"
   },
   "source": [
    "La tabla contiene siete columnas. Todas almacenan el mismo tipo de datos: objeto.\n",
    "\n",
    "De acuerdo con la documentación:\n",
    "- `'userID'` — identificador del usuario\n",
    "- `'Track'` — título de la pista\n",
    "- `'artist'` — nombre del artista\n",
    "- `'genre'` — género\n",
    "- `'City'` — ciudad del usuario\n",
    "- `'time'` — el periodo de tiempo exacto en que se reprodujo la pista\n",
    "- `'Day'` — día de la semana\n",
    "\n",
    "Podemos ver tres problemas con el estilo en los nombres de las columnas:\n",
    "1. Algunos nombres están en mayúsculas, otros en minúsculas.\n",
    "2. Hay algunos espacios en algunos nombres.\n",
    "3. Claridad, cambiar 'time' por 'total_time' y 'day' por 'day_reproduced' `Detecta el tercer problema tú mismo y descríbelo aquí`.\n",
    "\n",
    "El número de valores de las columnas es diferente. Esto significa que los datos contienen valores ausentes.\n"
   ]
  },
  {
   "cell_type": "markdown",
   "metadata": {
    "id": "MCB6-dXG_Zct"
   },
   "source": [
    "### Conclusiones <a id='data_review_conclusions'></a> \n",
    "\n",
    "Cada fila de la tabla almacena datos de la pista que fue reproducida. Algunas columnas describen la pista en sí: su título, el artista y el género. El resto transmite la información del usuario: la ciudad de la que viene, el tiempo que ha reproducido la pista. \n",
    "\n",
    "Está claro que los datos son suficientes para probar la hipótesis. Sin embargo, hay valores ausentes.\n",
    "\n",
    "Para continuar, necesitamos preprocesar los datos."
   ]
  },
  {
   "cell_type": "markdown",
   "metadata": {
    "id": "3eL__vcwViOi"
   },
   "source": [
    "[Volver a Contenidos](#back)"
   ]
  },
  {
   "cell_type": "markdown",
   "metadata": {
    "id": "SjYF6Ub9_Zct"
   },
   "source": [
    "## Etapa 2. Preprocesamiento de datos <a id='data_preprocessing'></a>\n",
    "Corrige el formato en los encabezados de las columnas y ocúpate de los valores ausentes. Después, comprueba si hay duplicados en los datos."
   ]
  },
  {
   "cell_type": "markdown",
   "metadata": {
    "id": "dIaKXr29_Zct"
   },
   "source": [
    "### Estilo del encabezado <a id='header_style'></a>\n",
    "Imprime el encabezado de la columna:"
   ]
  },
  {
   "cell_type": "code",
   "execution_count": 93,
   "metadata": {
    "id": "oKOTdF_Q_Zct"
   },
   "outputs": [
    {
     "data": {
      "text/plain": [
       "Index(['  userID', 'Track', 'artist', 'genre', '  City  ', 'time', 'Day'], dtype='object')"
      ]
     },
     "execution_count": 93,
     "metadata": {},
     "output_type": "execute_result"
    }
   ],
   "source": [
    "(df.columns)# la lista de los nombres de las columnas en la tabla df"
   ]
  },
  {
   "cell_type": "markdown",
   "metadata": {
    "id": "zj5534cv_Zct"
   },
   "source": [
    "Cambia los nombres de las columnas de acuerdo con las reglas del buen estilo:\n",
    "* Si el nombre tiene varias palabras, utiliza snake_case\n",
    "* Todos los caracteres deben ser minúsculas\n",
    "* Elimina los espacios"
   ]
  },
  {
   "cell_type": "code",
   "execution_count": 94,
   "metadata": {
    "id": "ISlFqs5y_Zct"
   },
   "outputs": [
    {
     "data": {
      "text/plain": [
       "Index(['user_id', 'track', 'artist', 'genre', 'city', 'total_time',\n",
       "       'day_reproduced'],\n",
       "      dtype='object')"
      ]
     },
     "execution_count": 94,
     "metadata": {},
     "output_type": "execute_result"
    }
   ],
   "source": [
    "df = df.rename(\n",
    "    columns={\n",
    "        '  userID': 'user_id',\n",
    "        'Track': 'track',\n",
    "        '  City  ': 'city',\n",
    "        'time': 'total_time',\n",
    "        'Day': 'day_reproduced'\n",
    "    }\n",
    ")\n",
    "df.columns# renombra las columnas"
   ]
  },
  {
   "cell_type": "markdown",
   "metadata": {
    "id": "1dqbh00J_Zct"
   },
   "source": [
    "Comprueba el resultado. Imprime los nombres de las columnas una vez más:"
   ]
  },
  {
   "cell_type": "code",
   "execution_count": 95,
   "metadata": {
    "id": "d4NOAmTW_Zct",
    "scrolled": true
   },
   "outputs": [
    {
     "data": {
      "text/plain": [
       "Index(['user_id', 'track', 'artist', 'genre', 'city', 'total_time',\n",
       "       'day_reproduced'],\n",
       "      dtype='object')"
      ]
     },
     "execution_count": 95,
     "metadata": {},
     "output_type": "execute_result"
    }
   ],
   "source": [
    "df.columns# comprobando el resultado: la lista de los nombres de las columnas"
   ]
  },
  {
   "cell_type": "markdown",
   "metadata": {
    "id": "xYJk6ksJVpOl"
   },
   "source": [
    "[Volver a Contenidos](#back)"
   ]
  },
  {
   "cell_type": "markdown",
   "metadata": {
    "id": "5ISfbcfY_Zct"
   },
   "source": [
    "### Valores ausentes <a id='missing_values'></a>\n",
    "Primero encuentra el número de valores ausentes en la tabla. Para ello, utiliza dos métodos pandas:"
   ]
  },
  {
   "cell_type": "code",
   "execution_count": 96,
   "metadata": {
    "id": "RskX29qr_Zct"
   },
   "outputs": [
    {
     "data": {
      "text/plain": [
       "user_id              0\n",
       "track             1343\n",
       "artist            7567\n",
       "genre             1198\n",
       "city                 0\n",
       "total_time           0\n",
       "day_reproduced       0\n",
       "dtype: int64"
      ]
     },
     "execution_count": 96,
     "metadata": {},
     "output_type": "execute_result"
    }
   ],
   "source": [
    "(df.isna().sum()) \n",
    "\n",
    "\n",
    "(df.isnull().sum()) # calculando valores ausentes"
   ]
  },
  {
   "cell_type": "markdown",
   "metadata": {
    "id": "qubhgnlO_Zct"
   },
   "source": [
    "No todos los valores ausentes afectan a la investigación. Por ejemplo, los valores ausentes en la pista y artista no son cruciales. Simplemente puedes reemplazarlos por marcadores claros.\n",
    "\n",
    "Pero los valores ausentes en `'genre'` pueden afectar la comparación entre las preferencias musicales de Springfield y Shelbyville. En la vida real, sería útil saber las razones por las cuales hay datos ausentes e intentar recuperarlos. Pero no tenemos esa oportunidad en este proyecto. Así que tendrás que:\n",
    "* Rellenar esos valores ausentes con marcadores\n",
    "* Evaluar cuánto podrían afectar los valores ausentes a tus cómputos."
   ]
  },
  {
   "cell_type": "markdown",
   "metadata": {
    "id": "fSv2laPA_Zct"
   },
   "source": [
    "Reemplazar los valores ausentes en `'track'`, `'artist'`, y `'genre'` con la string `'unknown'`. Para ello, crea la lista `columns_to_replace`, recórrela con un bucle `for` y reemplaza los valores ausentes en cada una de las columnas:"
   ]
  },
  {
   "cell_type": "code",
   "execution_count": 97,
   "metadata": {
    "id": "KplB5qWs_Zct"
   },
   "outputs": [
    {
     "data": {
      "text/html": [
       "<div>\n",
       "<style scoped>\n",
       "    .dataframe tbody tr th:only-of-type {\n",
       "        vertical-align: middle;\n",
       "    }\n",
       "\n",
       "    .dataframe tbody tr th {\n",
       "        vertical-align: top;\n",
       "    }\n",
       "\n",
       "    .dataframe thead th {\n",
       "        text-align: right;\n",
       "    }\n",
       "</style>\n",
       "<table border=\"1\" class=\"dataframe\">\n",
       "  <thead>\n",
       "    <tr style=\"text-align: right;\">\n",
       "      <th></th>\n",
       "      <th>user_id</th>\n",
       "      <th>track</th>\n",
       "      <th>artist</th>\n",
       "      <th>genre</th>\n",
       "      <th>city</th>\n",
       "      <th>total_time</th>\n",
       "      <th>day_reproduced</th>\n",
       "    </tr>\n",
       "  </thead>\n",
       "  <tbody>\n",
       "    <tr>\n",
       "      <th>0</th>\n",
       "      <td>FFB692EC</td>\n",
       "      <td>Kamigata To Boots</td>\n",
       "      <td>The Mass Missile</td>\n",
       "      <td>rock</td>\n",
       "      <td>Shelbyville</td>\n",
       "      <td>20:28:33</td>\n",
       "      <td>Wednesday</td>\n",
       "    </tr>\n",
       "    <tr>\n",
       "      <th>1</th>\n",
       "      <td>55204538</td>\n",
       "      <td>Delayed Because of Accident</td>\n",
       "      <td>Andreas Rönnberg</td>\n",
       "      <td>rock</td>\n",
       "      <td>Springfield</td>\n",
       "      <td>14:07:09</td>\n",
       "      <td>Friday</td>\n",
       "    </tr>\n",
       "    <tr>\n",
       "      <th>2</th>\n",
       "      <td>20EC38</td>\n",
       "      <td>Funiculì funiculà</td>\n",
       "      <td>Mario Lanza</td>\n",
       "      <td>pop</td>\n",
       "      <td>Shelbyville</td>\n",
       "      <td>20:58:07</td>\n",
       "      <td>Wednesday</td>\n",
       "    </tr>\n",
       "    <tr>\n",
       "      <th>3</th>\n",
       "      <td>A3DD03C9</td>\n",
       "      <td>Dragons in the Sunset</td>\n",
       "      <td>Fire + Ice</td>\n",
       "      <td>folk</td>\n",
       "      <td>Shelbyville</td>\n",
       "      <td>08:37:09</td>\n",
       "      <td>Monday</td>\n",
       "    </tr>\n",
       "    <tr>\n",
       "      <th>4</th>\n",
       "      <td>E2DC1FAE</td>\n",
       "      <td>Soul People</td>\n",
       "      <td>Space Echo</td>\n",
       "      <td>dance</td>\n",
       "      <td>Springfield</td>\n",
       "      <td>08:34:34</td>\n",
       "      <td>Monday</td>\n",
       "    </tr>\n",
       "    <tr>\n",
       "      <th>...</th>\n",
       "      <td>...</td>\n",
       "      <td>...</td>\n",
       "      <td>...</td>\n",
       "      <td>...</td>\n",
       "      <td>...</td>\n",
       "      <td>...</td>\n",
       "      <td>...</td>\n",
       "    </tr>\n",
       "    <tr>\n",
       "      <th>65074</th>\n",
       "      <td>729CBB09</td>\n",
       "      <td>My Name</td>\n",
       "      <td>McLean</td>\n",
       "      <td>rnb</td>\n",
       "      <td>Springfield</td>\n",
       "      <td>13:32:28</td>\n",
       "      <td>Wednesday</td>\n",
       "    </tr>\n",
       "    <tr>\n",
       "      <th>65075</th>\n",
       "      <td>D08D4A55</td>\n",
       "      <td>Maybe One Day (feat. Black Spade)</td>\n",
       "      <td>Blu &amp; Exile</td>\n",
       "      <td>hip</td>\n",
       "      <td>Shelbyville</td>\n",
       "      <td>10:00:00</td>\n",
       "      <td>Monday</td>\n",
       "    </tr>\n",
       "    <tr>\n",
       "      <th>65076</th>\n",
       "      <td>C5E3A0D5</td>\n",
       "      <td>Jalopiina</td>\n",
       "      <td>unknown</td>\n",
       "      <td>industrial</td>\n",
       "      <td>Springfield</td>\n",
       "      <td>20:09:26</td>\n",
       "      <td>Friday</td>\n",
       "    </tr>\n",
       "    <tr>\n",
       "      <th>65077</th>\n",
       "      <td>321D0506</td>\n",
       "      <td>Freight Train</td>\n",
       "      <td>Chas McDevitt</td>\n",
       "      <td>rock</td>\n",
       "      <td>Springfield</td>\n",
       "      <td>21:43:59</td>\n",
       "      <td>Friday</td>\n",
       "    </tr>\n",
       "    <tr>\n",
       "      <th>65078</th>\n",
       "      <td>3A64EF84</td>\n",
       "      <td>Tell Me Sweet Little Lies</td>\n",
       "      <td>Monica Lopez</td>\n",
       "      <td>country</td>\n",
       "      <td>Springfield</td>\n",
       "      <td>21:59:46</td>\n",
       "      <td>Friday</td>\n",
       "    </tr>\n",
       "  </tbody>\n",
       "</table>\n",
       "<p>65079 rows × 7 columns</p>\n",
       "</div>"
      ],
      "text/plain": [
       "        user_id                              track            artist  \\\n",
       "0      FFB692EC                  Kamigata To Boots  The Mass Missile   \n",
       "1      55204538        Delayed Because of Accident  Andreas Rönnberg   \n",
       "2        20EC38                  Funiculì funiculà       Mario Lanza   \n",
       "3      A3DD03C9              Dragons in the Sunset        Fire + Ice   \n",
       "4      E2DC1FAE                        Soul People        Space Echo   \n",
       "...         ...                                ...               ...   \n",
       "65074  729CBB09                            My Name            McLean   \n",
       "65075  D08D4A55  Maybe One Day (feat. Black Spade)       Blu & Exile   \n",
       "65076  C5E3A0D5                          Jalopiina           unknown   \n",
       "65077  321D0506                      Freight Train     Chas McDevitt   \n",
       "65078  3A64EF84          Tell Me Sweet Little Lies      Monica Lopez   \n",
       "\n",
       "            genre         city total_time day_reproduced  \n",
       "0            rock  Shelbyville   20:28:33      Wednesday  \n",
       "1            rock  Springfield   14:07:09         Friday  \n",
       "2             pop  Shelbyville   20:58:07      Wednesday  \n",
       "3            folk  Shelbyville   08:37:09         Monday  \n",
       "4           dance  Springfield   08:34:34         Monday  \n",
       "...           ...          ...        ...            ...  \n",
       "65074         rnb  Springfield   13:32:28      Wednesday  \n",
       "65075         hip  Shelbyville   10:00:00         Monday  \n",
       "65076  industrial  Springfield   20:09:26         Friday  \n",
       "65077        rock  Springfield   21:43:59         Friday  \n",
       "65078     country  Springfield   21:59:46         Friday  \n",
       "\n",
       "[65079 rows x 7 columns]"
      ]
     },
     "execution_count": 97,
     "metadata": {},
     "output_type": "execute_result"
    }
   ],
   "source": [
    "columns_to_replace = ['track','artist','genre']\n",
    "\n",
    "for row in columns_to_replace:\n",
    "    df[columns_to_replace] = df[columns_to_replace].fillna('unknown')\n",
    "    \n",
    "df\n",
    "   \n",
    "    \n",
    "    \n",
    "    \n",
    "    \n",
    "    #df['columns_to_replace'] = df['columns_to_replace'].fillna('unknown')\n",
    "          \n",
    "\n",
    "# recorriendo los nombres de las columnas y reemplazando los valores ausentes con 'unknown'"
   ]
  },
  {
   "cell_type": "markdown",
   "metadata": {
    "id": "Ilsm-MZo_Zct"
   },
   "source": [
    "Asegúrate de que la tabla no contiene más valores ausentes. Cuenta de nuevo los valores ausentes."
   ]
  },
  {
   "cell_type": "markdown",
   "metadata": {
    "id": "74ZIBmq9VrsK"
   },
   "source": [
    "[Volver a Contenidos](#back)"
   ]
  },
  {
   "cell_type": "markdown",
   "metadata": {
    "id": "BWKRtBJ3_Zct"
   },
   "source": [
    "### Duplicados <a id='duplicates'></a>\n",
    "Encuentra el número de duplicados obvios en la tabla utilizando un comando:"
   ]
  },
  {
   "cell_type": "code",
   "execution_count": 98,
   "metadata": {
    "id": "Tq4nYRX4_Zct",
    "scrolled": true
   },
   "outputs": [
    {
     "data": {
      "text/plain": [
       "user_id           0\n",
       "track             0\n",
       "artist            0\n",
       "genre             0\n",
       "city              0\n",
       "total_time        0\n",
       "day_reproduced    0\n",
       "dtype: int64"
      ]
     },
     "execution_count": 98,
     "metadata": {},
     "output_type": "execute_result"
    }
   ],
   "source": [
    "(df.isna().sum()) # contando valores ausentes"
   ]
  },
  {
   "cell_type": "code",
   "execution_count": 99,
   "metadata": {
    "id": "36eES_S0_Zct"
   },
   "outputs": [
    {
     "data": {
      "text/plain": [
       "3826"
      ]
     },
     "execution_count": 99,
     "metadata": {},
     "output_type": "execute_result"
    }
   ],
   "source": [
    "(df.duplicated().sum())# contando duplicado obvios"
   ]
  },
  {
   "cell_type": "markdown",
   "metadata": {
    "id": "Ot25h6XR_Zct"
   },
   "source": [
    "Llama al método `pandas` para deshacerte de los duplicados obvios:"
   ]
  },
  {
   "cell_type": "code",
   "execution_count": 100,
   "metadata": {
    "id": "exFHq6tt_Zct"
   },
   "outputs": [],
   "source": [
    "df = df.drop_duplicates().reset_index(drop=True) # eliminando duplicados obvios"
   ]
  },
  {
   "cell_type": "markdown",
   "metadata": {
    "id": "Im2YwBEG_Zct"
   },
   "source": [
    "Cuenta los duplicados obvios una vez más para asegurarte de que todos han sido eliminados:"
   ]
  },
  {
   "cell_type": "code",
   "execution_count": 101,
   "metadata": {
    "id": "-8PuNWQ0_Zct"
   },
   "outputs": [
    {
     "data": {
      "text/plain": [
       "0"
      ]
     },
     "execution_count": 101,
     "metadata": {},
     "output_type": "execute_result"
    }
   ],
   "source": [
    "(df.duplicated().sum())# comprobando duplicados"
   ]
  },
  {
   "cell_type": "markdown",
   "metadata": {
    "id": "QlFBsxAr_Zct"
   },
   "source": [
    "Ahora deshazte de los duplicados implícitos en la columna genre. Por ejemplo, el nombre de un género se puede escribir de varias formas. Dichos errores también pueden afectar a resultado."
   ]
  },
  {
   "cell_type": "markdown",
   "metadata": {
    "id": "eSjWwsOh_Zct"
   },
   "source": [
    "Imprime una lista de nombres únicos de géneros, ordenados en orden alfabético. Cómo se hace:\n",
    "* Recupera la deseada columna DataFrame \n",
    "* Aplícale un método de orden\n",
    "* Para la columna ordenada, llama al método que te devolverá todos los valores de columna únicos"
   ]
  },
  {
   "cell_type": "code",
   "execution_count": 102,
   "metadata": {
    "id": "JIUcqzZN_Zct"
   },
   "outputs": [
    {
     "data": {
      "text/plain": [
       "array(['rock', 'pop', 'folk', 'dance', 'rusrap', 'ruspop', 'world',\n",
       "       'electronic', 'unknown', 'alternative', 'children', 'rnb', 'hip',\n",
       "       'jazz', 'postrock', 'latin', 'classical', 'metal', 'reggae',\n",
       "       'triphop', 'blues', 'instrumental', 'rusrock', 'dnb', 'türk',\n",
       "       'post', 'country', 'psychedelic', 'conjazz', 'indie',\n",
       "       'posthardcore', 'local', 'avantgarde', 'punk', 'videogame',\n",
       "       'techno', 'house', 'christmas', 'melodic', 'caucasian',\n",
       "       'reggaeton', 'soundtrack', 'singer', 'ska', 'salsa', 'ambient',\n",
       "       'film', 'western', 'rap', 'beats', \"hard'n'heavy\", 'progmetal',\n",
       "       'minimal', 'tropical', 'contemporary', 'new', 'soul', 'holiday',\n",
       "       'german', 'jpop', 'spiritual', 'urban', 'gospel', 'nujazz',\n",
       "       'folkmetal', 'trance', 'miscellaneous', 'anime', 'hardcore',\n",
       "       'progressive', 'korean', 'numetal', 'vocal', 'estrada', 'tango',\n",
       "       'loungeelectronic', 'classicmetal', 'dubstep', 'club', 'deep',\n",
       "       'southern', 'black', 'folkrock', 'fitness', 'french', 'disco',\n",
       "       'religious', 'hiphop', 'drum', 'extrememetal', 'türkçe',\n",
       "       'experimental', 'easy', 'metalcore', 'modern', 'argentinetango',\n",
       "       'old', 'swing', 'breaks', 'eurofolk', 'stonerrock', 'industrial',\n",
       "       'funk', 'middle', 'variété', 'other', 'adult', 'christian',\n",
       "       'thrash', 'gothic', 'international', 'muslim', 'relax', 'schlager',\n",
       "       'caribbean', 'nu', 'breakbeat', 'comedy', 'chill', 'newage',\n",
       "       'specialty', 'uzbek', 'k-pop', 'balkan', 'chinese', 'meditative',\n",
       "       'dub', 'power', 'death', 'grime', 'arabesk', 'romance', 'flamenco',\n",
       "       'leftfield', 'european', 'tech', 'newwave', 'dancehall', 'mpb',\n",
       "       'piano', 'top', 'bigroom', 'opera', 'celtic', 'tradjazz',\n",
       "       'acoustic', 'epicmetal', 'hip-hop', 'historisch', 'downbeat',\n",
       "       'downtempo', 'africa', 'audiobook', 'jewish', 'sängerportrait',\n",
       "       'deutschrock', 'eastern', 'action', 'future', 'electropop',\n",
       "       'folklore', 'bollywood', 'marschmusik', 'rnr', 'karaoke', 'indian',\n",
       "       'rancheras', 'afrikaans', 'rhythm', 'sound', 'deutschspr', 'trip',\n",
       "       'lovers', 'choral', 'dancepop', 'retro', 'smooth', 'mexican',\n",
       "       'brazilian', 'ïîï', 'mood', 'surf', 'gangsta', 'inspirational',\n",
       "       'idm', 'ethnic', 'bluegrass', 'broadway', 'animated', 'americana',\n",
       "       'karadeniz', 'rockabilly', 'colombian', 'self', 'hop', 'sertanejo',\n",
       "       'japanese', 'canzone', 'lounge', 'sport', 'ragga', 'traditional',\n",
       "       'gitarre', 'frankreich', 'emo', 'laiko', 'cantopop', 'glitch',\n",
       "       'documentary', 'oceania', 'popeurodance', 'dark', 'vi', 'grunge',\n",
       "       'hardstyle', 'samba', 'garage', 'art', 'folktronica', 'entehno',\n",
       "       'mediterranean', 'chamber', 'cuban', 'taraftar', 'gypsy',\n",
       "       'hardtechno', 'shoegazing', 'bossa', 'latino', 'worldbeat',\n",
       "       'malaysian', 'baile', 'ghazal', 'arabic', 'popelectronic', 'acid',\n",
       "       'kayokyoku', 'neoklassik', 'tribal', 'tanzorchester', 'native',\n",
       "       'independent', 'cantautori', 'handsup', 'punjabi', 'synthpop',\n",
       "       'rave', 'französisch', 'quebecois', 'speech', 'soulful', 'jam',\n",
       "       'ram', 'horror', 'orchestral', 'neue', 'roots', 'slow', 'jungle',\n",
       "       'indipop', 'axé', 'fado', 'showtunes', 'arena', 'irish',\n",
       "       'mandopop', 'forró', 'dirty', 'regional'], dtype=object)"
      ]
     },
     "execution_count": 102,
     "metadata": {},
     "output_type": "execute_result"
    }
   ],
   "source": [
    "df.genre.unique()# inspeccionando los nombres de géneros únicos"
   ]
  },
  {
   "cell_type": "markdown",
   "metadata": {
    "id": "qej-Qmuo_Zct"
   },
   "source": [
    "Busca en la lista para encontrar duplicados implícitos del género `hiphop`. Estos pueden ser nombres escritos incorrectamente o nombres alternativos para el mismo género.\n",
    "\n",
    "Verás los siguientes duplicados implícitos:\n",
    "* `hip`\n",
    "* `hop`\n",
    "* `hip-hop`\n",
    "\n",
    "Para deshacerte de ellos, declara la función `replace_wrong_genres()` con dos parámetros: \n",
    "* `wrong_genres=` — la lista de duplicados\n",
    "* `correct_genre=` — la string con el valor correcto\n",
    "\n",
    "La función debería corregir los nombres en la columna `'genre'` de la tabla `df`, es decir, remplaza cada valor de la lista `wrong_genres` con el valor en `correct_genre`."
   ]
  },
  {
   "cell_type": "code",
   "execution_count": 103,
   "metadata": {
    "id": "ErNDkmns_Zct"
   },
   "outputs": [],
   "source": [
    "def replace_wrong_genres(wrong_genres, correct_genre):\n",
    "    for wrong_genre in wrong_genres: \n",
    "        df['genre'] = df['genre'].replace(wrong_genre, correct_genre) # función para reemplazar duplicados implícitos"
   ]
  },
  {
   "cell_type": "markdown",
   "metadata": {
    "id": "aDoBJxbA_Zct"
   },
   "source": [
    "Llama a `replace_wrong_genres()` y pásale argumentos para que retire los duplicados implícitos (`hip`, `hop` y `hip-hop`) y los reemplace por `hiphop`:"
   ]
  },
  {
   "cell_type": "code",
   "execution_count": 104,
   "metadata": {
    "id": "YN5i2hpmSo09"
   },
   "outputs": [],
   "source": [
    "duplicates = ['hip', 'hop', 'hip-hop'] \n",
    "genre = 'hiphop' \n",
    "replace_wrong_genres(duplicates, genre)# eliminando duplicados implícitos"
   ]
  },
  {
   "cell_type": "markdown",
   "metadata": {
    "id": "zQKF16_RG15m"
   },
   "source": [
    "Asegúrate que los nombres duplicados han sido eliminados. Imprime la lista de valores únicos de la columna `'genre'`:"
   ]
  },
  {
   "cell_type": "code",
   "execution_count": 105,
   "metadata": {
    "id": "wvixALnFG15m"
   },
   "outputs": [
    {
     "data": {
      "text/plain": [
       "0              rock\n",
       "1              rock\n",
       "2               pop\n",
       "3              folk\n",
       "4             dance\n",
       "            ...    \n",
       "61248           rnb\n",
       "61249        hiphop\n",
       "61250    industrial\n",
       "61251          rock\n",
       "61252       country\n",
       "Name: genre, Length: 61253, dtype: object"
      ]
     },
     "execution_count": 105,
     "metadata": {},
     "output_type": "execute_result"
    }
   ],
   "source": [
    "df.genre# revisando en busca de duplicados implícitos"
   ]
  },
  {
   "cell_type": "markdown",
   "metadata": {
    "id": "ALgNbvF3VtPA"
   },
   "source": [
    "[Volver a Contenidos](#back)"
   ]
  },
  {
   "cell_type": "markdown",
   "metadata": {
    "id": "jz6a9-7HQUDd"
   },
   "source": [
    "### Conclusiones <a id='data_preprocessing_conclusions'></a>\n",
    "Detectamos tres problemas con los datos:\n",
    "\n",
    "- Estilos de encabezados incorrectos\n",
    "- Valores ausentes\n",
    "- Duplicados obvios e implícitos\n",
    "\n",
    "Los encabezados han sido eliminados para conseguir que el procesamiento de la tabla sea más sencillo.\n",
    "\n",
    "Todos los valores ausentes han sido reemplazados por `'unknown'`. Pero todavía tenemos que ver si los valores ausentes en `'genre'` afectan a nuestros cálculos.\n",
    "\n",
    "La ausencia de duplicados hará que los resultados sean mas precisos y fáciles de entender.\n",
    "\n",
    "Ahora ya podemos continuar probando las hipótesis. "
   ]
  },
  {
   "cell_type": "markdown",
   "metadata": {
    "id": "eK1es74rVujj"
   },
   "source": [
    "[Volver a Contenidos](#back)"
   ]
  },
  {
   "cell_type": "markdown",
   "metadata": {
    "id": "WttZHXH0SqKk"
   },
   "source": [
    "## Etapa 3. Prueba de hipótesis <a id='hypotheses'></a>"
   ]
  },
  {
   "cell_type": "markdown",
   "metadata": {
    "id": "Im936VVi_Zcu"
   },
   "source": [
    "### Hipótesis 1: comparar el comportamiento del usuario en las dos ciudades <a id='activity'></a>"
   ]
  },
  {
   "cell_type": "markdown",
   "metadata": {
    "id": "nwt_MuaL_Zcu"
   },
   "source": [
    "De acuerdo con la primera hipótesis, los usuarios de Springfield y Shelbyville escuchan música de forma distinta. Comprueba esto utilizando los datos de tres días de la semana: lunes, miércoles y viernes.\n",
    "\n",
    "* Divide a los usuarios en grupos por ciudad.\n",
    "* Compara cuántas pistas reprodujo cada grupo el lunes, el miércoles y el viernes.\n"
   ]
  },
  {
   "cell_type": "markdown",
   "metadata": {
    "id": "8Dw_YMmT_Zcu"
   },
   "source": [
    "Por el bien del ejercicio, realiza cada cálculo de forma separada. \n",
    "\n",
    "Evalúa la actividad del usuario en cada ciudad. Agrupa los datos por ciudad y encuentra el número de canciones reproducidas en cada grupo.\n",
    "\n"
   ]
  },
  {
   "cell_type": "code",
   "execution_count": 106,
   "metadata": {
    "id": "0_Qs96oh_Zcu"
   },
   "outputs": [
    {
     "data": {
      "text/html": [
       "<div>\n",
       "<style scoped>\n",
       "    .dataframe tbody tr th:only-of-type {\n",
       "        vertical-align: middle;\n",
       "    }\n",
       "\n",
       "    .dataframe tbody tr th {\n",
       "        vertical-align: top;\n",
       "    }\n",
       "\n",
       "    .dataframe thead th {\n",
       "        text-align: right;\n",
       "    }\n",
       "</style>\n",
       "<table border=\"1\" class=\"dataframe\">\n",
       "  <thead>\n",
       "    <tr style=\"text-align: right;\">\n",
       "      <th></th>\n",
       "      <th>user_id</th>\n",
       "      <th>track</th>\n",
       "      <th>artist</th>\n",
       "      <th>genre</th>\n",
       "      <th>total_time</th>\n",
       "      <th>day_reproduced</th>\n",
       "    </tr>\n",
       "    <tr>\n",
       "      <th>city</th>\n",
       "      <th></th>\n",
       "      <th></th>\n",
       "      <th></th>\n",
       "      <th></th>\n",
       "      <th></th>\n",
       "      <th></th>\n",
       "    </tr>\n",
       "  </thead>\n",
       "  <tbody>\n",
       "    <tr>\n",
       "      <th>Shelbyville</th>\n",
       "      <td>18512</td>\n",
       "      <td>18512</td>\n",
       "      <td>18512</td>\n",
       "      <td>18512</td>\n",
       "      <td>18512</td>\n",
       "      <td>18512</td>\n",
       "    </tr>\n",
       "    <tr>\n",
       "      <th>Springfield</th>\n",
       "      <td>42741</td>\n",
       "      <td>42741</td>\n",
       "      <td>42741</td>\n",
       "      <td>42741</td>\n",
       "      <td>42741</td>\n",
       "      <td>42741</td>\n",
       "    </tr>\n",
       "  </tbody>\n",
       "</table>\n",
       "</div>"
      ],
      "text/plain": [
       "             user_id  track  artist  genre  total_time  day_reproduced\n",
       "city                                                                  \n",
       "Shelbyville    18512  18512   18512  18512       18512           18512\n",
       "Springfield    42741  42741   42741  42741       42741           42741"
      ]
     },
     "execution_count": 106,
     "metadata": {},
     "output_type": "execute_result"
    }
   ],
   "source": [
    "df.groupby('city')\n",
    "df.groupby('city').count()# contando las pistas reproducidas en cada ciudad"
   ]
  },
  {
   "cell_type": "markdown",
   "metadata": {
    "id": "dzli3w8o_Zcu"
   },
   "source": [
    "Springfield ha reproducido más pistas que Shelbyville. Pero eso no implica que los ciudadanos de Springfield escuchen música más a menudo. Esta ciudad es simplemente más grande y hay más usuarios.\n",
    "\n",
    "Ahora agrupa los datos por día de la semana y encuentra el número de pistas reproducidas el lunes, miércoles y viernes.\n"
   ]
  },
  {
   "cell_type": "code",
   "execution_count": 107,
   "metadata": {
    "id": "uZMKjiJz_Zcu"
   },
   "outputs": [
    {
     "data": {
      "text/html": [
       "<div>\n",
       "<style scoped>\n",
       "    .dataframe tbody tr th:only-of-type {\n",
       "        vertical-align: middle;\n",
       "    }\n",
       "\n",
       "    .dataframe tbody tr th {\n",
       "        vertical-align: top;\n",
       "    }\n",
       "\n",
       "    .dataframe thead th {\n",
       "        text-align: right;\n",
       "    }\n",
       "</style>\n",
       "<table border=\"1\" class=\"dataframe\">\n",
       "  <thead>\n",
       "    <tr style=\"text-align: right;\">\n",
       "      <th></th>\n",
       "      <th>user_id</th>\n",
       "      <th>track</th>\n",
       "      <th>artist</th>\n",
       "      <th>genre</th>\n",
       "      <th>city</th>\n",
       "      <th>total_time</th>\n",
       "    </tr>\n",
       "    <tr>\n",
       "      <th>day_reproduced</th>\n",
       "      <th></th>\n",
       "      <th></th>\n",
       "      <th></th>\n",
       "      <th></th>\n",
       "      <th></th>\n",
       "      <th></th>\n",
       "    </tr>\n",
       "  </thead>\n",
       "  <tbody>\n",
       "    <tr>\n",
       "      <th>Friday</th>\n",
       "      <td>21840</td>\n",
       "      <td>21840</td>\n",
       "      <td>21840</td>\n",
       "      <td>21840</td>\n",
       "      <td>21840</td>\n",
       "      <td>21840</td>\n",
       "    </tr>\n",
       "    <tr>\n",
       "      <th>Monday</th>\n",
       "      <td>21354</td>\n",
       "      <td>21354</td>\n",
       "      <td>21354</td>\n",
       "      <td>21354</td>\n",
       "      <td>21354</td>\n",
       "      <td>21354</td>\n",
       "    </tr>\n",
       "    <tr>\n",
       "      <th>Wednesday</th>\n",
       "      <td>18059</td>\n",
       "      <td>18059</td>\n",
       "      <td>18059</td>\n",
       "      <td>18059</td>\n",
       "      <td>18059</td>\n",
       "      <td>18059</td>\n",
       "    </tr>\n",
       "  </tbody>\n",
       "</table>\n",
       "</div>"
      ],
      "text/plain": [
       "                user_id  track  artist  genre   city  total_time\n",
       "day_reproduced                                                  \n",
       "Friday            21840  21840   21840  21840  21840       21840\n",
       "Monday            21354  21354   21354  21354  21354       21354\n",
       "Wednesday         18059  18059   18059  18059  18059       18059"
      ]
     },
     "execution_count": 107,
     "metadata": {},
     "output_type": "execute_result"
    }
   ],
   "source": [
    "df.groupby('day_reproduced')\n",
    "df.groupby('day_reproduced').count()# calculando las pistas reproducidas en cada uno de los tres días"
   ]
  },
  {
   "cell_type": "markdown",
   "metadata": {
    "id": "cC2tNrlL_Zcu"
   },
   "source": [
    "El miércoles fue el día más silencioso de todos. Pero si consideramos las dos ciudades por separado podríamos llegar a una conclusión diferente."
   ]
  },
  {
   "cell_type": "markdown",
   "metadata": {
    "id": "POzs8bGa_Zcu"
   },
   "source": [
    "Ya has visto cómo funciona el agrupar por ciudad o día. Ahora escribe la función que agrupará ambos.\n",
    "\n",
    "Crea la función `number_tracks()` para calcular el número de canciones reproducidas en un determinado día y ciudad. Requerirá dos parámetros:\n",
    "* día de la semana\n",
    "* nombre de la ciudad\n",
    "\n",
    "En la función, utiliza una variable para almacenar las filas de la tabla original, donde:\n",
    "  * el valor de la columna `'day'` es igual al parámetro de día\n",
    "  * el valor de la columna `'city'` es igual al parámetro de ciudad\n",
    "\n",
    "Aplica un filtrado consecutivo con indexación lógica.\n",
    "\n",
    "Después, calcula los valores de la columna `'user_id'` en la tabla resultante. Almacena el resultado en la nueva variable. Recupera esta variable de la función."
   ]
  },
  {
   "cell_type": "code",
   "execution_count": 108,
   "metadata": {
    "id": "Nz3GdQB1_Zcu"
   },
   "outputs": [
    {
     "data": {
      "text/plain": [
       "()"
      ]
     },
     "execution_count": 108,
     "metadata": {},
     "output_type": "execute_result"
    }
   ],
   "source": [
    "def number_tracks(day, cityr):                                                             # <creando la función number_tracks()> # declararemos la función con dos parámetros: day=, city=.\n",
    "    track_list = df[(df['day_reproduced'] == day) & (df['city'] == cityr)]  # deja que la variable track_list almacene las filas df en las que\n",
    "    track_list_count = track_list['user_id'].count()                                                            # el valor en la columna 'day' es igual al parámetro day= y, al mismo tiempo, \n",
    "    return track_list_count \n",
    "()\n",
    "                                # declararemos la función con dos parámetros: day=, city=.\n",
    "\n",
    "\n",
    "# el valor de la columna 'city' es igual al parámetro city= (aplica el filtrado consecutivo \n",
    "                                                              # con indexación lógica).\n",
    "                                                               # deja que la variable track_list_count almacene el número de valores de la columna 'user_id' en track_list\n",
    "                                                                # (encontrado con el método count()).\n",
    "     \n",
    "\n",
    "   # permite que la función devuelva un número: el valor de track_list_count.\n",
    "\n",
    "# la función cuenta las pistas reproducidas en un cierto día y ciudad.\n",
    "# primero recupera las filas del día deseado de la tabla,\n",
    "# después filtra las filas de la ciudad deseada del resultado,\n",
    "# entonces, encuentra el número de valores de 'user_id' en la tabla filtrada,\n",
    "# y devuelve ese número.\n",
    "# para ver lo que devuelve, envuelve la llamada de la función en print()."
   ]
  },
  {
   "cell_type": "markdown",
   "metadata": {
    "id": "ytf7xFrFJQ2r"
   },
   "source": [
    "Llama a `number_tracks()` seis veces, cambiando los valores de los parámetros, para que recuperes los datos de ambas ciudades para cada uno de los tres días."
   ]
  },
  {
   "cell_type": "code",
   "execution_count": 109,
   "metadata": {
    "id": "rJcRATNQ_Zcu"
   },
   "outputs": [
    {
     "data": {
      "text/plain": [
       "15740"
      ]
     },
     "execution_count": 109,
     "metadata": {},
     "output_type": "execute_result"
    }
   ],
   "source": [
    "number_tracks('Monday', 'Springfield')# el número de canciones reproducidas en Springfield el lunes"
   ]
  },
  {
   "cell_type": "code",
   "execution_count": 110,
   "metadata": {
    "id": "hq_ncZ5T_Zcu"
   },
   "outputs": [
    {
     "data": {
      "text/plain": [
       "5614"
      ]
     },
     "execution_count": 110,
     "metadata": {},
     "output_type": "execute_result"
    }
   ],
   "source": [
    "number_tracks('Monday', 'Shelbyville')# el número de canciones reproducidas en Shelbyville el lunes"
   ]
  },
  {
   "cell_type": "code",
   "execution_count": 111,
   "metadata": {
    "id": "_NTy2VPU_Zcu"
   },
   "outputs": [
    {
     "data": {
      "text/plain": [
       "11056"
      ]
     },
     "execution_count": 111,
     "metadata": {},
     "output_type": "execute_result"
    }
   ],
   "source": [
    "number_tracks('Wednesday', 'Springfield')# el número de canciones reproducidas en Springfield el miércoles"
   ]
  },
  {
   "cell_type": "code",
   "execution_count": 112,
   "metadata": {
    "id": "j2y3TAwo_Zcu"
   },
   "outputs": [
    {
     "data": {
      "text/plain": [
       "7003"
      ]
     },
     "execution_count": 112,
     "metadata": {},
     "output_type": "execute_result"
    }
   ],
   "source": [
    "number_tracks('Wednesday', 'Shelbyville')# el número de canciones reproducidas en Shelbyville el miércoles"
   ]
  },
  {
   "cell_type": "code",
   "execution_count": 113,
   "metadata": {
    "id": "vYDw5u_K_Zcu"
   },
   "outputs": [
    {
     "data": {
      "text/plain": [
       "15945"
      ]
     },
     "execution_count": 113,
     "metadata": {},
     "output_type": "execute_result"
    }
   ],
   "source": [
    "number_tracks('Friday', 'Springfield')# el número de canciones reproducidas en Springfield el viernes"
   ]
  },
  {
   "cell_type": "code",
   "execution_count": 114,
   "metadata": {
    "id": "8_yzFtW3_Zcu"
   },
   "outputs": [
    {
     "data": {
      "text/plain": [
       "5895"
      ]
     },
     "execution_count": 114,
     "metadata": {},
     "output_type": "execute_result"
    }
   ],
   "source": [
    "number_tracks('Friday', 'Shelbyville')# el número de canciones reproducidas en Shelbyville el viernes"
   ]
  },
  {
   "cell_type": "markdown",
   "metadata": {
    "id": "7QXffbO-_Zcu"
   },
   "source": [
    "Utiliza `pd.DataFrame` para crear una tabla, donde\n",
    "* Los nombres de las columnas son: `['city', 'monday', 'wednesday', 'friday']`\n",
    "* Los datos son los resultados que conseguiste de `number_tracks()`"
   ]
  },
  {
   "cell_type": "code",
   "execution_count": 115,
   "metadata": {},
   "outputs": [],
   "source": [
    "info = [\n",
    "    ['springfield', 15740, 11056, 15945],\n",
    "    ['shelbyville', 5614, 7003, 5895]\n",
    "]\n",
    "\n",
    "columnas = ['city', 'monday', 'wednesday', 'friday']\n",
    "\n",
    "df_tabla = pd.DataFrame(data=info, columns=columnas)\n",
    "    \n"
   ]
  },
  {
   "cell_type": "code",
   "execution_count": 116,
   "metadata": {
    "id": "APAcLpOr_Zcu"
   },
   "outputs": [
    {
     "data": {
      "text/html": [
       "<div>\n",
       "<style scoped>\n",
       "    .dataframe tbody tr th:only-of-type {\n",
       "        vertical-align: middle;\n",
       "    }\n",
       "\n",
       "    .dataframe tbody tr th {\n",
       "        vertical-align: top;\n",
       "    }\n",
       "\n",
       "    .dataframe thead th {\n",
       "        text-align: right;\n",
       "    }\n",
       "</style>\n",
       "<table border=\"1\" class=\"dataframe\">\n",
       "  <thead>\n",
       "    <tr style=\"text-align: right;\">\n",
       "      <th></th>\n",
       "      <th>city</th>\n",
       "      <th>monday</th>\n",
       "      <th>wednesday</th>\n",
       "      <th>friday</th>\n",
       "    </tr>\n",
       "  </thead>\n",
       "  <tbody>\n",
       "    <tr>\n",
       "      <th>0</th>\n",
       "      <td>springfield</td>\n",
       "      <td>15740</td>\n",
       "      <td>11056</td>\n",
       "      <td>15945</td>\n",
       "    </tr>\n",
       "    <tr>\n",
       "      <th>1</th>\n",
       "      <td>shelbyville</td>\n",
       "      <td>5614</td>\n",
       "      <td>7003</td>\n",
       "      <td>5895</td>\n",
       "    </tr>\n",
       "  </tbody>\n",
       "</table>\n",
       "</div>"
      ],
      "text/plain": [
       "          city  monday  wednesday  friday\n",
       "0  springfield   15740      11056   15945\n",
       "1  shelbyville    5614       7003    5895"
      ]
     },
     "execution_count": 116,
     "metadata": {},
     "output_type": "execute_result"
    }
   ],
   "source": [
    "df_tabla# tabla con los resultados"
   ]
  },
  {
   "cell_type": "markdown",
   "metadata": {
    "id": "-EgPIHYu_Zcu"
   },
   "source": [
    "**Conclusiones**\n",
    "\n",
    "Los datos revelan las diferencias en el comportamiento de los usuarios:\n",
    "\n",
    "- En Springfield, el número de canciones reproducidas alcanzan el punto máximo los lunes y viernes mientras que los miércoles hay un descenso de la actividad.\n",
    "- En Shelbyville, al contario, los usuarios escuchan más música los miércoles. La actividad de los usuarios los lunes y viernes es menor.\n",
    "\n",
    "Así que la primera hipótesis parece ser correcta."
   ]
  },
  {
   "cell_type": "markdown",
   "metadata": {
    "id": "p7nFQajCVw5B"
   },
   "source": [
    "[Volver a Contenidos](#back)"
   ]
  },
  {
   "cell_type": "markdown",
   "metadata": {
    "id": "atZAxtq4_Zcu"
   },
   "source": [
    "### Hipótesis 2: música al principio y al final de la semana <a id='week'></a>"
   ]
  },
  {
   "cell_type": "markdown",
   "metadata": {
    "id": "eXrQqXFH_Zcu"
   },
   "source": [
    "De acuerdo con la segunda hipótesis, los lunes por la mañana y los viernes por la noche los ciudadanos de Springfield escuchan géneros que difieren de aquellos que los usuarios de Shelbyville disfrutan."
   ]
  },
  {
   "cell_type": "markdown",
   "metadata": {
    "id": "S8UcW6Hw_Zcu"
   },
   "source": [
    "Obtén tablas (asegúrate de que el nombre de tu tabla combinada encaja con el DataFrame dado en los dos bloques de código de abajo):\n",
    "* Para Springfield — `spr_general`\n",
    "* Para Shelbyville — `shel_general`"
   ]
  },
  {
   "cell_type": "code",
   "execution_count": 117,
   "metadata": {
    "id": "qeaFfM_P_Zcu"
   },
   "outputs": [
    {
     "data": {
      "text/html": [
       "<div>\n",
       "<style scoped>\n",
       "    .dataframe tbody tr th:only-of-type {\n",
       "        vertical-align: middle;\n",
       "    }\n",
       "\n",
       "    .dataframe tbody tr th {\n",
       "        vertical-align: top;\n",
       "    }\n",
       "\n",
       "    .dataframe thead th {\n",
       "        text-align: right;\n",
       "    }\n",
       "</style>\n",
       "<table border=\"1\" class=\"dataframe\">\n",
       "  <thead>\n",
       "    <tr style=\"text-align: right;\">\n",
       "      <th></th>\n",
       "      <th>user_id</th>\n",
       "      <th>track</th>\n",
       "      <th>artist</th>\n",
       "      <th>genre</th>\n",
       "      <th>city</th>\n",
       "      <th>total_time</th>\n",
       "      <th>day_reproduced</th>\n",
       "    </tr>\n",
       "  </thead>\n",
       "  <tbody>\n",
       "    <tr>\n",
       "      <th>1</th>\n",
       "      <td>55204538</td>\n",
       "      <td>Delayed Because of Accident</td>\n",
       "      <td>Andreas Rönnberg</td>\n",
       "      <td>rock</td>\n",
       "      <td>Springfield</td>\n",
       "      <td>14:07:09</td>\n",
       "      <td>Friday</td>\n",
       "    </tr>\n",
       "    <tr>\n",
       "      <th>4</th>\n",
       "      <td>E2DC1FAE</td>\n",
       "      <td>Soul People</td>\n",
       "      <td>Space Echo</td>\n",
       "      <td>dance</td>\n",
       "      <td>Springfield</td>\n",
       "      <td>08:34:34</td>\n",
       "      <td>Monday</td>\n",
       "    </tr>\n",
       "    <tr>\n",
       "      <th>6</th>\n",
       "      <td>4CB90AA5</td>\n",
       "      <td>True</td>\n",
       "      <td>Roman Messer</td>\n",
       "      <td>dance</td>\n",
       "      <td>Springfield</td>\n",
       "      <td>13:00:07</td>\n",
       "      <td>Wednesday</td>\n",
       "    </tr>\n",
       "    <tr>\n",
       "      <th>7</th>\n",
       "      <td>F03E1C1F</td>\n",
       "      <td>Feeling This Way</td>\n",
       "      <td>Polina Griffith</td>\n",
       "      <td>dance</td>\n",
       "      <td>Springfield</td>\n",
       "      <td>20:47:49</td>\n",
       "      <td>Wednesday</td>\n",
       "    </tr>\n",
       "    <tr>\n",
       "      <th>8</th>\n",
       "      <td>8FA1D3BE</td>\n",
       "      <td>L’estate</td>\n",
       "      <td>Julia Dalia</td>\n",
       "      <td>ruspop</td>\n",
       "      <td>Springfield</td>\n",
       "      <td>09:17:40</td>\n",
       "      <td>Friday</td>\n",
       "    </tr>\n",
       "    <tr>\n",
       "      <th>...</th>\n",
       "      <td>...</td>\n",
       "      <td>...</td>\n",
       "      <td>...</td>\n",
       "      <td>...</td>\n",
       "      <td>...</td>\n",
       "      <td>...</td>\n",
       "      <td>...</td>\n",
       "    </tr>\n",
       "    <tr>\n",
       "      <th>61247</th>\n",
       "      <td>83A474E7</td>\n",
       "      <td>I Worship Only What You Bleed</td>\n",
       "      <td>The Black Dahlia Murder</td>\n",
       "      <td>extrememetal</td>\n",
       "      <td>Springfield</td>\n",
       "      <td>21:07:12</td>\n",
       "      <td>Monday</td>\n",
       "    </tr>\n",
       "    <tr>\n",
       "      <th>61248</th>\n",
       "      <td>729CBB09</td>\n",
       "      <td>My Name</td>\n",
       "      <td>McLean</td>\n",
       "      <td>rnb</td>\n",
       "      <td>Springfield</td>\n",
       "      <td>13:32:28</td>\n",
       "      <td>Wednesday</td>\n",
       "    </tr>\n",
       "    <tr>\n",
       "      <th>61250</th>\n",
       "      <td>C5E3A0D5</td>\n",
       "      <td>Jalopiina</td>\n",
       "      <td>unknown</td>\n",
       "      <td>industrial</td>\n",
       "      <td>Springfield</td>\n",
       "      <td>20:09:26</td>\n",
       "      <td>Friday</td>\n",
       "    </tr>\n",
       "    <tr>\n",
       "      <th>61251</th>\n",
       "      <td>321D0506</td>\n",
       "      <td>Freight Train</td>\n",
       "      <td>Chas McDevitt</td>\n",
       "      <td>rock</td>\n",
       "      <td>Springfield</td>\n",
       "      <td>21:43:59</td>\n",
       "      <td>Friday</td>\n",
       "    </tr>\n",
       "    <tr>\n",
       "      <th>61252</th>\n",
       "      <td>3A64EF84</td>\n",
       "      <td>Tell Me Sweet Little Lies</td>\n",
       "      <td>Monica Lopez</td>\n",
       "      <td>country</td>\n",
       "      <td>Springfield</td>\n",
       "      <td>21:59:46</td>\n",
       "      <td>Friday</td>\n",
       "    </tr>\n",
       "  </tbody>\n",
       "</table>\n",
       "<p>42741 rows × 7 columns</p>\n",
       "</div>"
      ],
      "text/plain": [
       "        user_id                          track                   artist  \\\n",
       "1      55204538    Delayed Because of Accident         Andreas Rönnberg   \n",
       "4      E2DC1FAE                    Soul People               Space Echo   \n",
       "6      4CB90AA5                           True             Roman Messer   \n",
       "7      F03E1C1F               Feeling This Way          Polina Griffith   \n",
       "8      8FA1D3BE                       L’estate              Julia Dalia   \n",
       "...         ...                            ...                      ...   \n",
       "61247  83A474E7  I Worship Only What You Bleed  The Black Dahlia Murder   \n",
       "61248  729CBB09                        My Name                   McLean   \n",
       "61250  C5E3A0D5                      Jalopiina                  unknown   \n",
       "61251  321D0506                  Freight Train            Chas McDevitt   \n",
       "61252  3A64EF84      Tell Me Sweet Little Lies             Monica Lopez   \n",
       "\n",
       "              genre         city total_time day_reproduced  \n",
       "1              rock  Springfield   14:07:09         Friday  \n",
       "4             dance  Springfield   08:34:34         Monday  \n",
       "6             dance  Springfield   13:00:07      Wednesday  \n",
       "7             dance  Springfield   20:47:49      Wednesday  \n",
       "8            ruspop  Springfield   09:17:40         Friday  \n",
       "...             ...          ...        ...            ...  \n",
       "61247  extrememetal  Springfield   21:07:12         Monday  \n",
       "61248           rnb  Springfield   13:32:28      Wednesday  \n",
       "61250    industrial  Springfield   20:09:26         Friday  \n",
       "61251          rock  Springfield   21:43:59         Friday  \n",
       "61252       country  Springfield   21:59:46         Friday  \n",
       "\n",
       "[42741 rows x 7 columns]"
      ]
     },
     "execution_count": 117,
     "metadata": {},
     "output_type": "execute_result"
    }
   ],
   "source": [
    "spr_general = pd.DataFrame(df[df['city'] == 'Springfield'])\n",
    "\n",
    "spr_general\n",
    "#obteniendo la tabla spr_general de las filas de df, \n",
    "# donde los valores en la columna 'city' es 'Springfield'\n"
   ]
  },
  {
   "cell_type": "code",
   "execution_count": 118,
   "metadata": {
    "id": "ORaVRKto_Zcu"
   },
   "outputs": [
    {
     "data": {
      "text/html": [
       "<div>\n",
       "<style scoped>\n",
       "    .dataframe tbody tr th:only-of-type {\n",
       "        vertical-align: middle;\n",
       "    }\n",
       "\n",
       "    .dataframe tbody tr th {\n",
       "        vertical-align: top;\n",
       "    }\n",
       "\n",
       "    .dataframe thead th {\n",
       "        text-align: right;\n",
       "    }\n",
       "</style>\n",
       "<table border=\"1\" class=\"dataframe\">\n",
       "  <thead>\n",
       "    <tr style=\"text-align: right;\">\n",
       "      <th></th>\n",
       "      <th>user_id</th>\n",
       "      <th>track</th>\n",
       "      <th>artist</th>\n",
       "      <th>genre</th>\n",
       "      <th>city</th>\n",
       "      <th>total_time</th>\n",
       "      <th>day_reproduced</th>\n",
       "    </tr>\n",
       "  </thead>\n",
       "  <tbody>\n",
       "    <tr>\n",
       "      <th>0</th>\n",
       "      <td>FFB692EC</td>\n",
       "      <td>Kamigata To Boots</td>\n",
       "      <td>The Mass Missile</td>\n",
       "      <td>rock</td>\n",
       "      <td>Shelbyville</td>\n",
       "      <td>20:28:33</td>\n",
       "      <td>Wednesday</td>\n",
       "    </tr>\n",
       "    <tr>\n",
       "      <th>2</th>\n",
       "      <td>20EC38</td>\n",
       "      <td>Funiculì funiculà</td>\n",
       "      <td>Mario Lanza</td>\n",
       "      <td>pop</td>\n",
       "      <td>Shelbyville</td>\n",
       "      <td>20:58:07</td>\n",
       "      <td>Wednesday</td>\n",
       "    </tr>\n",
       "    <tr>\n",
       "      <th>3</th>\n",
       "      <td>A3DD03C9</td>\n",
       "      <td>Dragons in the Sunset</td>\n",
       "      <td>Fire + Ice</td>\n",
       "      <td>folk</td>\n",
       "      <td>Shelbyville</td>\n",
       "      <td>08:37:09</td>\n",
       "      <td>Monday</td>\n",
       "    </tr>\n",
       "    <tr>\n",
       "      <th>5</th>\n",
       "      <td>842029A1</td>\n",
       "      <td>Chains</td>\n",
       "      <td>Obladaet</td>\n",
       "      <td>rusrap</td>\n",
       "      <td>Shelbyville</td>\n",
       "      <td>13:09:41</td>\n",
       "      <td>Friday</td>\n",
       "    </tr>\n",
       "    <tr>\n",
       "      <th>9</th>\n",
       "      <td>E772D5C0</td>\n",
       "      <td>Pessimist</td>\n",
       "      <td>unknown</td>\n",
       "      <td>dance</td>\n",
       "      <td>Shelbyville</td>\n",
       "      <td>21:20:49</td>\n",
       "      <td>Wednesday</td>\n",
       "    </tr>\n",
       "    <tr>\n",
       "      <th>...</th>\n",
       "      <td>...</td>\n",
       "      <td>...</td>\n",
       "      <td>...</td>\n",
       "      <td>...</td>\n",
       "      <td>...</td>\n",
       "      <td>...</td>\n",
       "      <td>...</td>\n",
       "    </tr>\n",
       "    <tr>\n",
       "      <th>61239</th>\n",
       "      <td>D94F810B</td>\n",
       "      <td>Theme from the Walking Dead</td>\n",
       "      <td>Proyecto Halloween</td>\n",
       "      <td>film</td>\n",
       "      <td>Shelbyville</td>\n",
       "      <td>21:14:40</td>\n",
       "      <td>Monday</td>\n",
       "    </tr>\n",
       "    <tr>\n",
       "      <th>61240</th>\n",
       "      <td>BC8EC5CF</td>\n",
       "      <td>Red Lips: Gta (Rover Rework)</td>\n",
       "      <td>Rover</td>\n",
       "      <td>electronic</td>\n",
       "      <td>Shelbyville</td>\n",
       "      <td>21:06:50</td>\n",
       "      <td>Monday</td>\n",
       "    </tr>\n",
       "    <tr>\n",
       "      <th>61241</th>\n",
       "      <td>29E04611</td>\n",
       "      <td>Bre Petrunko</td>\n",
       "      <td>Perunika Trio</td>\n",
       "      <td>world</td>\n",
       "      <td>Shelbyville</td>\n",
       "      <td>13:56:00</td>\n",
       "      <td>Monday</td>\n",
       "    </tr>\n",
       "    <tr>\n",
       "      <th>61242</th>\n",
       "      <td>1B91C621</td>\n",
       "      <td>(Hello) Cloud Mountain</td>\n",
       "      <td>sleepmakeswaves</td>\n",
       "      <td>postrock</td>\n",
       "      <td>Shelbyville</td>\n",
       "      <td>09:22:13</td>\n",
       "      <td>Monday</td>\n",
       "    </tr>\n",
       "    <tr>\n",
       "      <th>61249</th>\n",
       "      <td>D08D4A55</td>\n",
       "      <td>Maybe One Day (feat. Black Spade)</td>\n",
       "      <td>Blu &amp; Exile</td>\n",
       "      <td>hiphop</td>\n",
       "      <td>Shelbyville</td>\n",
       "      <td>10:00:00</td>\n",
       "      <td>Monday</td>\n",
       "    </tr>\n",
       "  </tbody>\n",
       "</table>\n",
       "<p>18512 rows × 7 columns</p>\n",
       "</div>"
      ],
      "text/plain": [
       "        user_id                              track              artist  \\\n",
       "0      FFB692EC                  Kamigata To Boots    The Mass Missile   \n",
       "2        20EC38                  Funiculì funiculà         Mario Lanza   \n",
       "3      A3DD03C9              Dragons in the Sunset          Fire + Ice   \n",
       "5      842029A1                             Chains            Obladaet   \n",
       "9      E772D5C0                          Pessimist             unknown   \n",
       "...         ...                                ...                 ...   \n",
       "61239  D94F810B        Theme from the Walking Dead  Proyecto Halloween   \n",
       "61240  BC8EC5CF       Red Lips: Gta (Rover Rework)               Rover   \n",
       "61241  29E04611                       Bre Petrunko       Perunika Trio   \n",
       "61242  1B91C621             (Hello) Cloud Mountain     sleepmakeswaves   \n",
       "61249  D08D4A55  Maybe One Day (feat. Black Spade)         Blu & Exile   \n",
       "\n",
       "            genre         city total_time day_reproduced  \n",
       "0            rock  Shelbyville   20:28:33      Wednesday  \n",
       "2             pop  Shelbyville   20:58:07      Wednesday  \n",
       "3            folk  Shelbyville   08:37:09         Monday  \n",
       "5          rusrap  Shelbyville   13:09:41         Friday  \n",
       "9           dance  Shelbyville   21:20:49      Wednesday  \n",
       "...           ...          ...        ...            ...  \n",
       "61239        film  Shelbyville   21:14:40         Monday  \n",
       "61240  electronic  Shelbyville   21:06:50         Monday  \n",
       "61241       world  Shelbyville   13:56:00         Monday  \n",
       "61242    postrock  Shelbyville   09:22:13         Monday  \n",
       "61249      hiphop  Shelbyville   10:00:00         Monday  \n",
       "\n",
       "[18512 rows x 7 columns]"
      ]
     },
     "execution_count": 118,
     "metadata": {},
     "output_type": "execute_result"
    }
   ],
   "source": [
    "shel_general = pd.DataFrame(df[df['city'] == 'Shelbyville'])\n",
    "\n",
    "shel_general\n",
    "# obteniendo shel_general de las filas df,\n",
    "# donde el valor de la columna 'city' es 'Shelbyville'\n"
   ]
  },
  {
   "cell_type": "markdown",
   "metadata": {
    "id": "MEJV-CX2_Zcu"
   },
   "source": [
    "Escribe la función genre_weekday() con cuatro parámetros:\n",
    "* Una tabla para los datos (`df`)\n",
    "* El día de la semana (`day`)\n",
    "* La marca de fecha y hora en formato 'hh:mm' (`time1`)\n",
    "* La marca de fecha y hora en formato 'hh:mm' (`time2`)\n",
    "\n",
    "La función debería devolver información de los 15 géneros más populares de un día determinado en un período entre dos marcas de fecha y hora."
   ]
  },
  {
   "cell_type": "code",
   "execution_count": 134,
   "metadata": {
    "id": "laJT9BYl_Zcu"
   },
   "outputs": [],
   "source": [
    "def genre_weekday (df, day, time1, time2):\n",
    "    # declarando la función genre_weekday() con los parámetros day=, time1= y time2=. Debería\n",
    "# devolver información sobre los géneros más populares de un determinado día a una determinada hora:\n",
    "\n",
    "# 1) Deja que la variable genre_df almacene las filas que cumplen varias condiciones:\n",
    "#    - el valor de la columna 'day' es igual al valor del argumento day=\n",
    "#    - el valor de la columna 'time' es mayor que el valor del argumento time1=\n",
    "                                                                     #    - el valor en la columna 'time' es menor que el valor del argumento time2=\n",
    "                                                          #    Utiliza un filtrado consecutivo con indexación lógica.\n",
    "\n",
    "# 2) Agrupa genre_df por la columna 'genre', toma una de sus columnas, \n",
    "#    y utiliza el método count() para encontrar el número de entradas por cada uno de \n",
    "#    los géneros representados; almacena los Series resultantes en\n",
    "#    la variable genre_df_count\n",
    "\n",
    "# 3) Ordena genre_df_count en orden descendente de frecuencia y guarda el resultado\n",
    "#    en la variable genre_df_sorted\n",
    "\n",
    "# 4) Devuelve un objeto Series con los primeros 15 valores de genre_df_sorted - los 15\n",
    "#    géneros más populares (en un determinado día, en un determinado periodo de tiempo)\n",
    "\n",
    "# Escribe tu función aquí\n",
    "\n",
    "    # filtrado consecutivo\n",
    "    # genre_df solo almacenará aquellas filas df en las que el día sea igual a day=\n",
    "    genre_df = df[(df['day_reproduced'] == day)] # escribe tu código aquí\n",
    " # genre_df solo almacenará aquellas filas df en las que el tiempo sea menos que time2=\n",
    "    genre_df = genre_df[(genre_df['time'] < time2)] # escribe tu código aquí\n",
    "# genre_df solo almacenará aquellas filas df en las que el tiempo sea mayor que time1=\n",
    "    genre_df = genre_df[(genre_df['time'] > time1)] # escribe tu código aquí\n",
    "# agrupa el DataFrame filtrado por la columna con los nombres de los géneros, toma la columna de género, y encuentra el número de filas por cada género con el método count()\n",
    "    genre_df_grouped = genre_df.groupby('genre').count()# escribe tu código aquí\n",
    "# ordenaremos el resultado en orden descendente (por lo que los géneros más populares aparecerán primero en el objeto Series)\n",
    "    genre_df_sorted = genre_df_grouped.sort_values(by='genre',ascending= False)# escribe tu código aquí\n",
    "# devolveremos el objeto Series que almacena los 15 géneros más populares en un día determinado en un periodo de tiempo determinado\n",
    "    return genre_df_sorted[:15]\n",
    "\n"
   ]
  },
  {
   "cell_type": "markdown",
   "metadata": {
    "id": "la2s2_PF_Zcu"
   },
   "source": [
    "Compara los resultados de la función `genre_weekday()`para Springfield y Shelbyville el lunes por la mañana (de 7 a 11) y el viernes por la tarde (de 17:00 a 23:00):"
   ]
  },
  {
   "cell_type": "code",
   "execution_count": 142,
   "metadata": {
    "id": "yz7itPUQ_Zcu"
   },
   "outputs": [
    {
     "ename": "KeyError",
     "evalue": "'time'",
     "output_type": "error",
     "traceback": [
      "\u001b[0;31m---------------------------------------------------------------------------\u001b[0m",
      "\u001b[0;31mKeyError\u001b[0m                                  Traceback (most recent call last)",
      "\u001b[0;32m/opt/conda/lib/python3.9/site-packages/pandas/core/indexes/base.py\u001b[0m in \u001b[0;36mget_loc\u001b[0;34m(self, key, method, tolerance)\u001b[0m\n\u001b[1;32m   3079\u001b[0m             \u001b[0;32mtry\u001b[0m\u001b[0;34m:\u001b[0m\u001b[0;34m\u001b[0m\u001b[0;34m\u001b[0m\u001b[0m\n\u001b[0;32m-> 3080\u001b[0;31m                 \u001b[0;32mreturn\u001b[0m \u001b[0mself\u001b[0m\u001b[0;34m.\u001b[0m\u001b[0m_engine\u001b[0m\u001b[0;34m.\u001b[0m\u001b[0mget_loc\u001b[0m\u001b[0;34m(\u001b[0m\u001b[0mcasted_key\u001b[0m\u001b[0;34m)\u001b[0m\u001b[0;34m\u001b[0m\u001b[0;34m\u001b[0m\u001b[0m\n\u001b[0m\u001b[1;32m   3081\u001b[0m             \u001b[0;32mexcept\u001b[0m \u001b[0mKeyError\u001b[0m \u001b[0;32mas\u001b[0m \u001b[0merr\u001b[0m\u001b[0;34m:\u001b[0m\u001b[0;34m\u001b[0m\u001b[0;34m\u001b[0m\u001b[0m\n",
      "\u001b[0;32mpandas/_libs/index.pyx\u001b[0m in \u001b[0;36mpandas._libs.index.IndexEngine.get_loc\u001b[0;34m()\u001b[0m\n",
      "\u001b[0;32mpandas/_libs/index.pyx\u001b[0m in \u001b[0;36mpandas._libs.index.IndexEngine.get_loc\u001b[0;34m()\u001b[0m\n",
      "\u001b[0;32mpandas/_libs/hashtable_class_helper.pxi\u001b[0m in \u001b[0;36mpandas._libs.hashtable.PyObjectHashTable.get_item\u001b[0;34m()\u001b[0m\n",
      "\u001b[0;32mpandas/_libs/hashtable_class_helper.pxi\u001b[0m in \u001b[0;36mpandas._libs.hashtable.PyObjectHashTable.get_item\u001b[0;34m()\u001b[0m\n",
      "\u001b[0;31mKeyError\u001b[0m: 'time'",
      "\nThe above exception was the direct cause of the following exception:\n",
      "\u001b[0;31mKeyError\u001b[0m                                  Traceback (most recent call last)",
      "\u001b[0;32m/tmp/ipykernel_31/3654211645.py\u001b[0m in \u001b[0;36m<module>\u001b[0;34m\u001b[0m\n\u001b[0;32m----> 1\u001b[0;31m \u001b[0mgenre_weekday_df\u001b[0m \u001b[0;34m=\u001b[0m \u001b[0mgenre_weekday\u001b[0m\u001b[0;34m(\u001b[0m\u001b[0mspr_general\u001b[0m\u001b[0;34m,\u001b[0m \u001b[0;34m'Monday'\u001b[0m\u001b[0;34m,\u001b[0m \u001b[0;34m'7:00:00'\u001b[0m\u001b[0;34m,\u001b[0m \u001b[0;34m'11:00:00'\u001b[0m\u001b[0;34m)\u001b[0m\u001b[0;34m\u001b[0m\u001b[0;34m\u001b[0m\u001b[0m\n\u001b[0m\u001b[1;32m      2\u001b[0m \u001b[0mprint\u001b[0m\u001b[0;34m(\u001b[0m\u001b[0mgenre_weekday\u001b[0m\u001b[0;34m)\u001b[0m\u001b[0;31m# llamando a la función para el lunes por la mañana en Springfield (utilizando spr_general en vez de la tabla df)\u001b[0m\u001b[0;34m\u001b[0m\u001b[0;34m\u001b[0m\u001b[0m\n",
      "\u001b[0;32m/tmp/ipykernel_31/2256230373.py\u001b[0m in \u001b[0;36mgenre_weekday\u001b[0;34m(df, day, time1, time2)\u001b[0m\n\u001b[1;32m     26\u001b[0m     \u001b[0mgenre_df\u001b[0m \u001b[0;34m=\u001b[0m \u001b[0mdf\u001b[0m\u001b[0;34m[\u001b[0m\u001b[0;34m(\u001b[0m\u001b[0mdf\u001b[0m\u001b[0;34m[\u001b[0m\u001b[0;34m'day_reproduced'\u001b[0m\u001b[0;34m]\u001b[0m \u001b[0;34m==\u001b[0m \u001b[0mday\u001b[0m\u001b[0;34m)\u001b[0m\u001b[0;34m]\u001b[0m \u001b[0;31m# escribe tu código aquí\u001b[0m\u001b[0;34m\u001b[0m\u001b[0;34m\u001b[0m\u001b[0m\n\u001b[1;32m     27\u001b[0m  \u001b[0;31m# genre_df solo almacenará aquellas filas df en las que el tiempo sea menos que time2=\u001b[0m\u001b[0;34m\u001b[0m\u001b[0;34m\u001b[0m\u001b[0;34m\u001b[0m\u001b[0m\n\u001b[0;32m---> 28\u001b[0;31m     \u001b[0mgenre_df\u001b[0m \u001b[0;34m=\u001b[0m \u001b[0mgenre_df\u001b[0m\u001b[0;34m[\u001b[0m\u001b[0;34m(\u001b[0m\u001b[0mgenre_df\u001b[0m\u001b[0;34m[\u001b[0m\u001b[0;34m'time'\u001b[0m\u001b[0;34m]\u001b[0m \u001b[0;34m<\u001b[0m \u001b[0mtime2\u001b[0m\u001b[0;34m)\u001b[0m\u001b[0;34m]\u001b[0m \u001b[0;31m# escribe tu código aquí\u001b[0m\u001b[0;34m\u001b[0m\u001b[0;34m\u001b[0m\u001b[0m\n\u001b[0m\u001b[1;32m     29\u001b[0m \u001b[0;31m# genre_df solo almacenará aquellas filas df en las que el tiempo sea mayor que time1=\u001b[0m\u001b[0;34m\u001b[0m\u001b[0;34m\u001b[0m\u001b[0;34m\u001b[0m\u001b[0m\n\u001b[1;32m     30\u001b[0m     \u001b[0mgenre_df\u001b[0m \u001b[0;34m=\u001b[0m \u001b[0mgenre_df\u001b[0m\u001b[0;34m[\u001b[0m\u001b[0;34m(\u001b[0m\u001b[0mgenre_df\u001b[0m\u001b[0;34m[\u001b[0m\u001b[0;34m'time'\u001b[0m\u001b[0;34m]\u001b[0m \u001b[0;34m>\u001b[0m \u001b[0mtime1\u001b[0m\u001b[0;34m)\u001b[0m\u001b[0;34m]\u001b[0m \u001b[0;31m# escribe tu código aquí\u001b[0m\u001b[0;34m\u001b[0m\u001b[0;34m\u001b[0m\u001b[0m\n",
      "\u001b[0;32m/opt/conda/lib/python3.9/site-packages/pandas/core/frame.py\u001b[0m in \u001b[0;36m__getitem__\u001b[0;34m(self, key)\u001b[0m\n\u001b[1;32m   3022\u001b[0m             \u001b[0;32mif\u001b[0m \u001b[0mself\u001b[0m\u001b[0;34m.\u001b[0m\u001b[0mcolumns\u001b[0m\u001b[0;34m.\u001b[0m\u001b[0mnlevels\u001b[0m \u001b[0;34m>\u001b[0m \u001b[0;36m1\u001b[0m\u001b[0;34m:\u001b[0m\u001b[0;34m\u001b[0m\u001b[0;34m\u001b[0m\u001b[0m\n\u001b[1;32m   3023\u001b[0m                 \u001b[0;32mreturn\u001b[0m \u001b[0mself\u001b[0m\u001b[0;34m.\u001b[0m\u001b[0m_getitem_multilevel\u001b[0m\u001b[0;34m(\u001b[0m\u001b[0mkey\u001b[0m\u001b[0;34m)\u001b[0m\u001b[0;34m\u001b[0m\u001b[0;34m\u001b[0m\u001b[0m\n\u001b[0;32m-> 3024\u001b[0;31m             \u001b[0mindexer\u001b[0m \u001b[0;34m=\u001b[0m \u001b[0mself\u001b[0m\u001b[0;34m.\u001b[0m\u001b[0mcolumns\u001b[0m\u001b[0;34m.\u001b[0m\u001b[0mget_loc\u001b[0m\u001b[0;34m(\u001b[0m\u001b[0mkey\u001b[0m\u001b[0;34m)\u001b[0m\u001b[0;34m\u001b[0m\u001b[0;34m\u001b[0m\u001b[0m\n\u001b[0m\u001b[1;32m   3025\u001b[0m             \u001b[0;32mif\u001b[0m \u001b[0mis_integer\u001b[0m\u001b[0;34m(\u001b[0m\u001b[0mindexer\u001b[0m\u001b[0;34m)\u001b[0m\u001b[0;34m:\u001b[0m\u001b[0;34m\u001b[0m\u001b[0;34m\u001b[0m\u001b[0m\n\u001b[1;32m   3026\u001b[0m                 \u001b[0mindexer\u001b[0m \u001b[0;34m=\u001b[0m \u001b[0;34m[\u001b[0m\u001b[0mindexer\u001b[0m\u001b[0;34m]\u001b[0m\u001b[0;34m\u001b[0m\u001b[0;34m\u001b[0m\u001b[0m\n",
      "\u001b[0;32m/opt/conda/lib/python3.9/site-packages/pandas/core/indexes/base.py\u001b[0m in \u001b[0;36mget_loc\u001b[0;34m(self, key, method, tolerance)\u001b[0m\n\u001b[1;32m   3080\u001b[0m                 \u001b[0;32mreturn\u001b[0m \u001b[0mself\u001b[0m\u001b[0;34m.\u001b[0m\u001b[0m_engine\u001b[0m\u001b[0;34m.\u001b[0m\u001b[0mget_loc\u001b[0m\u001b[0;34m(\u001b[0m\u001b[0mcasted_key\u001b[0m\u001b[0;34m)\u001b[0m\u001b[0;34m\u001b[0m\u001b[0;34m\u001b[0m\u001b[0m\n\u001b[1;32m   3081\u001b[0m             \u001b[0;32mexcept\u001b[0m \u001b[0mKeyError\u001b[0m \u001b[0;32mas\u001b[0m \u001b[0merr\u001b[0m\u001b[0;34m:\u001b[0m\u001b[0;34m\u001b[0m\u001b[0;34m\u001b[0m\u001b[0m\n\u001b[0;32m-> 3082\u001b[0;31m                 \u001b[0;32mraise\u001b[0m \u001b[0mKeyError\u001b[0m\u001b[0;34m(\u001b[0m\u001b[0mkey\u001b[0m\u001b[0;34m)\u001b[0m \u001b[0;32mfrom\u001b[0m \u001b[0merr\u001b[0m\u001b[0;34m\u001b[0m\u001b[0;34m\u001b[0m\u001b[0m\n\u001b[0m\u001b[1;32m   3083\u001b[0m \u001b[0;34m\u001b[0m\u001b[0m\n\u001b[1;32m   3084\u001b[0m         \u001b[0;32mif\u001b[0m \u001b[0mtolerance\u001b[0m \u001b[0;32mis\u001b[0m \u001b[0;32mnot\u001b[0m \u001b[0;32mNone\u001b[0m\u001b[0;34m:\u001b[0m\u001b[0;34m\u001b[0m\u001b[0;34m\u001b[0m\u001b[0m\n",
      "\u001b[0;31mKeyError\u001b[0m: 'time'"
     ]
    }
   ],
   "source": [
    "genre_weekday_df = genre_weekday(spr_general, 'Monday', '7:00:00', '11:00:00')\n",
    "print(genre_weekday)# llamando a la función para el lunes por la mañana en Springfield (utilizando spr_general en vez de la tabla df)\n"
   ]
  },
  {
   "cell_type": "code",
   "execution_count": 139,
   "metadata": {
    "id": "kwUcHPdy_Zcu"
   },
   "outputs": [],
   "source": [
    "# llamando a la función para el lunes por la mañana en Shelbyville (utilizando shel_general en vez de la tabla df)\n"
   ]
  },
  {
   "cell_type": "code",
   "execution_count": null,
   "metadata": {
    "id": "EzXVRE1o_Zcu"
   },
   "outputs": [],
   "source": [
    "# llamando a la función para el viernes por la tarde en Springfield\n"
   ]
  },
  {
   "cell_type": "code",
   "execution_count": null,
   "metadata": {
    "id": "JZaEKu5v_Zcu"
   },
   "outputs": [],
   "source": [
    "# llamando a la función para el viernes por la tarde en Shelbyville\n"
   ]
  },
  {
   "cell_type": "markdown",
   "metadata": {
    "id": "wrCe4MNX_Zcu"
   },
   "source": [
    "**Conclusión**\n",
    "\n",
    "Habiendo comparado los 15 géneros más populares del lunes por la mañana podemos concluir lo siguiente:\n",
    "\n",
    "1. Los usuarios de Springfield y Shelbyville escuchan música similar. Los cinco géneros más populares son los mismos, solo rock y electrónica han intercambiado posiciones.\n",
    "\n",
    "2. En Springfield el número de valores ausentes resultaron ser tan altos que el valor `'unknown'` llegó al décimo. Esto significa que los valores ausentes forman una parte considerable de los datos, lo que podría ser la base de la cuestión sobre la fiabilidad de nuestras conclusiones.\n",
    "\n",
    "Para el viernes por la tarde, la situación es similar. Los géneros individuales varían algo pero, en general, los 15 más populares son parecidos en las dos ciudades.\n",
    "\n",
    "De esta forma, la segunda hipótesis ha sido parcialmente demostrada:\n",
    "* Los usuarios escuchan música similar al principio y al final de la semana.\n",
    "* No hay una gran diferencia entre Springfield y Shelbyville. En ambas ciudades, el pop es el género más popular.\n",
    "\n",
    "Sin embargo, el número de valores ausentes hace este resultado un tanto cuestionable. En Springfield, hay tantos que afectan a nuestros 15 más populares. De no faltarnos esos valores, las cosas podrían parecer diferentes."
   ]
  },
  {
   "cell_type": "markdown",
   "metadata": {
    "id": "jLmXgdanVyhP"
   },
   "source": [
    "[Volver a Contenidos](#back)"
   ]
  },
  {
   "cell_type": "markdown",
   "metadata": {
    "id": "JolODAqr_Zcu"
   },
   "source": [
    "### Hipótesis 3: preferencias de género en Springfield y Shelbyville <a id='genre'></a>\n",
    "\n",
    "Hipótesis: Shelbyville ama la música rap. A los ciudadanos de Springfield les gusta más el pop."
   ]
  },
  {
   "cell_type": "markdown",
   "metadata": {
    "id": "DlegSvaT_Zcu"
   },
   "source": [
    "Agrupa la tabla `spr_general` por género y encuentra el número de canciones reproducidas de cada género con el método `count()`. Después, ordena el resultado en orden descendente y guárdalo en `spr_genres`."
   ]
  },
  {
   "cell_type": "code",
   "execution_count": null,
   "metadata": {
    "id": "r19lIPke_Zcu"
   },
   "outputs": [],
   "source": [
    "# en una línea: agrupa la tabla spr_general por la columna 'genre', \n",
    "# cuenta los valores 'genre' con count() en la agrupación, \n",
    "# ordena el Series resultante en orden descendiente, y almacénalo en spr_genres"
   ]
  },
  {
   "cell_type": "markdown",
   "metadata": {
    "id": "6kMuomxTiIr8"
   },
   "source": [
    "Imprime las 10 primeras filas de `spr_genres`:"
   ]
  },
  {
   "cell_type": "code",
   "execution_count": null,
   "metadata": {
    "id": "WhCSooF8_Zcv"
   },
   "outputs": [],
   "source": [
    "# imprimiendo las 10 primeras filas de spr_genres"
   ]
  },
  {
   "cell_type": "markdown",
   "metadata": {
    "id": "cnPG2vnN_Zcv"
   },
   "source": [
    "Ahora haz lo mismo con los datos de Shelbyville.\n",
    "\n",
    "Agrupa la tabla `shel_general` por género y encuentra el número de canciones reproducidas de cada género. Después, ordena el resultado en orden descendente y guárdalo en la tabla `shel_genres`:\n"
   ]
  },
  {
   "cell_type": "code",
   "execution_count": null,
   "metadata": {
    "id": "gluLIpE7_Zcv"
   },
   "outputs": [],
   "source": [
    "# en una línea: agrupa la tabla shel_general por la columna 'genre', \n",
    "# cuenta los valores 'genre' en el agrupamiento con count(), \n",
    "# ordena el Series resultante en orden descendente y guárdalo en shel_genres"
   ]
  },
  {
   "cell_type": "markdown",
   "metadata": {
    "id": "5Doha_ODgyQ8"
   },
   "source": [
    "Imprime las 10 primeras filas de `shel_genres`:"
   ]
  },
  {
   "cell_type": "code",
   "execution_count": null,
   "metadata": {
    "id": "uaGJHjVU_Zcv"
   },
   "outputs": [],
   "source": [
    "# imprimiendo las 10 primeras filas de shel_genres"
   ]
  },
  {
   "cell_type": "markdown",
   "metadata": {
    "id": "RY51YJYu_Zcv"
   },
   "source": [
    "**Conclusión**"
   ]
  },
  {
   "cell_type": "markdown",
   "metadata": {
    "id": "nVhnJEm__Zcv"
   },
   "source": [
    "La hipótesis ha sido parcialmente demostrada:\n",
    "* La música pop es el género más popular en Springfield, tal como se esperaba.\n",
    "* Sin embargo, la música pop ha resultado ser igual de popular en Springfield que en Shelbyville y el rap no estaba entre los 5 más populares en ninguna de las ciudades.\n"
   ]
  },
  {
   "cell_type": "markdown",
   "metadata": {
    "id": "Byr0RfpPVz14"
   },
   "source": [
    "[Volver a Contenidos](#back)"
   ]
  },
  {
   "cell_type": "markdown",
   "metadata": {
    "id": "ykKQ0N65_Zcv"
   },
   "source": [
    "# Conclusiones <a id='end'></a>"
   ]
  },
  {
   "cell_type": "markdown",
   "metadata": {
    "id": "tjUwbHb3_Zcv"
   },
   "source": [
    "Hemos probado las siguientes tres hipótesis:\n",
    "\n",
    "1. La actividad de los usuarios difiere dependiendo del día de la semana y de las distintas ciudades. \n",
    "2. Los lunes por la mañana los residentes de Springfield y Shelbyville escuchan géneros distintos. Lo mismo ocurre con los viernes por la noche.\n",
    "3. Los oyentes de Springfield y Shelbyville tienen distintas preferencias. En ambas ciudades, Springfield y Shelbyville, se prefiere el pop.\n",
    "\n",
    "Tras analizar los datos, concluimos:\n",
    "\n",
    "1. La actividad del usuario en Springfield y Shelbyville depende del día de la semana aunque las ciudades varían de diferentes formas. \n",
    "\n",
    "La primera hipótesis ha sido aceptada completamente.\n",
    "\n",
    "2. Las preferencias musicales no varían significativamente en el transcurso de la semana en Springfield y Shelbyville. Podemos observar pequeñas diferencias en el orden los lunes, pero:\n",
    "* En Springfield y Shelbyville la gente lo que más escucha es la música pop.\n",
    "\n",
    "Así que no podemos aceptar esta hipótesis. También debemos tener en cuenta que el resultado podría haber sido diferente si no fuera por los valores ausentes.\n",
    "\n",
    "3. Resulta que las preferencias musicales de los usuarios de Springfield y Shelbyville son bastante parecidas.\n",
    "\n",
    "La tercera hipótesis es rechazada. Si hay alguna diferencia en las preferencias no se puede observar en los datos.\n",
    "\n",
    "### Nota \n",
    "En los proyectos reales, la investigación supone el estudio de hipótesis estadísticas que es más preciso y cuantitativo. También ten en cuenta que no siempre podemos sacar conclusiones sobre una ciudad entera basándonos en datos de una sola fuente.\n",
    "\n",
    "Analizarás el estudio de hipótesis en el sprint de análisis estadístico de datos."
   ]
  },
  {
   "cell_type": "markdown",
   "metadata": {
    "id": "Ju4AHDSgV1FE"
   },
   "source": [
    "[Volver a Contenidos](#back)"
   ]
  }
 ],
 "metadata": {
  "ExecuteTimeLog": [
   {
    "duration": 421,
    "start_time": "2022-08-03T15:24:30.181Z"
   },
   {
    "duration": 3,
    "start_time": "2022-08-03T15:24:57.554Z"
   },
   {
    "duration": 44,
    "start_time": "2022-08-03T15:40:07.895Z"
   },
   {
    "duration": 6,
    "start_time": "2022-08-03T15:40:12.649Z"
   },
   {
    "duration": 363,
    "start_time": "2022-08-03T15:40:21.439Z"
   },
   {
    "duration": 26,
    "start_time": "2022-08-03T15:40:24.077Z"
   },
   {
    "duration": 2,
    "start_time": "2022-08-03T15:40:28.185Z"
   },
   {
    "duration": 3,
    "start_time": "2022-08-03T15:40:55.380Z"
   },
   {
    "duration": 3,
    "start_time": "2022-08-03T15:41:00.040Z"
   },
   {
    "duration": 2,
    "start_time": "2022-08-03T15:41:48.288Z"
   },
   {
    "duration": 46,
    "start_time": "2022-08-03T15:41:52.955Z"
   },
   {
    "duration": 42,
    "start_time": "2022-08-03T15:42:44.078Z"
   },
   {
    "duration": 53,
    "start_time": "2022-08-03T15:45:53.636Z"
   },
   {
    "duration": 363,
    "start_time": "2022-08-03T15:46:04.232Z"
   },
   {
    "duration": 3,
    "start_time": "2022-08-03T15:46:28.775Z"
   },
   {
    "duration": 341,
    "start_time": "2022-08-03T15:46:30.978Z"
   },
   {
    "duration": 252,
    "start_time": "2022-08-03T15:46:36.490Z"
   },
   {
    "duration": 177,
    "start_time": "2022-08-03T15:46:49.141Z"
   },
   {
    "duration": 179,
    "start_time": "2022-08-03T15:46:53.440Z"
   },
   {
    "duration": 278,
    "start_time": "2022-08-03T15:47:02.836Z"
   },
   {
    "duration": 30,
    "start_time": "2022-08-03T15:47:35.769Z"
   },
   {
    "duration": 6,
    "start_time": "2022-08-03T15:48:10.401Z"
   },
   {
    "duration": 7,
    "start_time": "2022-08-03T15:49:41.195Z"
   },
   {
    "duration": 27,
    "start_time": "2022-08-03T15:51:25.049Z"
   },
   {
    "duration": 3,
    "start_time": "2022-08-03T16:22:48.608Z"
   },
   {
    "duration": 47,
    "start_time": "2022-08-03T16:28:42.335Z"
   },
   {
    "duration": 59,
    "start_time": "2022-08-03T17:02:20.115Z"
   },
   {
    "duration": 9,
    "start_time": "2022-08-03T17:03:23.103Z"
   },
   {
    "duration": 9,
    "start_time": "2022-08-03T17:03:29.667Z"
   },
   {
    "duration": 9,
    "start_time": "2022-08-03T17:03:35.841Z"
   },
   {
    "duration": 3,
    "start_time": "2022-08-03T17:04:02.102Z"
   },
   {
    "duration": 181,
    "start_time": "2022-08-03T18:24:40.702Z"
   },
   {
    "duration": 158,
    "start_time": "2022-08-03T18:24:56.603Z"
   },
   {
    "duration": 169,
    "start_time": "2022-08-03T18:25:11.234Z"
   },
   {
    "duration": 185,
    "start_time": "2022-08-03T18:25:59.595Z"
   },
   {
    "duration": 764,
    "start_time": "2022-08-03T20:52:24.499Z"
   },
   {
    "duration": 1057,
    "start_time": "2022-08-03T20:53:28.097Z"
   },
   {
    "duration": 64,
    "start_time": "2022-08-03T21:01:10.077Z"
   },
   {
    "duration": 53,
    "start_time": "2022-08-03T21:01:18.879Z"
   },
   {
    "duration": 68,
    "start_time": "2022-08-03T21:01:28.194Z"
   },
   {
    "duration": 8,
    "start_time": "2022-08-03T21:06:34.914Z"
   },
   {
    "duration": 8,
    "start_time": "2022-08-03T21:06:48.539Z"
   },
   {
    "duration": 14,
    "start_time": "2022-08-03T21:07:03.698Z"
   },
   {
    "duration": 8,
    "start_time": "2022-08-03T21:07:32.426Z"
   },
   {
    "duration": 7,
    "start_time": "2022-08-03T21:08:29.627Z"
   },
   {
    "duration": 994,
    "start_time": "2022-08-03T21:08:44.530Z"
   },
   {
    "duration": 15,
    "start_time": "2022-08-03T21:09:12.893Z"
   },
   {
    "duration": 9,
    "start_time": "2022-08-03T21:10:57.254Z"
   },
   {
    "duration": 7,
    "start_time": "2022-08-03T21:11:37.822Z"
   },
   {
    "duration": 8,
    "start_time": "2022-08-03T21:13:09.947Z"
   },
   {
    "duration": 8,
    "start_time": "2022-08-03T21:13:23.676Z"
   },
   {
    "duration": 6,
    "start_time": "2022-08-03T21:13:31.227Z"
   },
   {
    "duration": 13,
    "start_time": "2022-08-03T21:15:51.423Z"
   },
   {
    "duration": 5,
    "start_time": "2022-08-03T21:16:15.426Z"
   },
   {
    "duration": 4,
    "start_time": "2022-08-03T21:16:29.985Z"
   },
   {
    "duration": 9,
    "start_time": "2022-08-03T21:17:50.383Z"
   },
   {
    "duration": 9,
    "start_time": "2022-08-03T21:18:18.771Z"
   },
   {
    "duration": 10,
    "start_time": "2022-08-03T21:18:32.276Z"
   },
   {
    "duration": 10,
    "start_time": "2022-08-03T21:19:35.585Z"
   },
   {
    "duration": 12,
    "start_time": "2022-08-03T21:19:50.736Z"
   },
   {
    "duration": 4,
    "start_time": "2022-08-03T21:19:55.392Z"
   },
   {
    "duration": 187,
    "start_time": "2022-08-03T21:20:11.735Z"
   },
   {
    "duration": 196,
    "start_time": "2022-08-03T21:21:00.431Z"
   },
   {
    "duration": 13,
    "start_time": "2022-08-03T21:21:58.765Z"
   },
   {
    "duration": 7,
    "start_time": "2022-08-03T21:22:16.620Z"
   },
   {
    "duration": 13,
    "start_time": "2022-08-03T21:22:35.527Z"
   },
   {
    "duration": 15,
    "start_time": "2022-08-03T21:23:19.931Z"
   },
   {
    "duration": 7,
    "start_time": "2022-08-03T21:23:36.728Z"
   },
   {
    "duration": 14,
    "start_time": "2022-08-03T21:23:44.555Z"
   },
   {
    "duration": 11,
    "start_time": "2022-08-03T21:25:17.228Z"
   },
   {
    "duration": 13,
    "start_time": "2022-08-03T21:26:25.128Z"
   },
   {
    "duration": 755,
    "start_time": "2022-08-03T21:29:41.928Z"
   },
   {
    "duration": 730,
    "start_time": "2022-08-03T21:30:24.223Z"
   },
   {
    "duration": 699,
    "start_time": "2022-08-03T21:30:50.932Z"
   },
   {
    "duration": 3,
    "start_time": "2022-08-03T21:33:43.045Z"
   },
   {
    "duration": 78,
    "start_time": "2022-08-03T21:34:50.792Z"
   },
   {
    "duration": 50,
    "start_time": "2022-08-03T21:35:04.361Z"
   },
   {
    "duration": 22,
    "start_time": "2022-08-03T21:36:48.259Z"
   },
   {
    "duration": 678,
    "start_time": "2022-08-03T21:38:55.182Z"
   },
   {
    "duration": 815,
    "start_time": "2022-08-03T21:43:13.834Z"
   },
   {
    "duration": 56,
    "start_time": "2022-08-03T21:48:10.223Z"
   },
   {
    "duration": 57,
    "start_time": "2022-08-03T21:48:14.023Z"
   },
   {
    "duration": 48,
    "start_time": "2022-08-03T21:50:34.319Z"
   },
   {
    "duration": 64,
    "start_time": "2022-08-03T21:51:20.133Z"
   },
   {
    "duration": 52,
    "start_time": "2022-08-03T21:51:22.239Z"
   },
   {
    "duration": 51,
    "start_time": "2022-08-03T21:52:15.163Z"
   },
   {
    "duration": 55,
    "start_time": "2022-08-03T21:52:27.167Z"
   },
   {
    "duration": 3,
    "start_time": "2022-08-03T22:16:49.874Z"
   },
   {
    "duration": 49,
    "start_time": "2022-08-03T22:17:01.150Z"
   },
   {
    "duration": 46,
    "start_time": "2022-08-03T22:17:15.053Z"
   },
   {
    "duration": 49,
    "start_time": "2022-08-03T22:17:23.834Z"
   },
   {
    "duration": 53,
    "start_time": "2022-08-03T22:17:28.728Z"
   },
   {
    "duration": 53,
    "start_time": "2022-08-03T22:18:05.173Z"
   },
   {
    "duration": 7,
    "start_time": "2022-08-03T22:18:13.560Z"
   },
   {
    "duration": 12,
    "start_time": "2022-08-03T22:18:22.623Z"
   },
   {
    "duration": 20,
    "start_time": "2022-08-03T22:18:32.929Z"
   },
   {
    "duration": 55,
    "start_time": "2022-08-03T22:19:31.779Z"
   },
   {
    "duration": 12,
    "start_time": "2022-08-03T22:20:14.045Z"
   },
   {
    "duration": 21,
    "start_time": "2022-08-03T22:20:53.758Z"
   },
   {
    "duration": 47,
    "start_time": "2022-08-03T22:21:42.748Z"
   },
   {
    "duration": 813,
    "start_time": "2022-08-03T22:22:03.558Z"
   },
   {
    "duration": 726,
    "start_time": "2022-08-03T22:22:23.692Z"
   },
   {
    "duration": 42,
    "start_time": "2022-08-03T22:22:42.758Z"
   },
   {
    "duration": 888,
    "start_time": "2022-08-03T22:22:54.287Z"
   },
   {
    "duration": 11,
    "start_time": "2022-08-03T22:25:08.134Z"
   },
   {
    "duration": 747,
    "start_time": "2022-08-03T22:25:22.392Z"
   },
   {
    "duration": 807,
    "start_time": "2022-08-03T22:25:43.722Z"
   },
   {
    "duration": 47,
    "start_time": "2022-08-04T15:25:30.623Z"
   },
   {
    "duration": 7,
    "start_time": "2022-08-04T15:26:45.694Z"
   },
   {
    "duration": 6,
    "start_time": "2022-08-04T15:36:36.459Z"
   },
   {
    "duration": 6,
    "start_time": "2022-08-04T15:37:10.419Z"
   },
   {
    "duration": 6,
    "start_time": "2022-08-04T15:37:31.986Z"
   },
   {
    "duration": 6,
    "start_time": "2022-08-04T15:37:35.419Z"
   },
   {
    "duration": 7,
    "start_time": "2022-08-04T15:37:41.368Z"
   },
   {
    "duration": 6,
    "start_time": "2022-08-04T15:38:00.214Z"
   },
   {
    "duration": 6,
    "start_time": "2022-08-04T15:38:11.033Z"
   },
   {
    "duration": 6,
    "start_time": "2022-08-04T15:40:52.884Z"
   },
   {
    "duration": 6,
    "start_time": "2022-08-04T15:41:06.510Z"
   },
   {
    "duration": 7,
    "start_time": "2022-08-04T15:42:46.586Z"
   },
   {
    "duration": 6,
    "start_time": "2022-08-04T15:42:51.718Z"
   },
   {
    "duration": 8,
    "start_time": "2022-08-04T15:43:29.037Z"
   },
   {
    "duration": 6,
    "start_time": "2022-08-04T15:43:43.725Z"
   },
   {
    "duration": 7,
    "start_time": "2022-08-04T15:44:34.361Z"
   },
   {
    "duration": 64,
    "start_time": "2022-08-04T15:46:38.539Z"
   },
   {
    "duration": 50,
    "start_time": "2022-08-04T15:46:48.671Z"
   },
   {
    "duration": 46,
    "start_time": "2022-08-04T15:50:58.657Z"
   },
   {
    "duration": 7,
    "start_time": "2022-08-04T15:51:15.814Z"
   },
   {
    "duration": 8,
    "start_time": "2022-08-04T15:53:45.180Z"
   },
   {
    "duration": 6,
    "start_time": "2022-08-04T15:53:54.724Z"
   },
   {
    "duration": 6,
    "start_time": "2022-08-04T15:54:20.246Z"
   },
   {
    "duration": 6,
    "start_time": "2022-08-04T15:54:49.395Z"
   },
   {
    "duration": 6,
    "start_time": "2022-08-04T15:55:32.863Z"
   },
   {
    "duration": 6,
    "start_time": "2022-08-04T15:55:36.017Z"
   },
   {
    "duration": 6,
    "start_time": "2022-08-04T15:55:47.689Z"
   },
   {
    "duration": 388,
    "start_time": "2022-08-04T15:55:54.808Z"
   },
   {
    "duration": 333,
    "start_time": "2022-08-04T15:55:55.198Z"
   },
   {
    "duration": 13,
    "start_time": "2022-08-04T15:55:55.533Z"
   },
   {
    "duration": 29,
    "start_time": "2022-08-04T15:55:55.547Z"
   },
   {
    "duration": 4,
    "start_time": "2022-08-04T15:55:55.579Z"
   },
   {
    "duration": 13,
    "start_time": "2022-08-04T15:55:55.585Z"
   },
   {
    "duration": 5,
    "start_time": "2022-08-04T15:55:55.600Z"
   },
   {
    "duration": 205,
    "start_time": "2022-08-04T15:55:55.606Z"
   },
   {
    "duration": 25,
    "start_time": "2022-08-04T15:55:57.955Z"
   },
   {
    "duration": 61,
    "start_time": "2022-08-04T15:56:01.566Z"
   },
   {
    "duration": 68,
    "start_time": "2022-08-04T15:56:04.687Z"
   },
   {
    "duration": 59,
    "start_time": "2022-08-04T15:56:11.109Z"
   },
   {
    "duration": 49,
    "start_time": "2022-08-04T15:56:13.208Z"
   },
   {
    "duration": 28,
    "start_time": "2022-08-04T15:56:26.693Z"
   },
   {
    "duration": 68,
    "start_time": "2022-08-04T15:56:38.788Z"
   },
   {
    "duration": 60,
    "start_time": "2022-08-04T15:56:45.816Z"
   },
   {
    "duration": 64,
    "start_time": "2022-08-04T17:02:49.542Z"
   },
   {
    "duration": 73,
    "start_time": "2022-08-04T17:02:59.843Z"
   },
   {
    "duration": 9,
    "start_time": "2022-08-04T17:15:59.316Z"
   },
   {
    "duration": 811,
    "start_time": "2022-08-04T17:16:06.285Z"
   },
   {
    "duration": 729,
    "start_time": "2022-08-04T18:36:39.031Z"
   },
   {
    "duration": 855,
    "start_time": "2022-08-04T21:07:45.576Z"
   },
   {
    "duration": 1066,
    "start_time": "2022-08-04T21:07:52.967Z"
   },
   {
    "duration": 948,
    "start_time": "2022-08-04T21:08:28.352Z"
   },
   {
    "duration": 1015,
    "start_time": "2022-08-04T21:10:06.561Z"
   },
   {
    "duration": 823,
    "start_time": "2022-08-04T21:12:53.414Z"
   },
   {
    "duration": 899,
    "start_time": "2022-08-04T21:13:01.778Z"
   },
   {
    "duration": 796,
    "start_time": "2022-08-04T21:13:46.758Z"
   },
   {
    "duration": 1031,
    "start_time": "2022-08-04T21:14:11.712Z"
   },
   {
    "duration": 917,
    "start_time": "2022-08-04T21:14:14.556Z"
   },
   {
    "duration": 926,
    "start_time": "2022-08-04T21:14:23.316Z"
   },
   {
    "duration": 3,
    "start_time": "2022-08-04T21:14:36.117Z"
   },
   {
    "duration": 290,
    "start_time": "2022-08-04T21:14:36.123Z"
   },
   {
    "duration": 9,
    "start_time": "2022-08-04T21:14:36.416Z"
   },
   {
    "duration": 36,
    "start_time": "2022-08-04T21:14:36.427Z"
   },
   {
    "duration": 5,
    "start_time": "2022-08-04T21:14:36.466Z"
   },
   {
    "duration": 15,
    "start_time": "2022-08-04T21:14:36.472Z"
   },
   {
    "duration": 9,
    "start_time": "2022-08-04T21:14:36.489Z"
   },
   {
    "duration": 209,
    "start_time": "2022-08-04T21:14:36.500Z"
   },
   {
    "duration": 1195,
    "start_time": "2022-08-04T21:14:36.711Z"
   },
   {
    "duration": 1003,
    "start_time": "2022-08-04T21:14:38.645Z"
   },
   {
    "duration": 1054,
    "start_time": "2022-08-04T21:16:30.185Z"
   },
   {
    "duration": 1025,
    "start_time": "2022-08-04T21:17:05.910Z"
   },
   {
    "duration": 963,
    "start_time": "2022-08-04T21:17:37.478Z"
   },
   {
    "duration": 885,
    "start_time": "2022-08-04T21:19:04.534Z"
   },
   {
    "duration": 24,
    "start_time": "2022-08-04T21:19:31.055Z"
   },
   {
    "duration": 32,
    "start_time": "2022-08-04T21:19:44.040Z"
   },
   {
    "duration": 29,
    "start_time": "2022-08-04T21:19:53.652Z"
   },
   {
    "duration": 14,
    "start_time": "2022-08-04T21:28:20.444Z"
   },
   {
    "duration": 14,
    "start_time": "2022-08-04T21:28:24.418Z"
   },
   {
    "duration": 3,
    "start_time": "2022-08-04T21:28:31.273Z"
   },
   {
    "duration": 324,
    "start_time": "2022-08-04T21:28:31.280Z"
   },
   {
    "duration": 9,
    "start_time": "2022-08-04T21:28:31.606Z"
   },
   {
    "duration": 48,
    "start_time": "2022-08-04T21:28:31.617Z"
   },
   {
    "duration": 6,
    "start_time": "2022-08-04T21:28:31.667Z"
   },
   {
    "duration": 19,
    "start_time": "2022-08-04T21:28:31.675Z"
   },
   {
    "duration": 4,
    "start_time": "2022-08-04T21:28:31.696Z"
   },
   {
    "duration": 206,
    "start_time": "2022-08-04T21:28:31.703Z"
   },
   {
    "duration": 804,
    "start_time": "2022-08-04T21:28:33.122Z"
   },
   {
    "duration": 66,
    "start_time": "2022-08-04T21:30:00.123Z"
   },
   {
    "duration": 7,
    "start_time": "2022-08-04T21:32:05.166Z"
   },
   {
    "duration": 7,
    "start_time": "2022-08-04T21:32:24.754Z"
   },
   {
    "duration": 44,
    "start_time": "2022-08-04T21:33:19.537Z"
   },
   {
    "duration": 9,
    "start_time": "2022-08-04T21:39:02.717Z"
   },
   {
    "duration": 8,
    "start_time": "2022-08-04T21:39:15.225Z"
   },
   {
    "duration": 9,
    "start_time": "2022-08-04T21:39:26.771Z"
   },
   {
    "duration": 10,
    "start_time": "2022-08-04T21:39:55.454Z"
   },
   {
    "duration": 9,
    "start_time": "2022-08-04T21:51:40.782Z"
   },
   {
    "duration": 3,
    "start_time": "2022-08-04T21:51:51.724Z"
   },
   {
    "duration": 263,
    "start_time": "2022-08-04T21:51:51.729Z"
   },
   {
    "duration": 10,
    "start_time": "2022-08-04T21:51:51.994Z"
   },
   {
    "duration": 40,
    "start_time": "2022-08-04T21:51:52.006Z"
   },
   {
    "duration": 4,
    "start_time": "2022-08-04T21:51:52.048Z"
   },
   {
    "duration": 12,
    "start_time": "2022-08-04T21:51:52.053Z"
   },
   {
    "duration": 9,
    "start_time": "2022-08-04T21:51:52.067Z"
   },
   {
    "duration": 192,
    "start_time": "2022-08-04T21:51:52.077Z"
   },
   {
    "duration": 8,
    "start_time": "2022-08-04T21:51:53.295Z"
   },
   {
    "duration": 23,
    "start_time": "2022-08-04T21:52:02.323Z"
   },
   {
    "duration": 59,
    "start_time": "2022-08-04T21:52:05.948Z"
   },
   {
    "duration": 59,
    "start_time": "2022-08-04T21:52:08.353Z"
   },
   {
    "duration": 52,
    "start_time": "2022-08-04T21:52:10.017Z"
   },
   {
    "duration": 14,
    "start_time": "2022-08-04T22:44:26.375Z"
   },
   {
    "duration": 8,
    "start_time": "2022-08-04T22:44:30.210Z"
   },
   {
    "duration": 3,
    "start_time": "2022-08-04T22:44:44.155Z"
   },
   {
    "duration": 279,
    "start_time": "2022-08-04T22:44:44.160Z"
   },
   {
    "duration": 9,
    "start_time": "2022-08-04T22:44:44.441Z"
   },
   {
    "duration": 29,
    "start_time": "2022-08-04T22:44:44.452Z"
   },
   {
    "duration": 4,
    "start_time": "2022-08-04T22:44:44.483Z"
   },
   {
    "duration": 14,
    "start_time": "2022-08-04T22:44:44.488Z"
   },
   {
    "duration": 35,
    "start_time": "2022-08-04T22:44:44.504Z"
   },
   {
    "duration": 177,
    "start_time": "2022-08-04T22:44:44.541Z"
   },
   {
    "duration": 9,
    "start_time": "2022-08-04T22:44:46.087Z"
   },
   {
    "duration": 415,
    "start_time": "2022-08-05T14:16:13.934Z"
   },
   {
    "duration": 433,
    "start_time": "2022-08-05T14:16:14.351Z"
   },
   {
    "duration": 13,
    "start_time": "2022-08-05T14:16:14.786Z"
   },
   {
    "duration": 25,
    "start_time": "2022-08-05T14:16:14.801Z"
   },
   {
    "duration": 5,
    "start_time": "2022-08-05T14:16:14.828Z"
   },
   {
    "duration": 17,
    "start_time": "2022-08-05T14:16:14.835Z"
   },
   {
    "duration": 18,
    "start_time": "2022-08-05T14:16:14.854Z"
   },
   {
    "duration": 215,
    "start_time": "2022-08-05T14:16:14.874Z"
   },
   {
    "duration": 114,
    "start_time": "2022-08-05T14:16:15.681Z"
   },
   {
    "duration": 3,
    "start_time": "2022-08-05T14:17:34.497Z"
   },
   {
    "duration": 273,
    "start_time": "2022-08-05T14:17:36.678Z"
   },
   {
    "duration": 3,
    "start_time": "2022-08-05T14:17:42.649Z"
   },
   {
    "duration": 297,
    "start_time": "2022-08-05T14:17:42.654Z"
   },
   {
    "duration": 11,
    "start_time": "2022-08-05T14:17:42.953Z"
   },
   {
    "duration": 37,
    "start_time": "2022-08-05T14:17:42.966Z"
   },
   {
    "duration": 5,
    "start_time": "2022-08-05T14:17:43.006Z"
   },
   {
    "duration": 12,
    "start_time": "2022-08-05T14:17:43.013Z"
   },
   {
    "duration": 5,
    "start_time": "2022-08-05T14:17:43.026Z"
   },
   {
    "duration": 211,
    "start_time": "2022-08-05T14:17:43.033Z"
   },
   {
    "duration": 8,
    "start_time": "2022-08-05T14:17:43.246Z"
   },
   {
    "duration": 0,
    "start_time": "2022-08-05T14:17:43.256Z"
   },
   {
    "duration": 1,
    "start_time": "2022-08-05T14:17:43.257Z"
   },
   {
    "duration": 0,
    "start_time": "2022-08-05T14:17:43.258Z"
   },
   {
    "duration": 0,
    "start_time": "2022-08-05T14:17:43.259Z"
   },
   {
    "duration": 0,
    "start_time": "2022-08-05T14:17:43.260Z"
   },
   {
    "duration": 0,
    "start_time": "2022-08-05T14:17:43.261Z"
   },
   {
    "duration": 0,
    "start_time": "2022-08-05T14:17:43.262Z"
   },
   {
    "duration": 0,
    "start_time": "2022-08-05T14:17:43.263Z"
   },
   {
    "duration": 0,
    "start_time": "2022-08-05T14:17:43.264Z"
   },
   {
    "duration": 0,
    "start_time": "2022-08-05T14:17:43.264Z"
   },
   {
    "duration": 0,
    "start_time": "2022-08-05T14:17:43.265Z"
   },
   {
    "duration": 0,
    "start_time": "2022-08-05T14:17:43.266Z"
   },
   {
    "duration": 0,
    "start_time": "2022-08-05T14:17:43.267Z"
   },
   {
    "duration": 0,
    "start_time": "2022-08-05T14:17:43.268Z"
   },
   {
    "duration": 0,
    "start_time": "2022-08-05T14:17:43.269Z"
   },
   {
    "duration": 0,
    "start_time": "2022-08-05T14:17:43.270Z"
   },
   {
    "duration": 0,
    "start_time": "2022-08-05T14:17:43.298Z"
   },
   {
    "duration": 0,
    "start_time": "2022-08-05T14:17:43.299Z"
   },
   {
    "duration": 0,
    "start_time": "2022-08-05T14:17:43.300Z"
   },
   {
    "duration": 0,
    "start_time": "2022-08-05T14:17:43.301Z"
   },
   {
    "duration": 0,
    "start_time": "2022-08-05T14:17:43.302Z"
   },
   {
    "duration": 0,
    "start_time": "2022-08-05T14:17:43.303Z"
   },
   {
    "duration": 0,
    "start_time": "2022-08-05T14:17:43.304Z"
   },
   {
    "duration": 0,
    "start_time": "2022-08-05T14:17:43.304Z"
   },
   {
    "duration": 0,
    "start_time": "2022-08-05T14:17:43.305Z"
   },
   {
    "duration": 0,
    "start_time": "2022-08-05T14:17:43.307Z"
   },
   {
    "duration": 0,
    "start_time": "2022-08-05T14:17:43.307Z"
   },
   {
    "duration": 0,
    "start_time": "2022-08-05T14:17:43.308Z"
   },
   {
    "duration": 0,
    "start_time": "2022-08-05T14:17:43.309Z"
   },
   {
    "duration": 9,
    "start_time": "2022-08-05T14:17:53.761Z"
   },
   {
    "duration": 8,
    "start_time": "2022-08-05T14:23:01.235Z"
   },
   {
    "duration": 15,
    "start_time": "2022-08-05T14:29:14.461Z"
   },
   {
    "duration": 4,
    "start_time": "2022-08-05T14:31:09.806Z"
   },
   {
    "duration": 10,
    "start_time": "2022-08-05T14:31:29.451Z"
   },
   {
    "duration": 4,
    "start_time": "2022-08-05T14:31:33.526Z"
   },
   {
    "duration": 183,
    "start_time": "2022-08-05T14:31:37.396Z"
   },
   {
    "duration": 256,
    "start_time": "2022-08-05T14:32:38.056Z"
   },
   {
    "duration": 3,
    "start_time": "2022-08-05T14:36:44.181Z"
   },
   {
    "duration": 315,
    "start_time": "2022-08-05T14:36:44.188Z"
   },
   {
    "duration": 14,
    "start_time": "2022-08-05T14:36:44.506Z"
   },
   {
    "duration": 36,
    "start_time": "2022-08-05T14:36:44.522Z"
   },
   {
    "duration": 23,
    "start_time": "2022-08-05T14:36:44.561Z"
   },
   {
    "duration": 16,
    "start_time": "2022-08-05T14:36:44.586Z"
   },
   {
    "duration": 7,
    "start_time": "2022-08-05T14:36:44.604Z"
   },
   {
    "duration": 180,
    "start_time": "2022-08-05T14:36:44.613Z"
   },
   {
    "duration": 11,
    "start_time": "2022-08-05T14:36:44.797Z"
   },
   {
    "duration": 0,
    "start_time": "2022-08-05T14:36:44.811Z"
   },
   {
    "duration": 0,
    "start_time": "2022-08-05T14:36:44.812Z"
   },
   {
    "duration": 0,
    "start_time": "2022-08-05T14:36:44.813Z"
   },
   {
    "duration": 0,
    "start_time": "2022-08-05T14:36:44.814Z"
   },
   {
    "duration": 0,
    "start_time": "2022-08-05T14:36:44.815Z"
   },
   {
    "duration": 0,
    "start_time": "2022-08-05T14:36:44.816Z"
   },
   {
    "duration": 0,
    "start_time": "2022-08-05T14:36:44.817Z"
   },
   {
    "duration": 0,
    "start_time": "2022-08-05T14:36:44.818Z"
   },
   {
    "duration": 0,
    "start_time": "2022-08-05T14:36:44.819Z"
   },
   {
    "duration": 0,
    "start_time": "2022-08-05T14:36:44.819Z"
   },
   {
    "duration": 0,
    "start_time": "2022-08-05T14:36:44.820Z"
   },
   {
    "duration": 0,
    "start_time": "2022-08-05T14:36:44.821Z"
   },
   {
    "duration": 0,
    "start_time": "2022-08-05T14:36:44.822Z"
   },
   {
    "duration": 0,
    "start_time": "2022-08-05T14:36:44.824Z"
   },
   {
    "duration": 1,
    "start_time": "2022-08-05T14:36:44.824Z"
   },
   {
    "duration": 0,
    "start_time": "2022-08-05T14:36:44.826Z"
   },
   {
    "duration": 0,
    "start_time": "2022-08-05T14:36:44.827Z"
   },
   {
    "duration": 0,
    "start_time": "2022-08-05T14:36:44.827Z"
   },
   {
    "duration": 0,
    "start_time": "2022-08-05T14:36:44.828Z"
   },
   {
    "duration": 0,
    "start_time": "2022-08-05T14:36:44.829Z"
   },
   {
    "duration": 0,
    "start_time": "2022-08-05T14:36:44.830Z"
   },
   {
    "duration": 0,
    "start_time": "2022-08-05T14:36:44.831Z"
   },
   {
    "duration": 0,
    "start_time": "2022-08-05T14:36:44.832Z"
   },
   {
    "duration": 0,
    "start_time": "2022-08-05T14:36:44.833Z"
   },
   {
    "duration": 0,
    "start_time": "2022-08-05T14:36:44.834Z"
   },
   {
    "duration": 0,
    "start_time": "2022-08-05T14:36:44.835Z"
   },
   {
    "duration": 0,
    "start_time": "2022-08-05T14:36:44.836Z"
   },
   {
    "duration": 0,
    "start_time": "2022-08-05T14:36:44.837Z"
   },
   {
    "duration": 0,
    "start_time": "2022-08-05T14:36:44.838Z"
   },
   {
    "duration": 41,
    "start_time": "2022-08-05T14:37:23.392Z"
   },
   {
    "duration": 8,
    "start_time": "2022-08-05T14:37:31.756Z"
   },
   {
    "duration": 4,
    "start_time": "2022-08-05T14:37:35.405Z"
   },
   {
    "duration": 39,
    "start_time": "2022-08-05T14:37:38.940Z"
   },
   {
    "duration": 44,
    "start_time": "2022-08-05T14:37:46.267Z"
   },
   {
    "duration": 40,
    "start_time": "2022-08-05T14:37:50.856Z"
   },
   {
    "duration": 48,
    "start_time": "2022-08-05T14:37:56.276Z"
   },
   {
    "duration": 22,
    "start_time": "2022-08-05T14:40:19.927Z"
   },
   {
    "duration": 88,
    "start_time": "2022-08-05T14:40:23.968Z"
   },
   {
    "duration": 52,
    "start_time": "2022-08-05T14:40:27.112Z"
   },
   {
    "duration": 45,
    "start_time": "2022-08-05T14:40:53.585Z"
   },
   {
    "duration": 121,
    "start_time": "2022-08-05T20:36:55.462Z"
   },
   {
    "duration": 119,
    "start_time": "2022-08-05T20:37:06.336Z"
   },
   {
    "duration": 87,
    "start_time": "2022-08-05T20:37:23.015Z"
   },
   {
    "duration": 48,
    "start_time": "2022-08-05T20:37:52.815Z"
   },
   {
    "duration": 6,
    "start_time": "2022-08-05T20:38:04.150Z"
   },
   {
    "duration": 465,
    "start_time": "2022-08-05T20:38:17.504Z"
   },
   {
    "duration": 712,
    "start_time": "2022-08-05T20:38:17.971Z"
   },
   {
    "duration": 25,
    "start_time": "2022-08-05T20:38:18.685Z"
   },
   {
    "duration": 45,
    "start_time": "2022-08-05T20:38:18.712Z"
   },
   {
    "duration": 4,
    "start_time": "2022-08-05T20:38:18.759Z"
   },
   {
    "duration": 15,
    "start_time": "2022-08-05T20:38:18.765Z"
   },
   {
    "duration": 7,
    "start_time": "2022-08-05T20:38:18.781Z"
   },
   {
    "duration": 87,
    "start_time": "2022-08-05T20:38:18.792Z"
   },
   {
    "duration": 86,
    "start_time": "2022-08-05T20:38:18.880Z"
   },
   {
    "duration": 43,
    "start_time": "2022-08-05T20:38:18.969Z"
   },
   {
    "duration": 72,
    "start_time": "2022-08-05T20:38:19.018Z"
   },
   {
    "duration": 124,
    "start_time": "2022-08-05T20:38:19.097Z"
   },
   {
    "duration": 60,
    "start_time": "2022-08-05T20:38:19.222Z"
   },
   {
    "duration": 21,
    "start_time": "2022-08-05T20:38:19.284Z"
   },
   {
    "duration": 20,
    "start_time": "2022-08-05T20:38:19.310Z"
   },
   {
    "duration": 9,
    "start_time": "2022-08-05T20:38:19.332Z"
   },
   {
    "duration": 8,
    "start_time": "2022-08-05T20:38:19.344Z"
   },
   {
    "duration": 5,
    "start_time": "2022-08-05T20:38:19.354Z"
   },
   {
    "duration": 7,
    "start_time": "2022-08-05T20:38:19.361Z"
   },
   {
    "duration": 8,
    "start_time": "2022-08-05T20:38:19.371Z"
   },
   {
    "duration": 8,
    "start_time": "2022-08-05T20:38:19.381Z"
   },
   {
    "duration": 43,
    "start_time": "2022-08-05T20:38:19.391Z"
   },
   {
    "duration": 13,
    "start_time": "2022-08-05T20:38:19.436Z"
   },
   {
    "duration": 10,
    "start_time": "2022-08-05T20:38:19.451Z"
   },
   {
    "duration": 7,
    "start_time": "2022-08-05T20:38:19.464Z"
   },
   {
    "duration": 6,
    "start_time": "2022-08-05T20:38:19.473Z"
   },
   {
    "duration": 7,
    "start_time": "2022-08-05T20:38:19.481Z"
   },
   {
    "duration": 36,
    "start_time": "2022-08-05T20:38:19.496Z"
   },
   {
    "duration": 7,
    "start_time": "2022-08-05T20:38:19.534Z"
   },
   {
    "duration": 105,
    "start_time": "2022-08-05T20:38:19.543Z"
   },
   {
    "duration": 0,
    "start_time": "2022-08-05T20:38:19.650Z"
   },
   {
    "duration": 0,
    "start_time": "2022-08-05T20:38:19.652Z"
   },
   {
    "duration": 0,
    "start_time": "2022-08-05T20:38:19.653Z"
   },
   {
    "duration": 0,
    "start_time": "2022-08-05T20:38:19.655Z"
   },
   {
    "duration": 0,
    "start_time": "2022-08-05T20:38:19.656Z"
   },
   {
    "duration": 0,
    "start_time": "2022-08-05T20:38:19.658Z"
   },
   {
    "duration": 0,
    "start_time": "2022-08-05T20:38:19.660Z"
   },
   {
    "duration": 0,
    "start_time": "2022-08-05T20:38:19.662Z"
   },
   {
    "duration": 73,
    "start_time": "2022-08-05T20:38:31.161Z"
   },
   {
    "duration": 39,
    "start_time": "2022-08-05T20:41:47.623Z"
   },
   {
    "duration": 18,
    "start_time": "2022-08-05T20:42:08.823Z"
   },
   {
    "duration": 12,
    "start_time": "2022-08-05T20:42:34.828Z"
   },
   {
    "duration": 8,
    "start_time": "2022-08-05T20:52:57.304Z"
   },
   {
    "duration": 8,
    "start_time": "2022-08-05T20:56:00.356Z"
   },
   {
    "duration": 8,
    "start_time": "2022-08-05T20:57:27.080Z"
   },
   {
    "duration": 9,
    "start_time": "2022-08-05T20:57:50.220Z"
   },
   {
    "duration": 9,
    "start_time": "2022-08-05T20:58:56.778Z"
   },
   {
    "duration": 19,
    "start_time": "2022-08-05T20:59:14.806Z"
   },
   {
    "duration": 33,
    "start_time": "2022-08-05T20:59:28.973Z"
   },
   {
    "duration": 3,
    "start_time": "2022-08-05T21:02:37.810Z"
   },
   {
    "duration": 10,
    "start_time": "2022-08-05T21:02:41.008Z"
   },
   {
    "duration": 5,
    "start_time": "2022-08-05T21:02:43.085Z"
   },
   {
    "duration": 7,
    "start_time": "2022-08-05T21:02:53.955Z"
   },
   {
    "duration": 9,
    "start_time": "2022-08-05T21:05:05.627Z"
   },
   {
    "duration": 3,
    "start_time": "2022-08-05T21:05:42.417Z"
   },
   {
    "duration": 6,
    "start_time": "2022-08-05T21:05:57.504Z"
   },
   {
    "duration": 6,
    "start_time": "2022-08-05T22:31:18.006Z"
   },
   {
    "duration": 54,
    "start_time": "2022-08-05T22:31:57.767Z"
   },
   {
    "duration": 45,
    "start_time": "2022-08-05T22:33:28.254Z"
   },
   {
    "duration": 16,
    "start_time": "2022-08-05T22:39:49.008Z"
   },
   {
    "duration": 49,
    "start_time": "2022-08-05T22:39:57.530Z"
   },
   {
    "duration": 36,
    "start_time": "2022-08-05T22:41:02.866Z"
   },
   {
    "duration": 455,
    "start_time": "2022-08-06T16:30:15.670Z"
   },
   {
    "duration": 337,
    "start_time": "2022-08-06T16:30:16.127Z"
   },
   {
    "duration": 9,
    "start_time": "2022-08-06T16:30:16.466Z"
   },
   {
    "duration": 39,
    "start_time": "2022-08-06T16:30:16.478Z"
   },
   {
    "duration": 5,
    "start_time": "2022-08-06T16:30:16.519Z"
   },
   {
    "duration": 21,
    "start_time": "2022-08-06T16:30:16.526Z"
   },
   {
    "duration": 8,
    "start_time": "2022-08-06T16:30:16.549Z"
   },
   {
    "duration": 50,
    "start_time": "2022-08-06T16:30:16.559Z"
   },
   {
    "duration": 61,
    "start_time": "2022-08-06T16:30:16.611Z"
   },
   {
    "duration": 40,
    "start_time": "2022-08-06T16:30:16.675Z"
   },
   {
    "duration": 61,
    "start_time": "2022-08-06T16:30:16.716Z"
   },
   {
    "duration": 81,
    "start_time": "2022-08-06T16:30:16.779Z"
   },
   {
    "duration": 72,
    "start_time": "2022-08-06T16:30:16.862Z"
   },
   {
    "duration": 7,
    "start_time": "2022-08-06T16:30:16.935Z"
   },
   {
    "duration": 10,
    "start_time": "2022-08-06T16:30:16.944Z"
   },
   {
    "duration": 25,
    "start_time": "2022-08-06T16:30:16.955Z"
   },
   {
    "duration": 7,
    "start_time": "2022-08-06T16:30:16.981Z"
   },
   {
    "duration": 50,
    "start_time": "2022-08-06T16:30:16.989Z"
   },
   {
    "duration": 30,
    "start_time": "2022-08-06T16:30:17.041Z"
   },
   {
    "duration": 64,
    "start_time": "2022-08-06T16:30:17.073Z"
   },
   {
    "duration": 0,
    "start_time": "2022-08-06T16:30:17.139Z"
   },
   {
    "duration": 0,
    "start_time": "2022-08-06T16:30:17.140Z"
   },
   {
    "duration": 0,
    "start_time": "2022-08-06T16:30:17.142Z"
   },
   {
    "duration": 0,
    "start_time": "2022-08-06T16:30:17.143Z"
   },
   {
    "duration": 0,
    "start_time": "2022-08-06T16:30:17.145Z"
   },
   {
    "duration": 0,
    "start_time": "2022-08-06T16:30:17.146Z"
   },
   {
    "duration": 0,
    "start_time": "2022-08-06T16:30:17.147Z"
   },
   {
    "duration": 0,
    "start_time": "2022-08-06T16:30:17.149Z"
   },
   {
    "duration": 0,
    "start_time": "2022-08-06T16:30:17.150Z"
   },
   {
    "duration": 0,
    "start_time": "2022-08-06T16:30:17.152Z"
   },
   {
    "duration": 0,
    "start_time": "2022-08-06T16:30:17.153Z"
   },
   {
    "duration": 0,
    "start_time": "2022-08-06T16:30:17.154Z"
   },
   {
    "duration": 0,
    "start_time": "2022-08-06T16:30:17.156Z"
   },
   {
    "duration": 0,
    "start_time": "2022-08-06T16:30:17.158Z"
   },
   {
    "duration": 3,
    "start_time": "2022-08-06T16:30:17.181Z"
   },
   {
    "duration": 25,
    "start_time": "2022-08-06T16:30:17.186Z"
   },
   {
    "duration": 17,
    "start_time": "2022-08-06T16:30:17.213Z"
   },
   {
    "duration": 25,
    "start_time": "2022-08-06T16:30:17.232Z"
   },
   {
    "duration": 50,
    "start_time": "2022-08-06T17:49:37.329Z"
   },
   {
    "duration": 118,
    "start_time": "2022-08-06T17:50:03.715Z"
   },
   {
    "duration": 51,
    "start_time": "2022-08-06T17:53:08.646Z"
   },
   {
    "duration": 51,
    "start_time": "2022-08-06T17:54:35.494Z"
   },
   {
    "duration": 13,
    "start_time": "2022-08-06T17:54:53.255Z"
   },
   {
    "duration": 4,
    "start_time": "2022-08-06T17:56:57.178Z"
   },
   {
    "duration": 350,
    "start_time": "2022-08-06T17:56:57.185Z"
   },
   {
    "duration": 10,
    "start_time": "2022-08-06T17:56:57.537Z"
   },
   {
    "duration": 33,
    "start_time": "2022-08-06T17:56:57.549Z"
   },
   {
    "duration": 4,
    "start_time": "2022-08-06T17:56:57.585Z"
   },
   {
    "duration": 12,
    "start_time": "2022-08-06T17:56:57.609Z"
   },
   {
    "duration": 8,
    "start_time": "2022-08-06T17:56:57.623Z"
   },
   {
    "duration": 76,
    "start_time": "2022-08-06T17:56:57.634Z"
   },
   {
    "duration": 57,
    "start_time": "2022-08-06T17:56:57.712Z"
   },
   {
    "duration": 43,
    "start_time": "2022-08-06T17:56:57.770Z"
   },
   {
    "duration": 62,
    "start_time": "2022-08-06T17:56:57.816Z"
   },
   {
    "duration": 82,
    "start_time": "2022-08-06T17:56:57.879Z"
   },
   {
    "duration": 66,
    "start_time": "2022-08-06T17:56:57.962Z"
   },
   {
    "duration": 9,
    "start_time": "2022-08-06T17:56:58.030Z"
   },
   {
    "duration": 6,
    "start_time": "2022-08-06T17:56:58.041Z"
   },
   {
    "duration": 11,
    "start_time": "2022-08-06T17:56:58.049Z"
   },
   {
    "duration": 5,
    "start_time": "2022-08-06T17:56:58.062Z"
   },
   {
    "duration": 75,
    "start_time": "2022-08-06T17:56:58.069Z"
   },
   {
    "duration": 32,
    "start_time": "2022-08-06T17:56:58.146Z"
   },
   {
    "duration": 29,
    "start_time": "2022-08-06T17:56:58.180Z"
   },
   {
    "duration": 3,
    "start_time": "2022-08-06T17:56:58.212Z"
   },
   {
    "duration": 4,
    "start_time": "2022-08-06T17:56:58.217Z"
   },
   {
    "duration": 5,
    "start_time": "2022-08-06T17:56:58.223Z"
   },
   {
    "duration": 7,
    "start_time": "2022-08-06T17:56:58.229Z"
   },
   {
    "duration": 6,
    "start_time": "2022-08-06T17:56:58.237Z"
   },
   {
    "duration": 5,
    "start_time": "2022-08-06T17:56:58.245Z"
   },
   {
    "duration": 5,
    "start_time": "2022-08-06T17:56:58.252Z"
   },
   {
    "duration": 9,
    "start_time": "2022-08-06T17:56:58.259Z"
   },
   {
    "duration": 5,
    "start_time": "2022-08-06T17:56:58.272Z"
   },
   {
    "duration": 50,
    "start_time": "2022-08-06T17:56:58.279Z"
   },
   {
    "duration": 0,
    "start_time": "2022-08-06T17:56:58.330Z"
   },
   {
    "duration": 0,
    "start_time": "2022-08-06T17:56:58.332Z"
   },
   {
    "duration": 1,
    "start_time": "2022-08-06T17:56:58.333Z"
   },
   {
    "duration": 0,
    "start_time": "2022-08-06T17:56:58.334Z"
   },
   {
    "duration": 0,
    "start_time": "2022-08-06T17:56:58.335Z"
   },
   {
    "duration": 0,
    "start_time": "2022-08-06T17:56:58.337Z"
   },
   {
    "duration": 0,
    "start_time": "2022-08-06T17:56:58.338Z"
   },
   {
    "duration": 0,
    "start_time": "2022-08-06T17:56:58.339Z"
   },
   {
    "duration": 15,
    "start_time": "2022-08-06T17:57:13.694Z"
   },
   {
    "duration": 14,
    "start_time": "2022-08-06T18:00:39.959Z"
   },
   {
    "duration": 11,
    "start_time": "2022-08-06T18:07:43.222Z"
   },
   {
    "duration": 6,
    "start_time": "2022-08-06T18:07:51.717Z"
   },
   {
    "duration": 6,
    "start_time": "2022-08-06T18:08:01.609Z"
   },
   {
    "duration": 9,
    "start_time": "2022-08-06T18:08:14.377Z"
   },
   {
    "duration": 6,
    "start_time": "2022-08-06T18:08:49.270Z"
   },
   {
    "duration": 5,
    "start_time": "2022-08-06T18:08:54.336Z"
   },
   {
    "duration": 3,
    "start_time": "2022-08-06T18:08:58.054Z"
   },
   {
    "duration": 302,
    "start_time": "2022-08-06T18:08:58.252Z"
   },
   {
    "duration": 12,
    "start_time": "2022-08-06T18:08:58.556Z"
   },
   {
    "duration": 45,
    "start_time": "2022-08-06T18:08:58.570Z"
   },
   {
    "duration": 8,
    "start_time": "2022-08-06T18:08:58.617Z"
   },
   {
    "duration": 12,
    "start_time": "2022-08-06T18:08:58.628Z"
   },
   {
    "duration": 4,
    "start_time": "2022-08-06T18:08:58.642Z"
   },
   {
    "duration": 63,
    "start_time": "2022-08-06T18:08:58.647Z"
   },
   {
    "duration": 58,
    "start_time": "2022-08-06T18:08:58.711Z"
   },
   {
    "duration": 43,
    "start_time": "2022-08-06T18:08:58.771Z"
   },
   {
    "duration": 67,
    "start_time": "2022-08-06T18:08:58.816Z"
   },
   {
    "duration": 80,
    "start_time": "2022-08-06T18:08:58.884Z"
   },
   {
    "duration": 62,
    "start_time": "2022-08-06T18:08:58.966Z"
   },
   {
    "duration": 7,
    "start_time": "2022-08-06T18:08:59.029Z"
   },
   {
    "duration": 3,
    "start_time": "2022-08-06T18:08:59.039Z"
   },
   {
    "duration": 14,
    "start_time": "2022-08-06T18:08:59.043Z"
   },
   {
    "duration": 6,
    "start_time": "2022-08-06T18:08:59.059Z"
   },
   {
    "duration": 55,
    "start_time": "2022-08-06T18:08:59.066Z"
   },
   {
    "duration": 33,
    "start_time": "2022-08-06T18:08:59.122Z"
   },
   {
    "duration": 4,
    "start_time": "2022-08-06T18:08:59.156Z"
   },
   {
    "duration": 10,
    "start_time": "2022-08-06T18:08:59.162Z"
   },
   {
    "duration": 7,
    "start_time": "2022-08-06T18:08:59.174Z"
   },
   {
    "duration": 7,
    "start_time": "2022-08-06T18:08:59.182Z"
   },
   {
    "duration": 6,
    "start_time": "2022-08-06T18:08:59.191Z"
   },
   {
    "duration": 9,
    "start_time": "2022-08-06T18:08:59.210Z"
   },
   {
    "duration": 6,
    "start_time": "2022-08-06T18:08:59.221Z"
   },
   {
    "duration": 7,
    "start_time": "2022-08-06T18:08:59.230Z"
   },
   {
    "duration": 5,
    "start_time": "2022-08-06T18:08:59.240Z"
   },
   {
    "duration": 8,
    "start_time": "2022-08-06T18:08:59.247Z"
   },
   {
    "duration": 62,
    "start_time": "2022-08-06T18:08:59.257Z"
   },
   {
    "duration": 0,
    "start_time": "2022-08-06T18:08:59.322Z"
   },
   {
    "duration": 0,
    "start_time": "2022-08-06T18:08:59.323Z"
   },
   {
    "duration": 0,
    "start_time": "2022-08-06T18:08:59.325Z"
   },
   {
    "duration": 0,
    "start_time": "2022-08-06T18:08:59.326Z"
   },
   {
    "duration": 1,
    "start_time": "2022-08-06T18:08:59.327Z"
   },
   {
    "duration": 0,
    "start_time": "2022-08-06T18:08:59.329Z"
   },
   {
    "duration": 0,
    "start_time": "2022-08-06T18:08:59.330Z"
   },
   {
    "duration": 0,
    "start_time": "2022-08-06T18:08:59.332Z"
   },
   {
    "duration": 5,
    "start_time": "2022-08-06T18:09:05.308Z"
   },
   {
    "duration": 44,
    "start_time": "2022-08-06T18:10:12.777Z"
   },
   {
    "duration": 942,
    "start_time": "2022-08-06T18:10:24.011Z"
   },
   {
    "duration": 7,
    "start_time": "2022-08-06T18:10:54.133Z"
   },
   {
    "duration": 56,
    "start_time": "2022-08-06T18:19:21.703Z"
   },
   {
    "duration": 60,
    "start_time": "2022-08-06T18:20:04.471Z"
   },
   {
    "duration": 47,
    "start_time": "2022-08-06T18:20:09.799Z"
   },
   {
    "duration": 4,
    "start_time": "2022-08-06T18:20:27.003Z"
   },
   {
    "duration": 3,
    "start_time": "2022-08-06T18:20:39.328Z"
   },
   {
    "duration": 986,
    "start_time": "2022-08-06T18:20:41.216Z"
   },
   {
    "duration": 4,
    "start_time": "2022-08-06T18:21:11.395Z"
   },
   {
    "duration": 4,
    "start_time": "2022-08-06T18:21:36.861Z"
   },
   {
    "duration": 4,
    "start_time": "2022-08-06T18:21:39.558Z"
   },
   {
    "duration": 26,
    "start_time": "2022-08-06T18:21:41.934Z"
   },
   {
    "duration": 9,
    "start_time": "2022-08-06T18:22:04.383Z"
   },
   {
    "duration": 9,
    "start_time": "2022-08-06T18:22:27.933Z"
   },
   {
    "duration": 9,
    "start_time": "2022-08-06T18:22:47.168Z"
   },
   {
    "duration": 3,
    "start_time": "2022-08-06T18:23:54.325Z"
   },
   {
    "duration": 281,
    "start_time": "2022-08-06T18:23:54.333Z"
   },
   {
    "duration": 10,
    "start_time": "2022-08-06T18:23:54.616Z"
   },
   {
    "duration": 33,
    "start_time": "2022-08-06T18:23:54.628Z"
   },
   {
    "duration": 4,
    "start_time": "2022-08-06T18:23:54.663Z"
   },
   {
    "duration": 16,
    "start_time": "2022-08-06T18:23:54.669Z"
   },
   {
    "duration": 5,
    "start_time": "2022-08-06T18:23:54.709Z"
   },
   {
    "duration": 49,
    "start_time": "2022-08-06T18:23:54.715Z"
   },
   {
    "duration": 75,
    "start_time": "2022-08-06T18:23:54.765Z"
   },
   {
    "duration": 25,
    "start_time": "2022-08-06T18:23:54.841Z"
   },
   {
    "duration": 75,
    "start_time": "2022-08-06T18:23:54.869Z"
   },
   {
    "duration": 80,
    "start_time": "2022-08-06T18:23:54.946Z"
   },
   {
    "duration": 53,
    "start_time": "2022-08-06T18:23:55.027Z"
   },
   {
    "duration": 8,
    "start_time": "2022-08-06T18:23:55.082Z"
   },
   {
    "duration": 18,
    "start_time": "2022-08-06T18:23:55.092Z"
   },
   {
    "duration": 15,
    "start_time": "2022-08-06T18:23:55.111Z"
   },
   {
    "duration": 6,
    "start_time": "2022-08-06T18:23:55.128Z"
   },
   {
    "duration": 39,
    "start_time": "2022-08-06T18:23:55.135Z"
   },
   {
    "duration": 51,
    "start_time": "2022-08-06T18:23:55.176Z"
   },
   {
    "duration": 4,
    "start_time": "2022-08-06T18:23:55.229Z"
   },
   {
    "duration": 29,
    "start_time": "2022-08-06T18:23:55.235Z"
   },
   {
    "duration": 0,
    "start_time": "2022-08-06T18:23:55.265Z"
   },
   {
    "duration": 0,
    "start_time": "2022-08-06T18:23:55.267Z"
   },
   {
    "duration": 0,
    "start_time": "2022-08-06T18:23:55.268Z"
   },
   {
    "duration": 0,
    "start_time": "2022-08-06T18:23:55.270Z"
   },
   {
    "duration": 0,
    "start_time": "2022-08-06T18:23:55.271Z"
   },
   {
    "duration": 0,
    "start_time": "2022-08-06T18:23:55.273Z"
   },
   {
    "duration": 0,
    "start_time": "2022-08-06T18:23:55.274Z"
   },
   {
    "duration": 0,
    "start_time": "2022-08-06T18:23:55.276Z"
   },
   {
    "duration": 0,
    "start_time": "2022-08-06T18:23:55.309Z"
   },
   {
    "duration": 0,
    "start_time": "2022-08-06T18:23:55.310Z"
   },
   {
    "duration": 0,
    "start_time": "2022-08-06T18:23:55.311Z"
   },
   {
    "duration": 0,
    "start_time": "2022-08-06T18:23:55.312Z"
   },
   {
    "duration": 0,
    "start_time": "2022-08-06T18:23:55.313Z"
   },
   {
    "duration": 0,
    "start_time": "2022-08-06T18:23:55.314Z"
   },
   {
    "duration": 0,
    "start_time": "2022-08-06T18:23:55.315Z"
   },
   {
    "duration": 0,
    "start_time": "2022-08-06T18:23:55.317Z"
   },
   {
    "duration": 0,
    "start_time": "2022-08-06T18:23:55.317Z"
   },
   {
    "duration": 4,
    "start_time": "2022-08-06T18:24:02.640Z"
   },
   {
    "duration": 19,
    "start_time": "2022-08-06T18:24:05.910Z"
   },
   {
    "duration": 4,
    "start_time": "2022-08-06T18:25:23.095Z"
   },
   {
    "duration": 18,
    "start_time": "2022-08-06T18:25:54.830Z"
   },
   {
    "duration": 12,
    "start_time": "2022-08-06T18:31:11.908Z"
   },
   {
    "duration": 17,
    "start_time": "2022-08-06T18:32:38.339Z"
   },
   {
    "duration": 7,
    "start_time": "2022-08-06T18:32:45.728Z"
   },
   {
    "duration": 31,
    "start_time": "2022-08-06T18:35:59.811Z"
   },
   {
    "duration": 32,
    "start_time": "2022-08-06T18:36:03.288Z"
   },
   {
    "duration": 32,
    "start_time": "2022-08-06T18:36:09.975Z"
   },
   {
    "duration": 37,
    "start_time": "2022-08-06T18:36:11.669Z"
   },
   {
    "duration": 4,
    "start_time": "2022-08-06T18:37:21.326Z"
   },
   {
    "duration": 4,
    "start_time": "2022-08-06T18:37:26.016Z"
   },
   {
    "duration": 16,
    "start_time": "2022-08-06T18:37:28.975Z"
   },
   {
    "duration": 14,
    "start_time": "2022-08-06T18:42:06.769Z"
   },
   {
    "duration": 11,
    "start_time": "2022-08-06T18:42:20.181Z"
   },
   {
    "duration": 481,
    "start_time": "2022-08-07T01:15:40.035Z"
   },
   {
    "duration": 640,
    "start_time": "2022-08-07T01:15:40.518Z"
   },
   {
    "duration": 16,
    "start_time": "2022-08-07T01:15:41.161Z"
   },
   {
    "duration": 31,
    "start_time": "2022-08-07T01:15:41.191Z"
   },
   {
    "duration": 10,
    "start_time": "2022-08-07T01:15:41.224Z"
   },
   {
    "duration": 38,
    "start_time": "2022-08-07T01:15:41.236Z"
   },
   {
    "duration": 19,
    "start_time": "2022-08-07T01:15:41.275Z"
   },
   {
    "duration": 66,
    "start_time": "2022-08-07T01:15:41.296Z"
   },
   {
    "duration": 80,
    "start_time": "2022-08-07T01:15:41.364Z"
   },
   {
    "duration": 26,
    "start_time": "2022-08-07T01:15:41.445Z"
   },
   {
    "duration": 104,
    "start_time": "2022-08-07T01:15:41.473Z"
   },
   {
    "duration": 86,
    "start_time": "2022-08-07T01:15:41.579Z"
   },
   {
    "duration": 75,
    "start_time": "2022-08-07T01:15:41.667Z"
   },
   {
    "duration": 9,
    "start_time": "2022-08-07T01:15:41.746Z"
   },
   {
    "duration": 8,
    "start_time": "2022-08-07T01:15:41.756Z"
   },
   {
    "duration": 26,
    "start_time": "2022-08-07T01:15:41.766Z"
   },
   {
    "duration": 6,
    "start_time": "2022-08-07T01:15:41.795Z"
   },
   {
    "duration": 74,
    "start_time": "2022-08-07T01:15:41.803Z"
   },
   {
    "duration": 46,
    "start_time": "2022-08-07T01:15:41.880Z"
   },
   {
    "duration": 7,
    "start_time": "2022-08-07T01:15:41.927Z"
   },
   {
    "duration": 123,
    "start_time": "2022-08-07T01:15:41.937Z"
   },
   {
    "duration": 0,
    "start_time": "2022-08-07T01:15:42.062Z"
   },
   {
    "duration": 0,
    "start_time": "2022-08-07T01:15:42.064Z"
   },
   {
    "duration": 0,
    "start_time": "2022-08-07T01:15:42.066Z"
   },
   {
    "duration": 0,
    "start_time": "2022-08-07T01:15:42.068Z"
   },
   {
    "duration": 0,
    "start_time": "2022-08-07T01:15:42.069Z"
   },
   {
    "duration": 0,
    "start_time": "2022-08-07T01:15:42.070Z"
   },
   {
    "duration": 0,
    "start_time": "2022-08-07T01:15:42.071Z"
   },
   {
    "duration": 0,
    "start_time": "2022-08-07T01:15:42.092Z"
   },
   {
    "duration": 0,
    "start_time": "2022-08-07T01:15:42.094Z"
   },
   {
    "duration": 0,
    "start_time": "2022-08-07T01:15:42.095Z"
   },
   {
    "duration": 0,
    "start_time": "2022-08-07T01:15:42.096Z"
   },
   {
    "duration": 0,
    "start_time": "2022-08-07T01:15:42.098Z"
   },
   {
    "duration": 0,
    "start_time": "2022-08-07T01:15:42.099Z"
   },
   {
    "duration": 0,
    "start_time": "2022-08-07T01:15:42.100Z"
   },
   {
    "duration": 0,
    "start_time": "2022-08-07T01:15:42.101Z"
   },
   {
    "duration": 0,
    "start_time": "2022-08-07T01:15:42.102Z"
   },
   {
    "duration": 0,
    "start_time": "2022-08-07T01:15:42.104Z"
   },
   {
    "duration": 6,
    "start_time": "2022-08-07T01:16:11.550Z"
   },
   {
    "duration": 5,
    "start_time": "2022-08-07T01:16:29.723Z"
   },
   {
    "duration": 4,
    "start_time": "2022-08-07T01:16:36.605Z"
   },
   {
    "duration": 6,
    "start_time": "2022-08-07T01:16:41.960Z"
   },
   {
    "duration": 3,
    "start_time": "2022-08-07T01:19:00.943Z"
   },
   {
    "duration": 18,
    "start_time": "2022-08-07T02:17:54.161Z"
   },
   {
    "duration": 11,
    "start_time": "2022-08-07T02:18:07.649Z"
   },
   {
    "duration": 4,
    "start_time": "2022-08-07T02:28:27.516Z"
   },
   {
    "duration": 5,
    "start_time": "2022-08-07T02:29:29.255Z"
   },
   {
    "duration": 1220,
    "start_time": "2022-08-07T02:29:33.047Z"
   },
   {
    "duration": 1217,
    "start_time": "2022-08-07T02:29:54.200Z"
   },
   {
    "duration": 4,
    "start_time": "2022-08-07T02:34:45.940Z"
   },
   {
    "duration": 0,
    "start_time": "2022-08-07T02:34:47.252Z"
   },
   {
    "duration": 5,
    "start_time": "2022-08-07T02:42:38.085Z"
   },
   {
    "duration": 1209,
    "start_time": "2022-08-07T02:42:41.439Z"
   },
   {
    "duration": 436,
    "start_time": "2022-08-07T04:50:55.595Z"
   },
   {
    "duration": 354,
    "start_time": "2022-08-07T04:50:56.034Z"
   },
   {
    "duration": 9,
    "start_time": "2022-08-07T04:50:56.390Z"
   },
   {
    "duration": 30,
    "start_time": "2022-08-07T04:50:56.410Z"
   },
   {
    "duration": 4,
    "start_time": "2022-08-07T04:50:56.441Z"
   },
   {
    "duration": 13,
    "start_time": "2022-08-07T04:50:56.447Z"
   },
   {
    "duration": 7,
    "start_time": "2022-08-07T04:50:56.462Z"
   },
   {
    "duration": 69,
    "start_time": "2022-08-07T04:50:56.470Z"
   },
   {
    "duration": 88,
    "start_time": "2022-08-07T04:50:56.541Z"
   },
   {
    "duration": 23,
    "start_time": "2022-08-07T04:50:56.631Z"
   },
   {
    "duration": 79,
    "start_time": "2022-08-07T04:50:56.656Z"
   },
   {
    "duration": 84,
    "start_time": "2022-08-07T04:50:56.737Z"
   },
   {
    "duration": 60,
    "start_time": "2022-08-07T04:50:56.822Z"
   },
   {
    "duration": 9,
    "start_time": "2022-08-07T04:50:56.884Z"
   },
   {
    "duration": 20,
    "start_time": "2022-08-07T04:50:56.894Z"
   },
   {
    "duration": 19,
    "start_time": "2022-08-07T04:50:56.916Z"
   },
   {
    "duration": 6,
    "start_time": "2022-08-07T04:50:56.937Z"
   },
   {
    "duration": 41,
    "start_time": "2022-08-07T04:50:56.945Z"
   },
   {
    "duration": 41,
    "start_time": "2022-08-07T04:50:56.988Z"
   },
   {
    "duration": 5,
    "start_time": "2022-08-07T04:50:57.031Z"
   },
   {
    "duration": 862,
    "start_time": "2022-08-07T04:50:57.038Z"
   },
   {
    "duration": 1,
    "start_time": "2022-08-07T04:50:57.902Z"
   },
   {
    "duration": 1,
    "start_time": "2022-08-07T04:50:57.903Z"
   },
   {
    "duration": 0,
    "start_time": "2022-08-07T04:50:57.905Z"
   },
   {
    "duration": 0,
    "start_time": "2022-08-07T04:50:57.905Z"
   },
   {
    "duration": 0,
    "start_time": "2022-08-07T04:50:57.906Z"
   },
   {
    "duration": 0,
    "start_time": "2022-08-07T04:50:57.907Z"
   },
   {
    "duration": 0,
    "start_time": "2022-08-07T04:50:57.908Z"
   },
   {
    "duration": 0,
    "start_time": "2022-08-07T04:50:57.910Z"
   },
   {
    "duration": 0,
    "start_time": "2022-08-07T04:50:57.910Z"
   },
   {
    "duration": 0,
    "start_time": "2022-08-07T04:50:57.911Z"
   },
   {
    "duration": 0,
    "start_time": "2022-08-07T04:50:57.912Z"
   },
   {
    "duration": 0,
    "start_time": "2022-08-07T04:50:57.913Z"
   },
   {
    "duration": 0,
    "start_time": "2022-08-07T04:50:57.914Z"
   },
   {
    "duration": 0,
    "start_time": "2022-08-07T04:50:57.915Z"
   },
   {
    "duration": 0,
    "start_time": "2022-08-07T04:50:57.916Z"
   },
   {
    "duration": 0,
    "start_time": "2022-08-07T04:50:57.917Z"
   },
   {
    "duration": 0,
    "start_time": "2022-08-07T04:50:57.918Z"
   },
   {
    "duration": 4,
    "start_time": "2022-08-07T04:51:51.836Z"
   },
   {
    "duration": 784,
    "start_time": "2022-08-07T04:52:22.567Z"
   },
   {
    "duration": 4,
    "start_time": "2022-08-07T04:58:06.660Z"
   },
   {
    "duration": 4,
    "start_time": "2022-08-07T04:59:55.457Z"
   },
   {
    "duration": 814,
    "start_time": "2022-08-07T04:59:59.465Z"
   },
   {
    "duration": 3,
    "start_time": "2022-08-07T05:01:31.936Z"
   },
   {
    "duration": 7,
    "start_time": "2022-08-07T05:01:37.135Z"
   },
   {
    "duration": 16,
    "start_time": "2022-08-07T05:02:00.760Z"
   },
   {
    "duration": 5,
    "start_time": "2022-08-07T05:02:35.354Z"
   },
   {
    "duration": 17,
    "start_time": "2022-08-07T05:02:41.955Z"
   },
   {
    "duration": 14,
    "start_time": "2022-08-07T05:06:58.511Z"
   },
   {
    "duration": 15,
    "start_time": "2022-08-07T05:07:22.985Z"
   },
   {
    "duration": 15,
    "start_time": "2022-08-07T05:07:35.482Z"
   },
   {
    "duration": 15,
    "start_time": "2022-08-07T05:07:48.285Z"
   },
   {
    "duration": 15,
    "start_time": "2022-08-07T05:08:17.879Z"
   },
   {
    "duration": 17,
    "start_time": "2022-08-07T05:08:29.130Z"
   },
   {
    "duration": 14,
    "start_time": "2022-08-07T05:08:42.605Z"
   },
   {
    "duration": 7,
    "start_time": "2022-08-07T05:11:20.042Z"
   },
   {
    "duration": 8,
    "start_time": "2022-08-07T05:18:37.771Z"
   },
   {
    "duration": 410,
    "start_time": "2022-08-08T00:45:24.930Z"
   },
   {
    "duration": 342,
    "start_time": "2022-08-08T00:45:25.342Z"
   },
   {
    "duration": 20,
    "start_time": "2022-08-08T00:45:25.686Z"
   },
   {
    "duration": 49,
    "start_time": "2022-08-08T00:45:25.707Z"
   },
   {
    "duration": 36,
    "start_time": "2022-08-08T00:45:25.758Z"
   },
   {
    "duration": 37,
    "start_time": "2022-08-08T00:45:25.796Z"
   },
   {
    "duration": 33,
    "start_time": "2022-08-08T00:45:25.835Z"
   },
   {
    "duration": 61,
    "start_time": "2022-08-08T00:45:25.869Z"
   },
   {
    "duration": 63,
    "start_time": "2022-08-08T00:45:25.932Z"
   },
   {
    "duration": 24,
    "start_time": "2022-08-08T00:45:25.996Z"
   },
   {
    "duration": 76,
    "start_time": "2022-08-08T00:45:26.022Z"
   },
   {
    "duration": 89,
    "start_time": "2022-08-08T00:45:26.100Z"
   },
   {
    "duration": 64,
    "start_time": "2022-08-08T00:45:26.191Z"
   },
   {
    "duration": 7,
    "start_time": "2022-08-08T00:45:26.258Z"
   },
   {
    "duration": 10,
    "start_time": "2022-08-08T00:45:26.267Z"
   },
   {
    "duration": 19,
    "start_time": "2022-08-08T00:45:26.279Z"
   },
   {
    "duration": 11,
    "start_time": "2022-08-08T00:45:26.300Z"
   },
   {
    "duration": 37,
    "start_time": "2022-08-08T00:45:26.313Z"
   },
   {
    "duration": 33,
    "start_time": "2022-08-08T00:45:26.352Z"
   },
   {
    "duration": 5,
    "start_time": "2022-08-08T00:45:26.387Z"
   },
   {
    "duration": 22,
    "start_time": "2022-08-08T00:45:26.394Z"
   },
   {
    "duration": 29,
    "start_time": "2022-08-08T00:45:26.418Z"
   },
   {
    "duration": 15,
    "start_time": "2022-08-08T00:45:26.448Z"
   },
   {
    "duration": 17,
    "start_time": "2022-08-08T00:45:26.464Z"
   },
   {
    "duration": 19,
    "start_time": "2022-08-08T00:45:26.482Z"
   },
   {
    "duration": 36,
    "start_time": "2022-08-08T00:45:26.503Z"
   },
   {
    "duration": 64,
    "start_time": "2022-08-08T00:45:26.541Z"
   },
   {
    "duration": 0,
    "start_time": "2022-08-08T00:45:26.607Z"
   },
   {
    "duration": 0,
    "start_time": "2022-08-08T00:45:26.608Z"
   },
   {
    "duration": 0,
    "start_time": "2022-08-08T00:45:26.609Z"
   },
   {
    "duration": 0,
    "start_time": "2022-08-08T00:45:26.611Z"
   },
   {
    "duration": 0,
    "start_time": "2022-08-08T00:45:26.612Z"
   },
   {
    "duration": 0,
    "start_time": "2022-08-08T00:45:26.614Z"
   },
   {
    "duration": 0,
    "start_time": "2022-08-08T00:45:26.615Z"
   },
   {
    "duration": 0,
    "start_time": "2022-08-08T00:45:26.639Z"
   },
   {
    "duration": 0,
    "start_time": "2022-08-08T00:45:26.640Z"
   },
   {
    "duration": 0,
    "start_time": "2022-08-08T00:45:26.641Z"
   },
   {
    "duration": 0,
    "start_time": "2022-08-08T00:45:26.643Z"
   },
   {
    "duration": 0,
    "start_time": "2022-08-08T00:45:26.644Z"
   },
   {
    "duration": 7,
    "start_time": "2022-08-08T01:01:19.785Z"
   },
   {
    "duration": 15,
    "start_time": "2022-08-08T01:01:55.636Z"
   },
   {
    "duration": 3,
    "start_time": "2022-08-08T01:02:13.126Z"
   },
   {
    "duration": 279,
    "start_time": "2022-08-08T01:02:13.130Z"
   },
   {
    "duration": 10,
    "start_time": "2022-08-08T01:02:13.411Z"
   },
   {
    "duration": 41,
    "start_time": "2022-08-08T01:02:13.422Z"
   },
   {
    "duration": 6,
    "start_time": "2022-08-08T01:02:13.465Z"
   },
   {
    "duration": 42,
    "start_time": "2022-08-08T01:02:13.472Z"
   },
   {
    "duration": 3,
    "start_time": "2022-08-08T01:02:13.516Z"
   },
   {
    "duration": 54,
    "start_time": "2022-08-08T01:02:13.521Z"
   },
   {
    "duration": 50,
    "start_time": "2022-08-08T01:02:13.577Z"
   },
   {
    "duration": 30,
    "start_time": "2022-08-08T01:02:13.638Z"
   },
   {
    "duration": 88,
    "start_time": "2022-08-08T01:02:13.670Z"
   },
   {
    "duration": 59,
    "start_time": "2022-08-08T01:02:13.759Z"
   },
   {
    "duration": 63,
    "start_time": "2022-08-08T01:02:13.821Z"
   },
   {
    "duration": 7,
    "start_time": "2022-08-08T01:02:13.886Z"
   },
   {
    "duration": 4,
    "start_time": "2022-08-08T01:02:13.894Z"
   },
   {
    "duration": 19,
    "start_time": "2022-08-08T01:02:13.900Z"
   },
   {
    "duration": 7,
    "start_time": "2022-08-08T01:02:13.920Z"
   },
   {
    "duration": 45,
    "start_time": "2022-08-08T01:02:13.929Z"
   },
   {
    "duration": 28,
    "start_time": "2022-08-08T01:02:13.975Z"
   },
   {
    "duration": 5,
    "start_time": "2022-08-08T01:02:14.005Z"
   },
   {
    "duration": 38,
    "start_time": "2022-08-08T01:02:14.011Z"
   },
   {
    "duration": 20,
    "start_time": "2022-08-08T01:02:14.051Z"
   },
   {
    "duration": 16,
    "start_time": "2022-08-08T01:02:14.073Z"
   },
   {
    "duration": 13,
    "start_time": "2022-08-08T01:02:14.090Z"
   },
   {
    "duration": 15,
    "start_time": "2022-08-08T01:02:14.104Z"
   },
   {
    "duration": 36,
    "start_time": "2022-08-08T01:02:14.120Z"
   },
   {
    "duration": 11,
    "start_time": "2022-08-08T01:02:14.157Z"
   },
   {
    "duration": 7,
    "start_time": "2022-08-08T01:02:14.170Z"
   },
   {
    "duration": 5,
    "start_time": "2022-08-08T01:02:14.178Z"
   },
   {
    "duration": 5,
    "start_time": "2022-08-08T01:02:14.184Z"
   },
   {
    "duration": 77,
    "start_time": "2022-08-08T01:02:14.190Z"
   },
   {
    "duration": 0,
    "start_time": "2022-08-08T01:02:14.269Z"
   },
   {
    "duration": 0,
    "start_time": "2022-08-08T01:02:14.270Z"
   },
   {
    "duration": 0,
    "start_time": "2022-08-08T01:02:14.272Z"
   },
   {
    "duration": 0,
    "start_time": "2022-08-08T01:02:14.274Z"
   },
   {
    "duration": 0,
    "start_time": "2022-08-08T01:02:14.275Z"
   },
   {
    "duration": 0,
    "start_time": "2022-08-08T01:02:14.276Z"
   },
   {
    "duration": 0,
    "start_time": "2022-08-08T01:02:14.277Z"
   },
   {
    "duration": 0,
    "start_time": "2022-08-08T01:02:14.278Z"
   },
   {
    "duration": 20,
    "start_time": "2022-08-08T01:02:18.031Z"
   },
   {
    "duration": 3,
    "start_time": "2022-08-08T01:02:28.910Z"
   },
   {
    "duration": 280,
    "start_time": "2022-08-08T01:02:30.625Z"
   },
   {
    "duration": 10,
    "start_time": "2022-08-08T01:02:34.676Z"
   },
   {
    "duration": 27,
    "start_time": "2022-08-08T01:02:39.184Z"
   },
   {
    "duration": 7,
    "start_time": "2022-08-08T01:03:00.506Z"
   },
   {
    "duration": 61,
    "start_time": "2022-08-08T01:04:07.701Z"
   },
   {
    "duration": 46,
    "start_time": "2022-08-08T01:04:34.277Z"
   },
   {
    "duration": 7,
    "start_time": "2022-08-08T01:04:49.384Z"
   },
   {
    "duration": 60,
    "start_time": "2022-08-08T01:05:18.791Z"
   },
   {
    "duration": 54,
    "start_time": "2022-08-08T01:07:47.397Z"
   },
   {
    "duration": 51,
    "start_time": "2022-08-08T01:09:22.951Z"
   },
   {
    "duration": 51,
    "start_time": "2022-08-08T01:09:35.650Z"
   },
   {
    "duration": 14,
    "start_time": "2022-08-08T01:14:49.723Z"
   },
   {
    "duration": 12,
    "start_time": "2022-08-08T01:24:33.393Z"
   },
   {
    "duration": 12,
    "start_time": "2022-08-08T01:24:39.823Z"
   },
   {
    "duration": 44,
    "start_time": "2022-08-08T03:08:20.214Z"
   },
   {
    "duration": 6,
    "start_time": "2022-08-08T03:08:54.037Z"
   },
   {
    "duration": 6,
    "start_time": "2022-08-08T03:09:35.476Z"
   },
   {
    "duration": 397,
    "start_time": "2022-08-08T03:09:51.879Z"
   },
   {
    "duration": 314,
    "start_time": "2022-08-08T03:09:52.278Z"
   },
   {
    "duration": 9,
    "start_time": "2022-08-08T03:09:52.593Z"
   },
   {
    "duration": 28,
    "start_time": "2022-08-08T03:09:52.604Z"
   },
   {
    "duration": 3,
    "start_time": "2022-08-08T03:09:52.634Z"
   },
   {
    "duration": 17,
    "start_time": "2022-08-08T03:09:52.638Z"
   },
   {
    "duration": 7,
    "start_time": "2022-08-08T03:09:52.656Z"
   },
   {
    "duration": 49,
    "start_time": "2022-08-08T03:09:52.664Z"
   },
   {
    "duration": 54,
    "start_time": "2022-08-08T03:09:52.714Z"
   },
   {
    "duration": 32,
    "start_time": "2022-08-08T03:09:52.770Z"
   },
   {
    "duration": 55,
    "start_time": "2022-08-08T03:09:52.804Z"
   },
   {
    "duration": 85,
    "start_time": "2022-08-08T03:09:52.861Z"
   },
   {
    "duration": 57,
    "start_time": "2022-08-08T03:09:52.947Z"
   },
   {
    "duration": 7,
    "start_time": "2022-08-08T03:09:53.007Z"
   },
   {
    "duration": 6,
    "start_time": "2022-08-08T03:09:53.015Z"
   },
   {
    "duration": 16,
    "start_time": "2022-08-08T03:09:53.022Z"
   },
   {
    "duration": 22,
    "start_time": "2022-08-08T03:09:53.040Z"
   },
   {
    "duration": 32,
    "start_time": "2022-08-08T03:09:53.063Z"
   },
   {
    "duration": 25,
    "start_time": "2022-08-08T03:09:53.097Z"
   },
   {
    "duration": 4,
    "start_time": "2022-08-08T03:09:53.124Z"
   },
   {
    "duration": 21,
    "start_time": "2022-08-08T03:09:53.130Z"
   },
   {
    "duration": 11,
    "start_time": "2022-08-08T03:09:53.153Z"
   },
   {
    "duration": 12,
    "start_time": "2022-08-08T03:09:53.166Z"
   },
   {
    "duration": 31,
    "start_time": "2022-08-08T03:09:53.179Z"
   },
   {
    "duration": 14,
    "start_time": "2022-08-08T03:09:53.211Z"
   },
   {
    "duration": 19,
    "start_time": "2022-08-08T03:09:53.227Z"
   },
   {
    "duration": 25,
    "start_time": "2022-08-08T03:09:53.247Z"
   },
   {
    "duration": 0,
    "start_time": "2022-08-08T03:09:53.273Z"
   },
   {
    "duration": 0,
    "start_time": "2022-08-08T03:09:53.274Z"
   },
   {
    "duration": 0,
    "start_time": "2022-08-08T03:09:53.275Z"
   },
   {
    "duration": 0,
    "start_time": "2022-08-08T03:09:53.276Z"
   },
   {
    "duration": 0,
    "start_time": "2022-08-08T03:09:53.277Z"
   },
   {
    "duration": 0,
    "start_time": "2022-08-08T03:09:53.277Z"
   },
   {
    "duration": 0,
    "start_time": "2022-08-08T03:09:53.278Z"
   },
   {
    "duration": 0,
    "start_time": "2022-08-08T03:09:53.299Z"
   },
   {
    "duration": 0,
    "start_time": "2022-08-08T03:09:53.300Z"
   },
   {
    "duration": 0,
    "start_time": "2022-08-08T03:09:53.302Z"
   },
   {
    "duration": 0,
    "start_time": "2022-08-08T03:09:53.302Z"
   },
   {
    "duration": 0,
    "start_time": "2022-08-08T03:09:53.303Z"
   },
   {
    "duration": 7,
    "start_time": "2022-08-08T03:10:07.325Z"
   },
   {
    "duration": 8,
    "start_time": "2022-08-08T03:10:22.590Z"
   },
   {
    "duration": 8,
    "start_time": "2022-08-08T03:11:12.095Z"
   },
   {
    "duration": 56,
    "start_time": "2022-08-08T03:14:05.258Z"
   },
   {
    "duration": 49,
    "start_time": "2022-08-08T03:14:42.917Z"
   },
   {
    "duration": 48,
    "start_time": "2022-08-08T03:14:49.712Z"
   },
   {
    "duration": 80,
    "start_time": "2022-08-08T03:14:56.571Z"
   },
   {
    "duration": 3,
    "start_time": "2022-08-08T03:15:02.422Z"
   },
   {
    "duration": 280,
    "start_time": "2022-08-08T03:15:02.427Z"
   },
   {
    "duration": 9,
    "start_time": "2022-08-08T03:15:02.709Z"
   },
   {
    "duration": 31,
    "start_time": "2022-08-08T03:15:02.719Z"
   },
   {
    "duration": 4,
    "start_time": "2022-08-08T03:15:02.752Z"
   },
   {
    "duration": 19,
    "start_time": "2022-08-08T03:15:02.757Z"
   },
   {
    "duration": 9,
    "start_time": "2022-08-08T03:15:02.777Z"
   },
   {
    "duration": 58,
    "start_time": "2022-08-08T03:15:02.787Z"
   },
   {
    "duration": 45,
    "start_time": "2022-08-08T03:15:02.847Z"
   },
   {
    "duration": 20,
    "start_time": "2022-08-08T03:15:02.893Z"
   },
   {
    "duration": 61,
    "start_time": "2022-08-08T03:15:02.914Z"
   },
   {
    "duration": 72,
    "start_time": "2022-08-08T03:15:02.977Z"
   },
   {
    "duration": 52,
    "start_time": "2022-08-08T03:15:03.051Z"
   },
   {
    "duration": 6,
    "start_time": "2022-08-08T03:15:03.106Z"
   },
   {
    "duration": 6,
    "start_time": "2022-08-08T03:15:03.114Z"
   },
   {
    "duration": 19,
    "start_time": "2022-08-08T03:15:03.121Z"
   },
   {
    "duration": 7,
    "start_time": "2022-08-08T03:15:03.141Z"
   },
   {
    "duration": 38,
    "start_time": "2022-08-08T03:15:03.149Z"
   },
   {
    "duration": 41,
    "start_time": "2022-08-08T03:15:03.188Z"
   },
   {
    "duration": 5,
    "start_time": "2022-08-08T03:15:03.230Z"
   },
   {
    "duration": 19,
    "start_time": "2022-08-08T03:15:03.236Z"
   },
   {
    "duration": 12,
    "start_time": "2022-08-08T03:15:03.257Z"
   },
   {
    "duration": 31,
    "start_time": "2022-08-08T03:15:03.270Z"
   },
   {
    "duration": 15,
    "start_time": "2022-08-08T03:15:03.303Z"
   },
   {
    "duration": 15,
    "start_time": "2022-08-08T03:15:03.319Z"
   },
   {
    "duration": 14,
    "start_time": "2022-08-08T03:15:03.336Z"
   },
   {
    "duration": 128,
    "start_time": "2022-08-08T03:15:03.352Z"
   },
   {
    "duration": 33,
    "start_time": "2022-08-08T03:18:47.956Z"
   },
   {
    "duration": 12,
    "start_time": "2022-08-08T03:27:39.503Z"
   },
   {
    "duration": 12,
    "start_time": "2022-08-08T03:30:02.223Z"
   },
   {
    "duration": 12,
    "start_time": "2022-08-08T03:30:23.613Z"
   },
   {
    "duration": 12,
    "start_time": "2022-08-08T03:32:11.560Z"
   },
   {
    "duration": 12,
    "start_time": "2022-08-08T03:32:38.823Z"
   },
   {
    "duration": 12,
    "start_time": "2022-08-08T03:34:23.812Z"
   },
   {
    "duration": 5,
    "start_time": "2022-08-08T03:37:14.606Z"
   },
   {
    "duration": 10,
    "start_time": "2022-08-08T03:37:19.931Z"
   },
   {
    "duration": 9,
    "start_time": "2022-08-08T03:38:25.780Z"
   },
   {
    "duration": 14,
    "start_time": "2022-08-08T03:38:53.760Z"
   },
   {
    "duration": 12,
    "start_time": "2022-08-08T03:41:16.783Z"
   },
   {
    "duration": 12,
    "start_time": "2022-08-08T03:41:42.370Z"
   },
   {
    "duration": 2,
    "start_time": "2022-08-08T03:41:46.806Z"
   },
   {
    "duration": 254,
    "start_time": "2022-08-08T03:41:46.810Z"
   },
   {
    "duration": 9,
    "start_time": "2022-08-08T03:41:47.065Z"
   },
   {
    "duration": 32,
    "start_time": "2022-08-08T03:41:47.076Z"
   },
   {
    "duration": 4,
    "start_time": "2022-08-08T03:41:47.110Z"
   },
   {
    "duration": 14,
    "start_time": "2022-08-08T03:41:47.116Z"
   },
   {
    "duration": 4,
    "start_time": "2022-08-08T03:41:47.132Z"
   },
   {
    "duration": 39,
    "start_time": "2022-08-08T03:41:47.137Z"
   },
   {
    "duration": 65,
    "start_time": "2022-08-08T03:41:47.178Z"
   },
   {
    "duration": 21,
    "start_time": "2022-08-08T03:41:47.245Z"
   },
   {
    "duration": 73,
    "start_time": "2022-08-08T03:41:47.267Z"
   },
   {
    "duration": 72,
    "start_time": "2022-08-08T03:41:47.342Z"
   },
   {
    "duration": 49,
    "start_time": "2022-08-08T03:41:47.416Z"
   },
   {
    "duration": 8,
    "start_time": "2022-08-08T03:41:47.467Z"
   },
   {
    "duration": 3,
    "start_time": "2022-08-08T03:41:47.477Z"
   },
   {
    "duration": 9,
    "start_time": "2022-08-08T03:41:47.501Z"
   },
   {
    "duration": 61,
    "start_time": "2022-08-08T03:41:47.512Z"
   },
   {
    "duration": 41,
    "start_time": "2022-08-08T03:41:47.575Z"
   },
   {
    "duration": 30,
    "start_time": "2022-08-08T03:41:47.618Z"
   },
   {
    "duration": 4,
    "start_time": "2022-08-08T03:41:47.650Z"
   },
   {
    "duration": 24,
    "start_time": "2022-08-08T03:41:47.656Z"
   },
   {
    "duration": 28,
    "start_time": "2022-08-08T03:41:47.682Z"
   },
   {
    "duration": 14,
    "start_time": "2022-08-08T03:41:47.717Z"
   },
   {
    "duration": 12,
    "start_time": "2022-08-08T03:41:47.732Z"
   },
   {
    "duration": 15,
    "start_time": "2022-08-08T03:41:47.746Z"
   },
   {
    "duration": 39,
    "start_time": "2022-08-08T03:41:47.762Z"
   },
   {
    "duration": 12,
    "start_time": "2022-08-08T03:41:47.803Z"
   },
   {
    "duration": 13,
    "start_time": "2022-08-08T03:41:50.667Z"
   },
   {
    "duration": 53,
    "start_time": "2022-08-08T03:42:05.311Z"
   },
   {
    "duration": 12,
    "start_time": "2022-08-08T03:42:14.883Z"
   },
   {
    "duration": 13,
    "start_time": "2022-08-08T03:42:59.604Z"
   },
   {
    "duration": 51,
    "start_time": "2022-08-08T03:43:39.419Z"
   },
   {
    "duration": 14,
    "start_time": "2022-08-08T03:43:56.171Z"
   },
   {
    "duration": 14,
    "start_time": "2022-08-08T03:44:02.626Z"
   },
   {
    "duration": 47,
    "start_time": "2022-08-08T03:44:08.570Z"
   },
   {
    "duration": 13,
    "start_time": "2022-08-08T03:44:15.012Z"
   },
   {
    "duration": 12,
    "start_time": "2022-08-08T03:44:34.467Z"
   },
   {
    "duration": 19,
    "start_time": "2022-08-08T03:45:46.196Z"
   },
   {
    "duration": 12,
    "start_time": "2022-08-08T03:49:20.918Z"
   },
   {
    "duration": 5,
    "start_time": "2022-08-08T03:50:31.786Z"
   },
   {
    "duration": 8,
    "start_time": "2022-08-08T03:50:39.763Z"
   },
   {
    "duration": 7,
    "start_time": "2022-08-08T03:52:21.843Z"
   },
   {
    "duration": 4,
    "start_time": "2022-08-08T03:52:28.783Z"
   },
   {
    "duration": 4,
    "start_time": "2022-08-08T04:02:12.078Z"
   },
   {
    "duration": 11,
    "start_time": "2022-08-08T04:02:15.446Z"
   },
   {
    "duration": 12,
    "start_time": "2022-08-08T04:02:36.254Z"
   },
   {
    "duration": 4,
    "start_time": "2022-08-08T04:02:43.372Z"
   },
   {
    "duration": 7,
    "start_time": "2022-08-08T04:02:45.010Z"
   },
   {
    "duration": 3,
    "start_time": "2022-08-08T04:07:06.241Z"
   },
   {
    "duration": 10,
    "start_time": "2022-08-08T04:07:11.979Z"
   },
   {
    "duration": 6,
    "start_time": "2022-08-08T04:08:07.070Z"
   },
   {
    "duration": 8,
    "start_time": "2022-08-08T04:10:16.395Z"
   },
   {
    "duration": 57,
    "start_time": "2022-08-08T04:13:37.782Z"
   },
   {
    "duration": 51,
    "start_time": "2022-08-08T04:13:56.780Z"
   },
   {
    "duration": 50,
    "start_time": "2022-08-08T04:14:14.894Z"
   },
   {
    "duration": 49,
    "start_time": "2022-08-08T04:26:27.607Z"
   },
   {
    "duration": 50,
    "start_time": "2022-08-08T04:28:07.965Z"
   },
   {
    "duration": 45,
    "start_time": "2022-08-08T04:28:20.486Z"
   },
   {
    "duration": 10,
    "start_time": "2022-08-08T04:28:42.342Z"
   },
   {
    "duration": 9,
    "start_time": "2022-08-08T04:29:29.639Z"
   },
   {
    "duration": 8,
    "start_time": "2022-08-08T04:29:53.628Z"
   },
   {
    "duration": 372,
    "start_time": "2022-08-08T14:05:48.401Z"
   },
   {
    "duration": 376,
    "start_time": "2022-08-08T14:05:48.775Z"
   },
   {
    "duration": 9,
    "start_time": "2022-08-08T14:05:49.153Z"
   },
   {
    "duration": 27,
    "start_time": "2022-08-08T14:05:49.164Z"
   },
   {
    "duration": 3,
    "start_time": "2022-08-08T14:05:49.193Z"
   },
   {
    "duration": 14,
    "start_time": "2022-08-08T14:05:49.198Z"
   },
   {
    "duration": 26,
    "start_time": "2022-08-08T14:05:49.213Z"
   },
   {
    "duration": 42,
    "start_time": "2022-08-08T14:05:49.241Z"
   },
   {
    "duration": 69,
    "start_time": "2022-08-08T14:05:49.285Z"
   },
   {
    "duration": 22,
    "start_time": "2022-08-08T14:05:49.358Z"
   },
   {
    "duration": 71,
    "start_time": "2022-08-08T14:05:49.382Z"
   },
   {
    "duration": 65,
    "start_time": "2022-08-08T14:05:49.455Z"
   },
   {
    "duration": 60,
    "start_time": "2022-08-08T14:05:49.522Z"
   },
   {
    "duration": 8,
    "start_time": "2022-08-08T14:05:49.584Z"
   },
   {
    "duration": 3,
    "start_time": "2022-08-08T14:05:49.594Z"
   },
   {
    "duration": 11,
    "start_time": "2022-08-08T14:05:49.598Z"
   },
   {
    "duration": 29,
    "start_time": "2022-08-08T14:05:49.610Z"
   },
   {
    "duration": 30,
    "start_time": "2022-08-08T14:05:49.641Z"
   },
   {
    "duration": 35,
    "start_time": "2022-08-08T14:05:49.673Z"
   },
   {
    "duration": 6,
    "start_time": "2022-08-08T14:05:49.709Z"
   },
   {
    "duration": 14,
    "start_time": "2022-08-08T14:05:49.739Z"
   },
   {
    "duration": 13,
    "start_time": "2022-08-08T14:05:49.754Z"
   },
   {
    "duration": 13,
    "start_time": "2022-08-08T14:05:49.769Z"
   },
   {
    "duration": 18,
    "start_time": "2022-08-08T14:05:49.783Z"
   },
   {
    "duration": 40,
    "start_time": "2022-08-08T14:05:49.803Z"
   },
   {
    "duration": 12,
    "start_time": "2022-08-08T14:05:49.844Z"
   },
   {
    "duration": 4,
    "start_time": "2022-08-08T14:05:49.857Z"
   },
   {
    "duration": 7,
    "start_time": "2022-08-08T14:05:49.864Z"
   },
   {
    "duration": 11,
    "start_time": "2022-08-08T14:05:49.872Z"
   },
   {
    "duration": 5,
    "start_time": "2022-08-08T14:05:49.885Z"
   },
   {
    "duration": 155,
    "start_time": "2022-08-08T14:05:49.892Z"
   },
   {
    "duration": 0,
    "start_time": "2022-08-08T14:05:50.049Z"
   },
   {
    "duration": 0,
    "start_time": "2022-08-08T14:05:50.050Z"
   },
   {
    "duration": 0,
    "start_time": "2022-08-08T14:05:50.052Z"
   },
   {
    "duration": 0,
    "start_time": "2022-08-08T14:05:50.053Z"
   },
   {
    "duration": 0,
    "start_time": "2022-08-08T14:05:50.054Z"
   },
   {
    "duration": 0,
    "start_time": "2022-08-08T14:05:50.056Z"
   },
   {
    "duration": 0,
    "start_time": "2022-08-08T14:05:50.057Z"
   },
   {
    "duration": 0,
    "start_time": "2022-08-08T14:05:50.058Z"
   },
   {
    "duration": 66,
    "start_time": "2022-08-08T14:07:31.620Z"
   },
   {
    "duration": 18,
    "start_time": "2022-08-08T14:11:52.708Z"
   },
   {
    "duration": 19,
    "start_time": "2022-08-08T14:12:16.532Z"
   },
   {
    "duration": 11,
    "start_time": "2022-08-08T14:12:34.620Z"
   },
   {
    "duration": 17,
    "start_time": "2022-08-08T14:13:13.792Z"
   },
   {
    "duration": 20,
    "start_time": "2022-08-08T14:13:22.247Z"
   },
   {
    "duration": 52,
    "start_time": "2022-08-08T15:04:43.677Z"
   },
   {
    "duration": 51,
    "start_time": "2022-08-08T15:05:25.284Z"
   },
   {
    "duration": 114,
    "start_time": "2022-08-08T15:05:43.339Z"
   },
   {
    "duration": 75,
    "start_time": "2022-08-08T15:47:55.013Z"
   },
   {
    "duration": 3,
    "start_time": "2022-08-08T15:48:04.759Z"
   },
   {
    "duration": 268,
    "start_time": "2022-08-08T15:48:04.763Z"
   },
   {
    "duration": 14,
    "start_time": "2022-08-08T15:48:05.038Z"
   },
   {
    "duration": 27,
    "start_time": "2022-08-08T15:48:05.054Z"
   },
   {
    "duration": 4,
    "start_time": "2022-08-08T15:48:05.083Z"
   },
   {
    "duration": 10,
    "start_time": "2022-08-08T15:48:05.089Z"
   },
   {
    "duration": 3,
    "start_time": "2022-08-08T15:48:05.100Z"
   },
   {
    "duration": 77,
    "start_time": "2022-08-08T15:48:05.105Z"
   },
   {
    "duration": 58,
    "start_time": "2022-08-08T15:48:05.184Z"
   },
   {
    "duration": 27,
    "start_time": "2022-08-08T15:48:05.244Z"
   },
   {
    "duration": 67,
    "start_time": "2022-08-08T15:48:05.273Z"
   },
   {
    "duration": 69,
    "start_time": "2022-08-08T15:48:05.341Z"
   },
   {
    "duration": 68,
    "start_time": "2022-08-08T15:48:05.411Z"
   },
   {
    "duration": 6,
    "start_time": "2022-08-08T15:48:05.481Z"
   },
   {
    "duration": 5,
    "start_time": "2022-08-08T15:48:05.488Z"
   },
   {
    "duration": 11,
    "start_time": "2022-08-08T15:48:05.494Z"
   },
   {
    "duration": 5,
    "start_time": "2022-08-08T15:48:05.507Z"
   },
   {
    "duration": 61,
    "start_time": "2022-08-08T15:48:05.513Z"
   },
   {
    "duration": 28,
    "start_time": "2022-08-08T15:48:05.576Z"
   },
   {
    "duration": 4,
    "start_time": "2022-08-08T15:48:05.606Z"
   },
   {
    "duration": 41,
    "start_time": "2022-08-08T15:48:05.611Z"
   },
   {
    "duration": 24,
    "start_time": "2022-08-08T15:48:05.653Z"
   },
   {
    "duration": 16,
    "start_time": "2022-08-08T15:48:05.679Z"
   },
   {
    "duration": 17,
    "start_time": "2022-08-08T15:48:05.697Z"
   },
   {
    "duration": 33,
    "start_time": "2022-08-08T15:48:05.716Z"
   },
   {
    "duration": 14,
    "start_time": "2022-08-08T15:48:05.751Z"
   },
   {
    "duration": 4,
    "start_time": "2022-08-08T15:48:05.766Z"
   },
   {
    "duration": 14,
    "start_time": "2022-08-08T15:48:05.771Z"
   },
   {
    "duration": 21,
    "start_time": "2022-08-08T15:48:05.786Z"
   },
   {
    "duration": 31,
    "start_time": "2022-08-08T15:48:05.809Z"
   },
   {
    "duration": 48,
    "start_time": "2022-08-08T15:48:11.978Z"
   },
   {
    "duration": 57,
    "start_time": "2022-08-08T15:48:49.821Z"
   },
   {
    "duration": 53,
    "start_time": "2022-08-08T15:49:10.859Z"
   },
   {
    "duration": 60,
    "start_time": "2022-08-08T15:49:13.421Z"
   },
   {
    "duration": 56,
    "start_time": "2022-08-08T15:49:15.918Z"
   },
   {
    "duration": 85,
    "start_time": "2022-08-08T15:49:18.423Z"
   },
   {
    "duration": 171,
    "start_time": "2022-08-08T15:49:30.381Z"
   },
   {
    "duration": 5,
    "start_time": "2022-08-08T15:53:26.289Z"
   },
   {
    "duration": 4,
    "start_time": "2022-08-08T15:53:30.408Z"
   },
   {
    "duration": 9,
    "start_time": "2022-08-08T15:53:51.220Z"
   },
   {
    "duration": 8,
    "start_time": "2022-08-08T15:54:03.105Z"
   },
   {
    "duration": 8,
    "start_time": "2022-08-08T15:54:12.131Z"
   },
   {
    "duration": 9,
    "start_time": "2022-08-08T15:56:04.662Z"
   },
   {
    "duration": 9,
    "start_time": "2022-08-08T15:56:06.652Z"
   },
   {
    "duration": 9,
    "start_time": "2022-08-08T15:56:33.705Z"
   },
   {
    "duration": 8,
    "start_time": "2022-08-08T15:57:53.380Z"
   },
   {
    "duration": 8,
    "start_time": "2022-08-08T15:58:08.709Z"
   },
   {
    "duration": 2,
    "start_time": "2022-08-08T15:58:12.070Z"
   },
   {
    "duration": 268,
    "start_time": "2022-08-08T15:58:12.073Z"
   },
   {
    "duration": 13,
    "start_time": "2022-08-08T15:58:12.343Z"
   },
   {
    "duration": 26,
    "start_time": "2022-08-08T15:58:12.358Z"
   },
   {
    "duration": 3,
    "start_time": "2022-08-08T15:58:12.386Z"
   },
   {
    "duration": 8,
    "start_time": "2022-08-08T15:58:12.391Z"
   },
   {
    "duration": 4,
    "start_time": "2022-08-08T15:58:12.401Z"
   },
   {
    "duration": 80,
    "start_time": "2022-08-08T15:58:12.406Z"
   },
   {
    "duration": 68,
    "start_time": "2022-08-08T15:58:12.488Z"
   },
   {
    "duration": 22,
    "start_time": "2022-08-08T15:58:12.557Z"
   },
   {
    "duration": 68,
    "start_time": "2022-08-08T15:58:12.580Z"
   },
   {
    "duration": 57,
    "start_time": "2022-08-08T15:58:12.650Z"
   },
   {
    "duration": 70,
    "start_time": "2022-08-08T15:58:12.709Z"
   },
   {
    "duration": 6,
    "start_time": "2022-08-08T15:58:12.781Z"
   },
   {
    "duration": 3,
    "start_time": "2022-08-08T15:58:12.788Z"
   },
   {
    "duration": 11,
    "start_time": "2022-08-08T15:58:12.792Z"
   },
   {
    "duration": 5,
    "start_time": "2022-08-08T15:58:12.804Z"
   },
   {
    "duration": 57,
    "start_time": "2022-08-08T15:58:12.810Z"
   },
   {
    "duration": 27,
    "start_time": "2022-08-08T15:58:12.869Z"
   },
   {
    "duration": 6,
    "start_time": "2022-08-08T15:58:12.897Z"
   },
   {
    "duration": 37,
    "start_time": "2022-08-08T15:58:12.904Z"
   },
   {
    "duration": 17,
    "start_time": "2022-08-08T15:58:12.943Z"
   },
   {
    "duration": 12,
    "start_time": "2022-08-08T15:58:12.962Z"
   },
   {
    "duration": 21,
    "start_time": "2022-08-08T15:58:12.977Z"
   },
   {
    "duration": 13,
    "start_time": "2022-08-08T15:58:13.000Z"
   },
   {
    "duration": 30,
    "start_time": "2022-08-08T15:58:13.014Z"
   },
   {
    "duration": 11,
    "start_time": "2022-08-08T15:58:13.046Z"
   },
   {
    "duration": 7,
    "start_time": "2022-08-08T15:58:13.059Z"
   },
   {
    "duration": 18,
    "start_time": "2022-08-08T15:58:13.068Z"
   },
   {
    "duration": 16,
    "start_time": "2022-08-08T15:58:13.087Z"
   },
   {
    "duration": 8,
    "start_time": "2022-08-08T15:58:13.104Z"
   },
   {
    "duration": 11,
    "start_time": "2022-08-08T15:59:19.178Z"
   },
   {
    "duration": 9,
    "start_time": "2022-08-08T15:59:29.332Z"
   },
   {
    "duration": 8,
    "start_time": "2022-08-08T16:00:36.612Z"
   },
   {
    "duration": 11,
    "start_time": "2022-08-08T16:01:56.840Z"
   },
   {
    "duration": 9,
    "start_time": "2022-08-08T16:01:58.751Z"
   },
   {
    "duration": 9,
    "start_time": "2022-08-08T16:02:00.959Z"
   },
   {
    "duration": 8,
    "start_time": "2022-08-08T16:02:03.072Z"
   },
   {
    "duration": 9,
    "start_time": "2022-08-08T16:02:05.489Z"
   },
   {
    "duration": 8,
    "start_time": "2022-08-08T16:02:07.251Z"
   },
   {
    "duration": 9,
    "start_time": "2022-08-08T16:02:09.711Z"
   },
   {
    "duration": 5,
    "start_time": "2022-08-08T16:02:35.976Z"
   },
   {
    "duration": 6,
    "start_time": "2022-08-08T16:02:39.665Z"
   },
   {
    "duration": 2,
    "start_time": "2022-08-08T16:02:42.517Z"
   },
   {
    "duration": 6,
    "start_time": "2022-08-08T16:02:46.022Z"
   },
   {
    "duration": 4,
    "start_time": "2022-08-08T16:07:16.587Z"
   },
   {
    "duration": 6,
    "start_time": "2022-08-08T16:08:38.578Z"
   },
   {
    "duration": 750,
    "start_time": "2022-08-08T16:08:48.628Z"
   },
   {
    "duration": 836,
    "start_time": "2022-08-08T16:08:51.784Z"
   },
   {
    "duration": 793,
    "start_time": "2022-08-08T16:08:55.446Z"
   },
   {
    "duration": 3,
    "start_time": "2022-08-08T16:08:56.443Z"
   },
   {
    "duration": 2158,
    "start_time": "2022-08-08T16:10:02.324Z"
   },
   {
    "duration": 881,
    "start_time": "2022-08-08T16:10:05.085Z"
   },
   {
    "duration": 1338,
    "start_time": "2022-08-08T16:10:08.477Z"
   }
  ],
  "colab": {
   "collapsed_sections": [
    "E0vqbgi9ay0H",
    "VUC88oWjTJw2",
    "atZAxtq4_Zcu"
   ],
   "name": "EmptyFinalProject.ipynb\"",
   "provenance": []
  },
  "kernelspec": {
   "display_name": "Python 3 (ipykernel)",
   "language": "python",
   "name": "python3"
  },
  "language_info": {
   "codemirror_mode": {
    "name": "ipython",
    "version": 3
   },
   "file_extension": ".py",
   "mimetype": "text/x-python",
   "name": "python",
   "nbconvert_exporter": "python",
   "pygments_lexer": "ipython3",
   "version": "3.9.5"
  },
  "toc": {
   "base_numbering": 1,
   "nav_menu": {},
   "number_sections": true,
   "sideBar": true,
   "skip_h1_title": true,
   "title_cell": "Table of Contents",
   "title_sidebar": "Contents",
   "toc_cell": false,
   "toc_position": {},
   "toc_section_display": true,
   "toc_window_display": false
  }
 },
 "nbformat": 4,
 "nbformat_minor": 4
}
